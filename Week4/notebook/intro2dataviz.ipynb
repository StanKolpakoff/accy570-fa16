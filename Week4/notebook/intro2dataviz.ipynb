{
 "cells": [
  {
   "cell_type": "markdown",
   "metadata": {},
   "source": [
    "<DIV ALIGN=CENTER>\n",
    "\n",
    "# Introduction to Distribution Visualizations\n",
    "## Professor Robert J. Brunner\n",
    "  \n",
    "</DIV>  \n",
    "-----\n",
    "-----"
   ]
  },
  {
   "cell_type": "markdown",
   "metadata": {},
   "source": [
    "\n",
    "Note: We will always use this line to ensure that all figures appear inline within an iPython notebook.\n",
    "\n",
    "-----"
   ]
  },
  {
   "cell_type": "code",
   "execution_count": 1,
   "metadata": {
    "collapsed": false
   },
   "outputs": [],
   "source": [
    "%matplotlib inline"
   ]
  },
  {
   "cell_type": "markdown",
   "metadata": {},
   "source": [
    "## Histograms\n",
    "\n",
    "A [histogram](http://en.wikipedia.org/wiki/Histogram) is a binned\n",
    "representation of a data set. As a result, it provides a concise\n",
    "representation of a data along one dimension, where the size of the\n",
    "representation is determined solely by the number of bins used and not\n",
    "the total number of data points. As a result, it can be used to provide\n",
    "a concise summary of a very large data set. \n",
    "\n",
    "### Binning\n",
    "\n",
    "Sometimes the binning can be determined easily, for example, months of\n",
    "the year or days of the week might provide natural bins. Other times,\n",
    "both the number of bins and the bin ranges will need to be determined\n",
    "before the histogram is constructed. A general rule of thumb is that if\n",
    "you have N data points you should have root-three N bins. The following\n",
    "code summarizes the results form this formula:\n",
    "\n",
    "-----"
   ]
  },
  {
   "cell_type": "code",
   "execution_count": 2,
   "metadata": {
    "collapsed": false
   },
   "outputs": [
    {
     "name": "stdout",
     "output_type": "stream",
     "text": [
      "       10\t   3\n",
      "\n",
      "      100\t   5\n",
      "\n",
      "     1000\t  10\n",
      "\n",
      "    10000\t  22\n",
      "\n",
      "   100000\t  47\n",
      "\n",
      "  1000000\t 100\n",
      "\n",
      " 10000000\t 216\n",
      "\n"
     ]
    }
   ],
   "source": [
    "# We need to import the math library for the ceil method, which returns the next largest \n",
    "# integer to a floating point value\n",
    "\n",
    "import math as ma\n",
    "\n",
    "# We want to loop from 10 to 100,000,000\n",
    "for i in range(1,8):\n",
    "    \n",
    "    # Now print out the integer value, and the number of bins\n",
    "    # We used a math trick here, 10**i**(1/3) = 10**(i/3)\n",
    "    print(\"{0:9d}\\t{1:4d}\\n\".format(10**i, ma.ceil(pow(10, i/3.))))"
   ]
  },
  {
   "cell_type": "markdown",
   "metadata": {},
   "source": [
    "-----\n",
    "\n",
    "### Making a Histogram\n",
    "\n",
    "Now we are in position to actually demonstrate how to make and display a\n",
    "histogram by using matplotlib. We first will need data, which for this\n",
    "example we create by randomly generating data. We also start by using\n",
    "the default number of bins, which is ten, and bin range, which is the\n",
    "minimum and maximum data values.\n",
    "\n",
    "-----"
   ]
  },
  {
   "cell_type": "code",
   "execution_count": 3,
   "metadata": {
    "collapsed": false
   },
   "outputs": [
    {
     "data": {
      "image/png": "[encoded data removed]",
      "text/plain": [
       "<matplotlib.figure.Figure at 0x7f5db1aeba20>"
      ]
     },
     "metadata": {},
     "output_type": "display_data"
    }
   ],
   "source": [
    "# First we need to import matplotlib and numpy\n",
    "import matplotlib.pyplot as plt\n",
    "import numpy as np\n",
    "\n",
    "# Now we create our figure and axes for the plot we will make.\n",
    "fig, ax = plt.subplots()\n",
    "\n",
    "# Now we generate something to plot. In this case, we will need lots of data \n",
    "# that are randomly sampled from a particular function.\n",
    "\n",
    "x = np.linspace(0, 100, 10000)\n",
    "y = x + np.random.uniform(-10, 10, 10000)\n",
    "\n",
    "# Now we want to make a default histogram\n",
    "ax.hist(y)# , bins=10 , histtype='stepfilled', normed=False, color='BurlyWood', label='Gaussian')\n",
    "\n",
    "# Set our axis labels and plot title\n",
    "ax.set_title(\"Histogram\")\n",
    "ax.set_xlabel(\"Value\")\n",
    "ax.set_ylabel(\"Frequency\")\n",
    "\n",
    "#Show final result\n",
    "plt.show()"
   ]
  },
  {
   "cell_type": "markdown",
   "metadata": {},
   "source": [
    "-----\n",
    "\n",
    "In this simple example, we first construct random data in a similar\n",
    "manner as we did when making scatter plots in the previous lesson. We\n",
    "first create an  array of 10,000 elements that are linearly spaced\n",
    "between 0 and 100. This array is used to create a second array, where\n",
    "each value has now been perturbed by a randomly selected value between\n",
    "-10 and 10. If we did not do this random perturbation the histogram\n",
    "would be flat since we have the same number of values in each bin.\n",
    "Matplotlib automatically creates the ten bins and computes the frequency\n",
    "with which values in the input data set occur in each bin and plots the\n",
    "results.\n",
    "\n",
    "### Histogram Options\n",
    "\n",
    "Now that our first histogram is completed, we can look at changing the\n",
    "default selections, such as the number of bins, the bin centers, and the\n",
    "color and style of the histogram bins. These values can all be changed\n",
    "by passing parameters into the histogram function. \n",
    "\n",
    "First, the number and locations of the bins used to construct the\n",
    "histogram can be specified by using the bin parameter. There are several\n",
    "different ways to control this parameter:\n",
    "\n",
    "- `bins = 22` will give twenty-two bins\n",
    "- `bins = (0,20,90,100)` will produce three bins that span 0-20, 20-90,\n",
    "and 90-100, respectively.\n",
    "- `bins = np.linspace(0, 100, 100)` will produce one hundred bins\n",
    "linearly spaced between zero and one hundred.\n",
    "\n",
    "Second, there are four different types of histogram plots that you cane\n",
    "make: `bar`, `barstacked`, `step`, and `stepfilled`, with `bar` being\n",
    "the default value. Third, you can specify the line or fill color of the\n",
    "bins by defining the `color` parameter. For example, `color =\n",
    "'BurlyWood'` will set the histogram color to be the web-safe color\n",
    "`BurlyWood`. For more color examples, see the [HTML color\n",
    "name](http://www.w3schools.com/html/html_colornames.asp) page, other\n",
    "colors that you might try to use include AntiqueWhite, DarkSalmon,\n",
    "DarkTurquoise, IndianRed, or PeachPuff.  Use the following code example\n",
    "to see how these parameters change the appearance of the sample\n",
    "histogram.\n",
    "\n",
    "-----"
   ]
  },
  {
   "cell_type": "code",
   "execution_count": 4,
   "metadata": {
    "collapsed": false
   },
   "outputs": [
    {
     "data": {
      "image/png": "[encoded data removed]",
      "text/plain": [
       "<matplotlib.figure.Figure at 0x7f5db19f9f98>"
      ]
     },
     "metadata": {},
     "output_type": "display_data"
    }
   ],
   "source": [
    "# First we need to import matplotlib and numpy\n",
    "import matplotlib.pyplot as plt\n",
    "import numpy as np\n",
    "\n",
    "# Now we create our figure and axes for the plot we will make.\n",
    "fig, ax = plt.subplots()\n",
    "\n",
    "# Now we generate something to plot. In this case, we will need lots of data \n",
    "# that are randomly sampled from a particular function.\n",
    "\n",
    "x = np.linspace(0, 100, 10000)\n",
    "y = x + np.random.uniform(-10, 10, 10000)\n",
    "\n",
    "# Now we want to make a modified histogram\n",
    "ax.hist(y, bins=20, histtype='stepfilled', color='BurlyWood')\n",
    "\n",
    "# Set our axis labels and plot title\n",
    "ax.set_title(\"Histogram\")\n",
    "ax.set_xlabel(\"Value\")\n",
    "ax.set_ylabel(\"Frequency\")\n",
    "\n",
    "#Show final result\n",
    "plt.show()"
   ]
  },
  {
   "cell_type": "markdown",
   "metadata": {},
   "source": [
    "-----\n",
    "\n",
    "### Histogram Range\n",
    "\n",
    "Sometimes the frequency counts can very dramatically between bins. In\n",
    "that case, it is often convenient to change the presentation of the\n",
    "frequency counts to improve the discrimination of different bin counts.\n",
    "This can easily be accomplished by changing the vertical axis to display\n",
    "the logarithm of the frequency count, which is done by setting the\n",
    "optional parameter `log` to `True`. in the following example, see the\n",
    "difference in the generated histogram by changing to a log histogram by\n",
    "setting `log=True` in the histogram method.\n",
    "\n",
    "-----"
   ]
  },
  {
   "cell_type": "code",
   "execution_count": 5,
   "metadata": {
    "collapsed": false
   },
   "outputs": [
    {
     "data": {
      "image/png": "[encoded data removed]",
      "text/plain": [
       "<matplotlib.figure.Figure at 0x7f5daecfbb70>"
      ]
     },
     "metadata": {},
     "output_type": "display_data"
    }
   ],
   "source": [
    "# First we need to import matplotlib and numpy\n",
    "import matplotlib.pyplot as plt\n",
    "import numpy as np\n",
    "\n",
    "# Now we create our figure and axes for the plot we will make.\n",
    "fig, ax = plt.subplots()\n",
    "\n",
    "# Now we generate something to plot. In this case, we will need data \n",
    "# that are randomly sampled, but we want the to be non-uniform\n",
    "\n",
    "x = np.sqrt(np.linspace(0, 10000, 10000))\n",
    "y = x + np.random.uniform(-10, 10, 10000)\n",
    "\n",
    "ax.hist(y, bins=20 , histtype='step', color='BurlyWood', log=False)\n",
    "\n",
    "ax.set_title(\"Histogram\")\n",
    "ax.set_xlabel(\"Value\")\n",
    "ax.set_ylabel(\"Frequency\")\n",
    "ax.set_xlim(-15, 115)\n",
    "plt.show()"
   ]
  },
  {
   "cell_type": "markdown",
   "metadata": {},
   "source": [
    "-----\n",
    "\n",
    "### Probability\n",
    "\n",
    "Another use of a histogram is to display the normalized frequency\n",
    "counts, which can also be interpreted as the probability that a\n",
    "particular value lies within a given bin. Formally, this is computed by\n",
    "diving the bin counts by the total counts (or frequencies of occurrence\n",
    "by the total number of occurrences). But with matplotlib, we simply need\n",
    "to set the optional `normed` parameter to `True`. The values on the\n",
    "y-axis will now be the normalized probability for a value to lie within\n",
    "the bin, which means that the total probability musty be multiplied by\n",
    "the width of the bin (as can be seen in the examples).\n",
    "\n",
    "Note that we now change the y-axis label to __Probability__ reflect the\n",
    "change in what is being displayed.\n",
    "\n",
    "-----"
   ]
  },
  {
   "cell_type": "code",
   "execution_count": 6,
   "metadata": {
    "collapsed": false
   },
   "outputs": [
    {
     "data": {
      "image/png": "[encoded data removed]",
      "text/plain": [
       "<matplotlib.figure.Figure at 0x7f5daec3f7b8>"
      ]
     },
     "metadata": {},
     "output_type": "display_data"
    }
   ],
   "source": [
    "# First we need to import matplotlib and numpy\n",
    "import matplotlib.pyplot as plt\n",
    "import numpy as np\n",
    "\n",
    "# Now we create our figure and axes for the plot we will make.\n",
    "fig, ax = plt.subplots()\n",
    "\n",
    "# Now we generate something to plot. In this case, we will need data \n",
    "# that are randomly sampled from a particular function.\n",
    "\n",
    "x = np.linspace(0,100, 10000)\n",
    "y1 = x + np.random.uniform(-10, 10, 10000)\n",
    "y2 = x + np.random.uniform(-25, 25, 10000)\n",
    "\n",
    "ax.hist(y1, bins=20 , histtype='bar', normed=True, color='BurlyWood')\n",
    "\n",
    "# Complete the plot, but change the y-axis labal accordingly\n",
    "ax.set_title(\"Histogram\")\n",
    "ax.set_xlabel(\"Value\")\n",
    "ax.set_ylabel(\"Probability\")\n",
    "ax.set_xlim(-15, 115)\n",
    "plt.show()"
   ]
  },
  {
   "cell_type": "markdown",
   "metadata": {},
   "source": [
    "-----\n",
    "\n",
    "### Multiple Histograms\n",
    "\n",
    "In certain cases, it may be instructive to compare two distributions\n",
    "directly within the same plot. For example, if you have computed a\n",
    "histgoram of the ages of people in a population, you might want to\n",
    "differentiate the male and female populations in separate histograms for\n",
    "comparison. This can easily be done by simply overplotting two\n",
    "histograms. In the following example, we create two populations: y1 and\n",
    "y2, and display their histograms within the same plot window. Note that\n",
    "by default, the two histograms will be overplotted, so to allow both to\n",
    "be seen, we set the `alpha` parameter in the second one, which make the\n",
    "second histogram somewhat transparent (based on the value assigned to\n",
    "the `alpha` parameter).\n",
    "\n",
    "We also assign a label to each histogram, so that the `legend` method\n",
    "can be used to differentiate between the two histograms.\n",
    "\n",
    "-----"
   ]
  },
  {
   "cell_type": "code",
   "execution_count": 7,
   "metadata": {
    "collapsed": false
   },
   "outputs": [
    {
     "data": {
      "image/png": "[encoded data removed]",
      "text/plain": [
       "<matplotlib.figure.Figure at 0x7f5daebc37f0>"
      ]
     },
     "metadata": {},
     "output_type": "display_data"
    }
   ],
   "source": [
    "# First we need to import matplotlib and numpy\n",
    "import matplotlib.pyplot as plt\n",
    "import numpy as np\n",
    "\n",
    "# Now we create our figure and axes for the plot we will make.\n",
    "fig, ax = plt.subplots()\n",
    "\n",
    "# Now we generate something to plot. In this case, we will need data \n",
    "# that are randomly sampled from a particular function.\n",
    "\n",
    "x = np.linspace(0,100, 10000)\n",
    "y1 = x + np.random.uniform(-10, 10, 10000)\n",
    "y2 = x + np.random.uniform(-25, 25, 10000)\n",
    "\n",
    "mybins = np.linspace(-20,120,20)\n",
    "ax.hist(y1, bins=mybins, histtype='bar', normed=True, color='BurlyWood', label='Type A')\n",
    "ax.hist(y2, bins=mybins, histtype='bar', normed=True, color='IndianRed', label='Type B', alpha=0.5)\n",
    "\n",
    "# Complete the plot, and include a legend.\n",
    "\n",
    "ax.set_title(\"Histogram\")\n",
    "ax.set_xlabel(\"Value\")\n",
    "ax.set_ylabel(\"Probability\")\n",
    "ax.set_xlim(-35, 135)\n",
    "ax.legend()\n",
    "plt.show()"
   ]
  },
  {
   "cell_type": "markdown",
   "metadata": {},
   "source": [
    "-----\n",
    "\n",
    "The two histograms can also be plotted side-by-side, which can often\n",
    "simplify a comparison. In the following example, we plot three\n",
    "histograms side-by-side. In this case, we pass the three data sets as a\n",
    "list to the same histogram method call, which means we also need to pass\n",
    "the colors and labels as a list. All other parameters will be assigned\n",
    "equally to the three histograms.\n",
    "\n",
    "In this sample code, we have also used the [figure\n",
    "method](http://matplotlib.org/api/figure_api.html#matplotlib.figure.\n",
    "Figure) to specify a larger plot window (which is helpful for multiple\n",
    "histograms), and also used the attributes in the [add_subplot\n",
    "method](http://matplotlib.org/api/figure_api.html#matplotlib.figure.\n",
    "Figure.add_subplot) to specify only one subplot, which should have an\n",
    "'Ivory' background.\n",
    "\n",
    "-----"
   ]
  },
  {
   "cell_type": "code",
   "execution_count": 8,
   "metadata": {
    "collapsed": false
   },
   "outputs": [
    {
     "data": {
      "image/png": "[encoded data removed]",
      "text/plain": [
       "<matplotlib.figure.Figure at 0x7f5daeacaef0>"
      ]
     },
     "metadata": {},
     "output_type": "display_data"
    }
   ],
   "source": [
    "# First we need to import matplotlib and numpy\n",
    "import matplotlib.pyplot as plt\n",
    "import numpy as np\n",
    "\n",
    "# Now we create our figure and axes for the plot we will make.\n",
    "fig = plt.figure(figsize=(12, 8))\n",
    "ax = fig.add_subplot(111, axisbg='Ivory')\n",
    "\n",
    "# Now we generate something to plot. In this case, we will need data \n",
    "# that are randomly sampled from a particular function.\n",
    "\n",
    "x = np.linspace(0,100, 10000)\n",
    "y1 = x + np.random.uniform(-10, 10, 10000)\n",
    "y2 = x + np.random.uniform(-25, 25, 10000)\n",
    "y3 = x + np.random.uniform(-35, 35, 10000)\n",
    "\n",
    "ax.hist((y1, y2, y3), bins=15 , histtype='bar', normed=True, \\\n",
    "        color=('BurlyWood', 'IndianRed', 'DeepSkyBlue'), label=('Type A', 'Type B', 'Type C'))\n",
    "\n",
    "# Complete the plot\n",
    "\n",
    "ax.set_title(\"Histogram\")\n",
    "ax.set_xlabel(\"Value\")\n",
    "ax.set_ylabel(\"Probability\")\n",
    "ax.set_xlim(-45, 145)\n",
    "ax.legend()\n",
    "plt.show()"
   ]
  },
  {
   "cell_type": "markdown",
   "metadata": {},
   "source": [
    "-----\n",
    "\n",
    "In all of the sample code provided in this notebook, we have ignored the\n",
    "return values from the `hist` method. In truth, this function returns\n",
    "three items:\n",
    "\n",
    "* `n`, the number contained within each bin. The length of this array is\n",
    "the same as the number of bins used to make the histogram.\n",
    "* `bins`, the bin edges. The number of edges is one more than the number\n",
    "of bins.\n",
    "* `patches`, which are matplotlib plotting objects (to make the bins\n",
    "show up) but you will generally ignore these.\n",
    "\n",
    "The first two arrays can often prove useful if you want to operate on\n",
    "the histogrammed data (in addition to plotting them). To use these data,\n",
    "you simply capture the returned values:\n",
    "\n",
    "```python\n",
    "n, bins, patches = ax.hist(y)\n",
    "```\n",
    "\n",
    "-----"
   ]
  }
 ],
 "metadata": {
  "kernelspec": {
   "display_name": "Python 3",
   "language": "python",
   "name": "python3"
  },
  "language_info": {
   "codemirror_mode": {
    "name": "ipython",
    "version": 3
   },
   "file_extension": ".py",
   "mimetype": "text/x-python",
   "name": "python",
   "nbconvert_exporter": "python",
   "pygments_lexer": "ipython3",
   "version": "3.5.2"
  }
 },
 "nbformat": 4,
 "nbformat_minor": 0
}
