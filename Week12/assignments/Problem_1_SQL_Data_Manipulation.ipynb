{
 "cells": [
  {
   "cell_type": "markdown",
   "metadata": {
    "deletable": false,
    "nbgrader": {
     "checksum": "a98c739c45025e75b7a8a39168517825",
     "grade": false,
     "grade_id": "header",
     "locked": true,
     "solution": false
    }
   },
   "source": [
    "A few things you should keep in mind when working on assignments:\n",
    "\n",
    "1. Make sure you fill in any place that says `YOUR CODE HERE`. Do **not** write your answer in anywhere else other than where it says `YOUR CODE HERE`. Anything you write anywhere else will be removed or overwritten by the autograder.\n",
    "\n",
    "2. Before you submit your assignment, make sure everything runs as expected. Go to menubar, select _Kernel_, and restart the kernel and run all cells (_Restart & Run all_).\n",
    "\n",
    "3. Do not change the title (i.e. file name) of this notebook.\n",
    "\n",
    "4. Make sure that you save your work (in the menubar, select _File_ → _Save and CheckPoint_)\n",
    "\n",
    "5. You are allowed to submit an assignment multiple times, but only the most recent submission will be graded."
   ]
  },
  {
   "cell_type": "markdown",
   "metadata": {
    "deletable": false,
    "nbgrader": {
     "checksum": "65c9c64bcbf261b378952b6e8ec763b3",
     "grade": false,
     "grade_id": "title",
     "locked": true,
     "solution": false
    }
   },
   "source": [
    "# SQL Data Manipulation\n",
    "\n",
    "In this problem, we will create a fictitious SQLite database, and use it to practice inserting data into tables and executing queries."
   ]
  },
  {
   "cell_type": "code",
   "execution_count": null,
   "metadata": {
    "collapsed": true,
    "deletable": false,
    "nbgrader": {
     "checksum": "f031162e2abc7fcf51f9dd275606ff76",
     "grade": false,
     "grade_id": "import",
     "locked": true,
     "solution": false
    }
   },
   "outputs": [],
   "source": [
    "import os\n",
    "from nose.tools import assert_equal, assert_true"
   ]
  },
  {
   "cell_type": "markdown",
   "metadata": {
    "deletable": false,
    "nbgrader": {
     "checksum": "b1c61ba7f2cfb6c468165e50fe938af6",
     "grade": false,
     "grade_id": "markdown_1",
     "locked": true,
     "solution": false
    }
   },
   "source": [
    "Suppose we are given the following two tables:\n",
    "\n",
    "<div class=\"row\">\n",
    "    <div class=\"col-md-2\">\n",
    "      <div align=\"center\">\n",
    "        <b>Midterm</b>\n",
    "      </div>\n",
    "    <table>\n",
    "  <tr>\n",
    "    <th>Id</th>\n",
    "    <th>Name</th> \n",
    "    <th>Score</th>\n",
    "  </tr>\n",
    "  <tr>\n",
    "    <td>1</td>\n",
    "    <td>Alice</td> \n",
    "    <td>97.3</td>\n",
    "  </tr>\n",
    "  <tr>\n",
    "    <td>2</td>\n",
    "    <td>Bob</td> \n",
    "    <td>87.7</td>\n",
    "  </tr>\n",
    "  <tr>\n",
    "    <td>3</td>\n",
    "    <td>Chris</td> \n",
    "    <td>91.5</td>\n",
    "  </tr>\n",
    "</table>\n",
    "\n",
    "    </div>\n",
    "    <div class=\"col-md-2\"> \n",
    "      <div align=\"center\">\n",
    "        <b>Final</b>\n",
    "      </div>\n",
    "    <table>\n",
    "  <tr>\n",
    "    <th>Id</th>\n",
    "    <th>Score</th>\n",
    "  </tr>\n",
    "  <tr>\n",
    "    <td>1</td>\n",
    "    <td>91.2</td>\n",
    "  </tr>\n",
    "  <tr>\n",
    "    <td>2</td>\n",
    "    <td>81.5</td>\n",
    "  </tr>\n",
    "  <tr>\n",
    "    <td>3</td>\n",
    "    <td>87.3</td>\n",
    "  </tr>\n",
    "</table>\n",
    "    </div> \n",
    "</div>\n",
    "\n",
    "Also suppose that we have created these tables in a database named `students.db`, as shown in the following code cells."
   ]
  },
  {
   "cell_type": "code",
   "execution_count": null,
   "metadata": {
    "collapsed": false,
    "deletable": false,
    "nbgrader": {
     "checksum": "25bdbdf5e702643a3c4ff3b1eedb9e62",
     "grade": false,
     "grade_id": "create_sql",
     "locked": true,
     "solution": false
    }
   },
   "outputs": [],
   "source": [
    "%%writefile create.sql\n",
    "\n",
    "DROP TABLE IF EXiSTS Midterm;\n",
    "DROP TABLE IF EXiSTS Final;\n",
    "\n",
    "CREATE TABLE Midterm (\n",
    "    Id INT NOT NULL,\n",
    "    Name TEXT,\n",
    "    Score REAL\n",
    ");\n",
    "\n",
    "CREATE TABLE Final (\n",
    "    Id INT NOT NULL,\n",
    "    Score REAL\n",
    ");"
   ]
  },
  {
   "cell_type": "code",
   "execution_count": null,
   "metadata": {
    "collapsed": false,
    "deletable": false,
    "nbgrader": {
     "checksum": "68061220166f2db9ba4399f4d644d66c",
     "grade": false,
     "grade_id": "create_sql_run",
     "locked": true,
     "solution": false
    }
   },
   "outputs": [],
   "source": [
    "!sqlite3 students.db < create.sql\n",
    "!sqlite3 students.db \".schema\""
   ]
  },
  {
   "cell_type": "markdown",
   "metadata": {
    "deletable": false,
    "nbgrader": {
     "checksum": "000512825514978f20d59217067cf4e2",
     "grade": false,
     "grade_id": "markdown_2",
     "locked": true,
     "solution": false
    }
   },
   "source": [
    "## INSERT\n",
    "\n",
    "- In the following code cell, complete the `insert.sql` script file to insert new values appropriately into `Midterm` and `Final`.\n",
    "\n",
    "- When you run\n",
    "  ```python\n",
    "  >>> !sqlite3 students.db < insert.sql\n",
    "  >>> midterm = !sqlite3 students.db \"SELECT * FROM Midterm\"\n",
    "  >>> print('\\n'.join(midterm))\n",
    "  ```\n",
    "  you should see\n",
    "  ```\n",
    "  1|Alice|97.3\n",
    "  2|Bob|87.7\n",
    "  3|Chris|91.5\n",
    "  ```\n",
    "  And when you run\n",
    "  ```python\n",
    "  >>> final = !sqlite3 students.db \"SELECT * FROM Final\"\n",
    "  >>> print('\\n'.join(final))\n",
    "  ```\n",
    "  you should see\n",
    "  ```\n",
    "  1|91.2\n",
    "  2|81.5\n",
    "  3|87.3\n",
    "  ```"
   ]
  },
  {
   "cell_type": "code",
   "execution_count": null,
   "metadata": {
    "collapsed": false,
    "deletable": false,
    "nbgrader": {
     "checksum": "5ad94ff91fe65f99667b16d6fffa336b",
     "grade": false,
     "grade_id": "insert_answer",
     "locked": false,
     "solution": true
    }
   },
   "outputs": [],
   "source": [
    "%%writefile insert.sql\n",
    "\n",
    "-- YOUR CODE HERE"
   ]
  },
  {
   "cell_type": "code",
   "execution_count": null,
   "metadata": {
    "collapsed": true,
    "deletable": false,
    "nbgrader": {
     "checksum": "9d85e528387fc9720248673c99e966a7",
     "grade": false,
     "grade_id": "insert_run_1",
     "locked": true,
     "solution": false
    }
   },
   "outputs": [],
   "source": [
    "!sqlite3 students.db < insert.sql\n",
    "\n",
    "midterm = !sqlite3 students.db \"SELECT * FROM Midterm\"\n",
    "print('\\n'.join(midterm))"
   ]
  },
  {
   "cell_type": "code",
   "execution_count": null,
   "metadata": {
    "collapsed": false,
    "deletable": false,
    "nbgrader": {
     "checksum": "ccf4c7e550be03857a84699e11fb75e5",
     "grade": false,
     "grade_id": "insert_run_2",
     "locked": true,
     "solution": false
    }
   },
   "outputs": [],
   "source": [
    "final = !sqlite3 students.db \"SELECT * FROM Final\"\n",
    "print('\\n'.join(final))"
   ]
  },
  {
   "cell_type": "code",
   "execution_count": null,
   "metadata": {
    "collapsed": false,
    "deletable": false,
    "nbgrader": {
     "checksum": "fb7f88bb45f2b14816af814910a25fb7",
     "grade": true,
     "grade_id": "insert_test",
     "locked": true,
     "points": 5,
     "solution": false
    }
   },
   "outputs": [],
   "source": [
    "midterm = !sqlite3 students.db \"SELECT * FROM Midterm\"\n",
    "midterm_answer = ['1|Alice|97.3', '2|Bob|87.7', '3|Chris|91.5']\n",
    "assert_equal(len(midterm), len(midterm_answer))\n",
    "assert_equal(set(midterm), set(midterm_answer))\n",
    "\n",
    "final = !sqlite3 students.db \"SELECT * FROM Final\"\n",
    "final_answer = ['1|91.2', '2|81.5', '3|87.3']\n",
    "assert_equal(len(final), len(final_answer))\n",
    "assert_equal(set(final), set(final_answer))"
   ]
  },
  {
   "cell_type": "markdown",
   "metadata": {
    "deletable": false,
    "nbgrader": {
     "checksum": "b14acffd2779e119537f92fd37eda579",
     "grade": false,
     "grade_id": "markdown_3",
     "locked": true,
     "solution": false
    }
   },
   "source": [
    "## SELECT\n",
    "\n",
    "- In the following code cell, use a combination of `SELECT`, `FROM`, and `WEHRE` to filter only students whose **midterm** score is greater than or equal to **90**.\n",
    "\n",
    "- Extract only two columns: `Name` and `Score`.\n",
    "\n",
    "- When you execute\n",
    "  ```python\n",
    "  >>> a_students = !sqlite3 students.db < a_students.sql\n",
    "  >>> print('\\n'.join(a_students))\n",
    "  ```\n",
    "  the correct answer is of course\n",
    "  ```\n",
    "  Alice|97.3\n",
    "  Chris|91.5\n",
    "  ```"
   ]
  },
  {
   "cell_type": "code",
   "execution_count": null,
   "metadata": {
    "collapsed": false,
    "deletable": false,
    "nbgrader": {
     "checksum": "e42f4fd23134202167f800ef63bf8be9",
     "grade": false,
     "grade_id": "select_answer",
     "locked": false,
     "solution": true
    }
   },
   "outputs": [],
   "source": [
    "%%writefile a_students.sql\n",
    "\n",
    "-- YOUR CODE HERE"
   ]
  },
  {
   "cell_type": "code",
   "execution_count": null,
   "metadata": {
    "collapsed": false,
    "deletable": false,
    "nbgrader": {
     "checksum": "c49e059f04aa5f4855d8004741ad2341",
     "grade": false,
     "grade_id": "select_run",
     "locked": true,
     "solution": false
    }
   },
   "outputs": [],
   "source": [
    "a_students = !sqlite3 students.db < a_students.sql\n",
    "print('\\n'.join(a_students))"
   ]
  },
  {
   "cell_type": "code",
   "execution_count": null,
   "metadata": {
    "collapsed": false,
    "deletable": false,
    "nbgrader": {
     "checksum": "44cf22c0a6e759ad701dcea18e1103b7",
     "grade": true,
     "grade_id": "select_test",
     "locked": true,
     "points": 5,
     "solution": false
    }
   },
   "outputs": [],
   "source": [
    "a_students_answer = ['Alice|97.3', 'Chris|91.5']\n",
    "assert_equal(len(a_students), len(a_students_answer))\n",
    "assert_equal(set(a_students), set(a_students_answer))"
   ]
  },
  {
   "cell_type": "markdown",
   "metadata": {
    "deletable": false,
    "nbgrader": {
     "checksum": "d696ce7a0e3705e10f1c030e086a9978",
     "grade": false,
     "grade_id": "markdown_4",
     "locked": true,
     "solution": false
    }
   },
   "source": [
    "## Match IDs\n",
    "\n",
    "- In the following code cell, use a combination of `SELECT`, `FROM`, and `WEHRE` to join the two tables, `Midterm` and `Final` **by matching the `Id` columns**.\n",
    "\n",
    "- Extract only three columns: name, midterm score, and final score.\n",
    "\n",
    "- It is easy to guess what the correct answer is:\n",
    "  ```python\n",
    "  >>> all_exams = !sqlite3 students.db < all_exams.sql\n",
    "  >>> print('\\n'.join(all_exams))\n",
    "  ```\n",
    "  ```\n",
    "  Alice|97.3|91.2\n",
    "  Bob|87.7|81.5\n",
    "  Chris|91.5|87.3\n",
    "  ```"
   ]
  },
  {
   "cell_type": "code",
   "execution_count": null,
   "metadata": {
    "collapsed": false,
    "deletable": false,
    "nbgrader": {
     "checksum": "190dc6210e96d0f294413e0ee4106389",
     "grade": false,
     "grade_id": "match_answer",
     "locked": false,
     "solution": true
    }
   },
   "outputs": [],
   "source": [
    "%%writefile all_exams.sql\n",
    "\n",
    "-- YOUR CODE HERE"
   ]
  },
  {
   "cell_type": "code",
   "execution_count": null,
   "metadata": {
    "collapsed": false,
    "deletable": false,
    "nbgrader": {
     "checksum": "68e2cfc5438643872758d817d88152ed",
     "grade": false,
     "grade_id": "match_run",
     "locked": true,
     "solution": false
    }
   },
   "outputs": [],
   "source": [
    "all_exams = !sqlite3 students.db < all_exams.sql\n",
    "print('\\n'.join(all_exams))"
   ]
  },
  {
   "cell_type": "code",
   "execution_count": null,
   "metadata": {
    "collapsed": false,
    "deletable": false,
    "nbgrader": {
     "checksum": "1df4578c4484ccc3cb22e37cf61feed2",
     "grade": true,
     "grade_id": "match_test",
     "locked": true,
     "points": 5,
     "solution": false
    }
   },
   "outputs": [],
   "source": [
    "all_exams_answer = ['Alice|97.3|91.2', 'Bob|87.7|81.5', 'Chris|91.5|87.3']\n",
    "assert_equal(len(all_exams), len(all_exams_answer))\n",
    "assert_equal(set(all_exams), set(all_exams_answer))"
   ]
  },
  {
   "cell_type": "markdown",
   "metadata": {
    "deletable": false,
    "nbgrader": {
     "checksum": "fa9bafe3591074ecdee7cb02e79b4e38",
     "grade": false,
     "grade_id": "markdown_5",
     "locked": true,
     "solution": false
    }
   },
   "source": [
    "We're done. The following code cell peforms cleanup."
   ]
  },
  {
   "cell_type": "code",
   "execution_count": null,
   "metadata": {
    "collapsed": false,
    "deletable": false,
    "nbgrader": {
     "checksum": "90392cf456d657509fa06445d20fc610",
     "grade": false,
     "grade_id": "rm",
     "locked": true,
     "solution": false
    }
   },
   "outputs": [],
   "source": [
    "!rm *.sql students.db"
   ]
  },
  {
   "cell_type": "code",
   "execution_count": null,
   "metadata": {
    "collapsed": true
   },
   "outputs": [],
   "source": []
  }
 ],
 "metadata": {
  "kernelspec": {
   "display_name": "Python 3",
   "language": "python",
   "name": "python3"
  },
  "language_info": {
   "codemirror_mode": {
    "name": "ipython",
    "version": 3
   },
   "file_extension": ".py",
   "mimetype": "text/x-python",
   "name": "python",
   "nbconvert_exporter": "python",
   "pygments_lexer": "ipython3",
   "version": "3.5.2"
  }
 },
 "nbformat": 4,
 "nbformat_minor": 1
}
