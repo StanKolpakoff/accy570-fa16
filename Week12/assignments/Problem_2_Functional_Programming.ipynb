{
 "cells": [
  {
   "cell_type": "markdown",
   "metadata": {
    "deletable": false,
    "nbgrader": {
     "checksum": "a98c739c45025e75b7a8a39168517825",
     "grade": false,
     "grade_id": "header",
     "locked": true,
     "solution": false
    }
   },
   "source": [
    "A few things you should keep in mind when working on assignments:\n",
    "\n",
    "1. Make sure you fill in any place that says `YOUR CODE HERE`. Do **not** write your answer in anywhere else other than where it says `YOUR CODE HERE`. Anything you write anywhere else will be removed or overwritten by the autograder.\n",
    "\n",
    "2. Before you submit your assignment, make sure everything runs as expected. Go to menubar, select _Kernel_, and restart the kernel and run all cells (_Restart & Run all_).\n",
    "\n",
    "3. Do not change the title (i.e. file name) of this notebook.\n",
    "\n",
    "4. Make sure that you save your work (in the menubar, select _File_ → _Save and CheckPoint_)\n",
    "\n",
    "5. You are allowed to submit an assignment multiple times, but only the most recent submission will be graded."
   ]
  },
  {
   "cell_type": "markdown",
   "metadata": {
    "deletable": false,
    "nbgrader": {
     "checksum": "7dcd5644149277929b6617e5a64a1282",
     "grade": false,
     "grade_id": "title",
     "locked": true,
     "solution": false
    }
   },
   "source": [
    "# Problem 2. Functional Programming.\n",
    "\n",
    "In this problem, we will apply what we have learned about the `map`, `filter`, and `reduce` methods, and lambda functions."
   ]
  },
  {
   "cell_type": "code",
   "execution_count": null,
   "metadata": {
    "collapsed": true,
    "deletable": false,
    "nbgrader": {
     "checksum": "a8319387868baaec0d28c3dd2c6d1b6e",
     "grade": false,
     "grade_id": "import",
     "locked": true,
     "solution": false
    }
   },
   "outputs": [],
   "source": [
    "from functools import reduce\n",
    "\n",
    "from nose.tools import assert_equal"
   ]
  },
  {
   "cell_type": "markdown",
   "metadata": {
    "deletable": false,
    "nbgrader": {
     "checksum": "ac04c6298baf4a5c56959ad0c7a8e90a",
     "grade": false,
     "grade_id": "markdown_1",
     "locked": true,
     "solution": false
    }
   },
   "source": [
    "## Map\n",
    "\n",
    "- Write a function named `scale_list` that scales each number in a list by a given factor.\n",
    "- The function takes two arguments: `items` is a list, and `factor` is an int.\n",
    "- The function returns a list where each element in `items` is scaled by `factor`.\n",
    "- For example,\n",
    "\n",
    "```python\n",
    ">>> print(scale_list([1, 2, 3, 4, 5], 10))\n",
    "```\n",
    "```\n",
    "[10, 20, 30, 40, 50]\n",
    "```\n",
    "\n",
    "- We are using **functional programming** in this problem. In imperative programming, this function would look something like\n",
    "\n",
    "```python\n",
    "def scale_list(items, factor):\n",
    "    result = []\n",
    "    for i in items:\n",
    "        result.append(i * factor)\n",
    "    return result\n",
    "```\n",
    "\n",
    "In functional programming, we don't have side effects. That means, no `for` loops in functional programming. Thus, your function in this problem should not have a `for` loop. Use a combination of `map`, `list`, and `lambda`.\n",
    "\n",
    "- When I say no `for` loops, I don't mean you can do\n",
    "\n",
    "```python\n",
    "def scale_list(items, factor):\n",
    "    return items * factor\n",
    "```\n",
    "\n",
    "The goal of this problem is to give you practice in using the `map` function. Use a combination of `map`, `list`, and `lambda`. The autograder (for instructor assessment) won't know the difference even if you use a `for` loop or simply use the `*` operator on the list. Therefore, **when you are peer grading, you should consider the solution incorrect if the student did not use the `map` function.**"
   ]
  },
  {
   "cell_type": "code",
   "execution_count": null,
   "metadata": {
    "collapsed": false,
    "deletable": false,
    "nbgrader": {
     "checksum": "b4d5b0820db5bd392033e14a201aea4e",
     "grade": false,
     "grade_id": "scale_list_answer",
     "locked": false,
     "solution": true
    }
   },
   "outputs": [],
   "source": [
    "def scale_list(items, factor):\n",
    "    # YOUR CODE HERE"
   ]
  },
  {
   "cell_type": "code",
   "execution_count": null,
   "metadata": {
    "collapsed": false,
    "deletable": false,
    "nbgrader": {
     "checksum": "9698fa55bf8b0fb36bae235becb705a5",
     "grade": false,
     "grade_id": "scale_list_print",
     "locked": true,
     "solution": false
    }
   },
   "outputs": [],
   "source": [
    "print(scale_list([1, 2, 3, 4, 5], 10))"
   ]
  },
  {
   "cell_type": "code",
   "execution_count": null,
   "metadata": {
    "collapsed": false,
    "deletable": false,
    "nbgrader": {
     "checksum": "2c6070e82b8a9005a2cb13464684fa72",
     "grade": true,
     "grade_id": "scale_list_test",
     "locked": true,
     "points": 5,
     "solution": false
    }
   },
   "outputs": [],
   "source": [
    "assert_equal(scale_list([1, 2, 3, 4, 5], 10), [10, 20, 30, 40, 50])\n",
    "assert_equal(scale_list([1, 2, 3, 4, 5], 0), [0, 0, 0, 0, 0])\n",
    "assert_equal(scale_list([1, 2, 3, 4, 5], 1), [1, 2, 3, 4, 5])\n",
    "\n",
    "assert_equal(scale_list([0, 1, 2], 5), [0, 5, 10])\n",
    "assert_equal(scale_list([0, 1, 2], 0), [0, 0, 0])\n",
    "assert_equal(scale_list([0, 1, 2], 1), [0, 1, 2])"
   ]
  },
  {
   "cell_type": "markdown",
   "metadata": {
    "deletable": false,
    "nbgrader": {
     "checksum": "80961191b239062cd1e17d7f2cf1e03a",
     "grade": false,
     "grade_id": "markdown_2",
     "locked": true,
     "solution": false
    }
   },
   "source": [
    "## Reduce\n",
    "\n",
    "- Write a function named `accumulate` that computes the sum of all number in a list.\n",
    "- The function takes one argument `items`. `item` is a list.\n",
    "- The function returns an integer.\n",
    "- For example,\n",
    "\n",
    "```python\n",
    ">>> print(accumulate([1, 2, 3, 4, 5]))\n",
    "```\n",
    "```\n",
    "15\n",
    "```\n",
    "\n",
    "- In imperative programming, this function would look something like\n",
    "\n",
    "```python\n",
    "def accumulate(items):\n",
    "    result = 0\n",
    "    for i in items:\n",
    "        result += i\n",
    "    return result\n",
    "```\n",
    "\n",
    "However, you should not use a `for` loop in this problem. Use a combination of `reduce` and `lambda`.\n",
    "\n",
    "- When I say no `for` loops, I don't mean you can do\n",
    "\n",
    "```python\n",
    "def accumulate(items):\n",
    "    return sum(items)\n",
    "```\n",
    "\n",
    "The goal of this problem is to give you practice in using the `reduce` function. Use a combination of `reduce` and `lambda`. The autograder (for instructor assessment) won't know the difference even if you use a `for` loop or simply use the `sum` function. Therefore, **when you are peer grading, you should consider the solution incorrect if the student did not use the `reduce` function.**"
   ]
  },
  {
   "cell_type": "code",
   "execution_count": null,
   "metadata": {
    "collapsed": false,
    "deletable": false,
    "nbgrader": {
     "checksum": "d3713a5d06c79a220f734d4e1b344387",
     "grade": false,
     "grade_id": "accumulate_answer",
     "locked": false,
     "solution": true
    }
   },
   "outputs": [],
   "source": [
    "def accumulate(items):\n",
    "    # YOUR CODE HERE"
   ]
  },
  {
   "cell_type": "code",
   "execution_count": null,
   "metadata": {
    "collapsed": false,
    "deletable": false,
    "nbgrader": {
     "checksum": "17e312e049894e278d5283491623d102",
     "grade": false,
     "grade_id": "accumulate_print",
     "locked": true,
     "solution": false
    }
   },
   "outputs": [],
   "source": [
    "print(accumulate([1, 2, 3, 4, 5]))"
   ]
  },
  {
   "cell_type": "code",
   "execution_count": null,
   "metadata": {
    "collapsed": true,
    "deletable": false,
    "nbgrader": {
     "checksum": "ab91ca4dd631704cd1f9b0221e20c335",
     "grade": true,
     "grade_id": "accumulate_test",
     "locked": true,
     "points": 5,
     "solution": false
    }
   },
   "outputs": [],
   "source": [
    "assert_equal(accumulate([1]), 1)\n",
    "assert_equal(accumulate([1, 2]), 3)\n",
    "assert_equal(accumulate([1, 2, 3]), 6)\n",
    "assert_equal(accumulate([1, 2, 3, 4]), 10)\n",
    "assert_equal(accumulate([1, 2, 3, 4, 5]), 15)"
   ]
  },
  {
   "cell_type": "markdown",
   "metadata": {
    "deletable": false,
    "nbgrader": {
     "checksum": "2c1a55bd020bea3cd700db360a024a2b",
     "grade": false,
     "grade_id": "markdown_3",
     "locked": true,
     "solution": false
    }
   },
   "source": [
    "## Filter\n",
    "\n",
    "- Write a function named `filter_odd` that selects only the odd numbers in a list.\n",
    "- The function takes one argument `items`. `item` is a list.\n",
    "- The function returns a list.\n",
    "- For example,\n",
    "\n",
    "```python\n",
    ">>> print(filter_odd([1, 2, 3, 4, 5]))\n",
    "```\n",
    "```\n",
    "[1, 3, 5]\n",
    "```\n",
    "\n",
    "- In imperative programming, this function would something like\n",
    "\n",
    "```python\n",
    "def filter_odd(items):\n",
    "    result = []\n",
    "    for i in items:\n",
    "        if i % 2:\n",
    "            result.append(i)\n",
    "    return result\n",
    "```\n",
    "\n",
    "However, you should not use a `for` loop in this problem. Use a combination of `reduce` and `lambda`.\n",
    "\n",
    "- Many people would argue that the following function is a better solution than using `filter`:\n",
    "\n",
    "```python\n",
    "def filter_odd(items):\n",
    "    return [i for i in items if i % 2]\n",
    "```\n",
    "\n",
    "However, the goal of this problem is to give you practice in using the `filter` function. Use a combination of `list`, `filter`, and `lambda`. The autograder (for instructor assessment) won't know the difference even if you use a `for` loop or list comprehensions. Therefore, **when you are peer grading, you should consider the solution incorrect if the student did not use the `filter` function.**"
   ]
  },
  {
   "cell_type": "code",
   "execution_count": null,
   "metadata": {
    "collapsed": false,
    "deletable": false,
    "nbgrader": {
     "checksum": "6e9d407ca83690006ad0dcbfd416fc88",
     "grade": false,
     "grade_id": "filter_odd_answer",
     "locked": false,
     "solution": true
    }
   },
   "outputs": [],
   "source": [
    "def filter_odd(items):\n",
    "    # YOUR CODE HERE"
   ]
  },
  {
   "cell_type": "code",
   "execution_count": null,
   "metadata": {
    "collapsed": false,
    "deletable": false,
    "nbgrader": {
     "checksum": "fc94c994734ae4be843387d55e1c5ef1",
     "grade": false,
     "grade_id": "filter_odd_print",
     "locked": true,
     "solution": false
    }
   },
   "outputs": [],
   "source": [
    "print(filter_odd([1, 2, 3, 4, 5]))"
   ]
  },
  {
   "cell_type": "code",
   "execution_count": null,
   "metadata": {
    "collapsed": false,
    "deletable": false,
    "nbgrader": {
     "checksum": "21222195e9367f2a0259fa92b33f83a7",
     "grade": true,
     "grade_id": "filter_odd_test",
     "locked": true,
     "points": 5,
     "solution": false
    }
   },
   "outputs": [],
   "source": [
    "assert_equal(filter_odd([1, 2, 3, 4, 5]), [1, 3, 5])\n",
    "assert_equal(filter_odd([1, 2, 3]), [1, 3])\n",
    "assert_equal(filter_odd([1, 2, 3, 5]), [1, 3, 5])\n",
    "assert_equal(filter_odd([2, 4]), [])"
   ]
  },
  {
   "cell_type": "code",
   "execution_count": null,
   "metadata": {
    "collapsed": true
   },
   "outputs": [],
   "source": []
  }
 ],
 "metadata": {
  "kernelspec": {
   "display_name": "Python 3",
   "language": "python",
   "name": "python3"
  },
  "language_info": {
   "codemirror_mode": {
    "name": "ipython",
    "version": 3
   },
   "file_extension": ".py",
   "mimetype": "text/x-python",
   "name": "python",
   "nbconvert_exporter": "python",
   "pygments_lexer": "ipython3",
   "version": "3.5.2"
  }
 },
 "nbformat": 4,
 "nbformat_minor": 1
}
