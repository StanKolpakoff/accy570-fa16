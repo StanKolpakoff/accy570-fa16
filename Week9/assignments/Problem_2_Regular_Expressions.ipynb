{
 "cells": [
  {
   "cell_type": "markdown",
   "metadata": {
    "deletable": false,
    "nbgrader": {
     "checksum": "a98c739c45025e75b7a8a39168517825",
     "grade": false,
     "grade_id": "header",
     "locked": true,
     "solution": false
    }
   },
   "source": [
    "A few things you should keep in mind when working on assignments:\n",
    "\n",
    "1. Make sure you fill in any place that says `YOUR CODE HERE`. Do **not** write your answer in anywhere else other than where it says `YOUR CODE HERE`. Anything you write anywhere else will be removed or overwritten by the autograder.\n",
    "\n",
    "2. Before you submit your assignment, make sure everything runs as expected. Go to menubar, select _Kernel_, and restart the kernel and run all cells (_Restart & Run all_).\n",
    "\n",
    "3. Do not change the title (i.e. file name) of this notebook.\n",
    "\n",
    "4. Make sure that you save your work (in the menubar, select _File_ → _Save and CheckPoint_)\n",
    "\n",
    "5. You are allowed to submit an assignment multiple times, but only the most recent submission will be graded."
   ]
  },
  {
   "cell_type": "markdown",
   "metadata": {
    "deletable": false,
    "nbgrader": {
     "checksum": "a53e857878ab17566b7cdbd0179ccd41",
     "grade": false,
     "grade_id": "title",
     "locked": true,
     "solution": false
    }
   },
   "source": [
    "# Problem 2. Regular Expressions.\n",
    "\n",
    "In this problem set, we will use regular expressions (regex) to process real Twitter data. Specifically, using a sample of real tweets that contain the hashtag `#informatics`, we will use the `re` library or `grep` to search for hashtags."
   ]
  },
  {
   "cell_type": "code",
   "execution_count": null,
   "metadata": {
    "collapsed": true,
    "deletable": false,
    "nbgrader": {
     "checksum": "245b48a47da25100cf2c18bb57a7d28a",
     "grade": false,
     "grade_id": "import",
     "locked": true,
     "solution": false
    }
   },
   "outputs": [],
   "source": [
    "import re\n",
    "\n",
    "from nose.tools import assert_equal, assert_is_instance, assert_true"
   ]
  },
  {
   "cell_type": "markdown",
   "metadata": {
    "deletable": false,
    "nbgrader": {
     "checksum": "d9cf18dc658b24cb39d1a4208990448d",
     "grade": false,
     "grade_id": "markdown_1",
     "locked": true,
     "solution": false
    }
   },
   "source": [
    "For simplicity, we will use only five tweets in this problem, but it's straightforward to scale to a data set with a large number of tweets after we write and test our functions. Here are the five tweets:"
   ]
  },
  {
   "cell_type": "code",
   "execution_count": null,
   "metadata": {
    "collapsed": false,
    "deletable": false,
    "nbgrader": {
     "checksum": "2c4721e54c53e18cdf68eed6e9079ad7",
     "grade": false,
     "grade_id": "print_tweets",
     "locked": true,
     "solution": false
    }
   },
   "outputs": [],
   "source": [
    "tweets = \"\"\"\n",
    "New #job opening at The Ottawa Hospital in #Ottawa - #Clinical #Informatics Specialist #jobs http://t.co/3SlUy11dro\n",
    "Looking for a #Clinical #Informatics Pharmacist Park Plaza Hospital #jobs http://t.co/4Qw8i6YaJI\n",
    "Info Session 10/7: MSc in Biomedical Informatics, University of Chicago https://t.co/65G8dJmhdR #HIT #UChicago #informatics #healthcare\n",
    "Here's THE best #Books I've read on #EHR #HIE #HIPAA and #Health #Informatics http://t.co/meFE0dMSPe\n",
    "@RMayNurseDir @FNightingaleF Scholars talking passionately about what they believe in. #informatics &amp; #skincare  https://t.co/m8qiUSxk0h\n",
    "\"\"\".strip().split(\"\\n\")\n",
    "\n",
    "print(tweets)"
   ]
  },
  {
   "cell_type": "markdown",
   "metadata": {
    "deletable": false,
    "nbgrader": {
     "checksum": "eb16b104ed78b175bd21b47bc9604795",
     "grade": false,
     "grade_id": "markdown_2",
     "locked": true,
     "solution": false
    }
   },
   "source": [
    "Note that the tweets are saved as a list of strings. Our goal is to search for all words that start with a hashtag (#). So, it will be easier if we first split the tweets into a list of words."
   ]
  },
  {
   "cell_type": "code",
   "execution_count": null,
   "metadata": {
    "collapsed": false,
    "deletable": false,
    "nbgrader": {
     "checksum": "1b47bac27139d1442210aff517482f0d",
     "grade": false,
     "grade_id": "split_into_words",
     "locked": true,
     "solution": false
    }
   },
   "outputs": [],
   "source": [
    "def split_into_words(list_of_tweets):\n",
    "    '''\n",
    "    Take a list of tweets, and returns a list of words in all tweets.\n",
    "    Since words are separated by one or more whitespaces,\n",
    "    the return value is a list of strings with no whitespace.\n",
    "    \n",
    "    Parameters\n",
    "    ----------\n",
    "    list_of_tweets: a list of strings. Strings have whitespaces.\n",
    "    \n",
    "    Returns\n",
    "    -------\n",
    "    A list of strings. Strings have no whitespace.\n",
    "    Results from splitting each tweet in tweets by whitespace.\n",
    "    '''\n",
    "    \n",
    "    words = [word for tweet in list_of_tweets for word in tweet.split()]\n",
    "    \n",
    "    return words"
   ]
  },
  {
   "cell_type": "markdown",
   "metadata": {
    "deletable": false,
    "nbgrader": {
     "checksum": "ab85b4256404574f3762bce810cc8b99",
     "grade": false,
     "grade_id": "markdown_3",
     "locked": true,
     "solution": false
    }
   },
   "source": [
    "I used a nested for loop inside the list comprehension expression. This is equivalent to\n",
    "\n",
    "```python\n",
    "words = []\n",
    "for tweet in list_of_tweets:\n",
    "    for word in tweet.split():\n",
    "        words.append(word)\n",
    "```"
   ]
  },
  {
   "cell_type": "code",
   "execution_count": null,
   "metadata": {
    "collapsed": false,
    "deletable": false,
    "nbgrader": {
     "checksum": "e0853c6c2a802d95436c47e07c3af888",
     "grade": false,
     "grade_id": "print_split_into_words",
     "locked": true,
     "solution": false
    }
   },
   "outputs": [],
   "source": [
    "words = split_into_words(tweets)\n",
    "print(words)"
   ]
  },
  {
   "cell_type": "markdown",
   "metadata": {
    "deletable": false,
    "nbgrader": {
     "checksum": "8d065b2577cd0cf49684868320d7283a",
     "grade": false,
     "grade_id": "markdown_4",
     "locked": true,
     "solution": false
    }
   },
   "source": [
    "You may use either the Python `re` module or the `grep` command in Unix to solve this problem. If you choose to use `grep`, you need a text file. Let's save this list as a text file with each word on separate lines."
   ]
  },
  {
   "cell_type": "code",
   "execution_count": null,
   "metadata": {
    "collapsed": true,
    "deletable": false,
    "nbgrader": {
     "checksum": "bb20568bd5ca564d03d5d4d57a2e6b1a",
     "grade": false,
     "grade_id": "words_txt",
     "locked": true,
     "solution": false
    }
   },
   "outputs": [],
   "source": [
    "with open(\"words.txt\", \"w\") as f:\n",
    "    for word in words:\n",
    "        f.write(\"{}\\n\".format(word))"
   ]
  },
  {
   "cell_type": "markdown",
   "metadata": {
    "deletable": false,
    "nbgrader": {
     "checksum": "8e96fd86c46afd8135ff3fea67c28014",
     "grade": false,
     "grade_id": "markdown_5",
     "locked": true,
     "solution": false
    }
   },
   "source": [
    "The <a href=\"https://en.wikipedia.org/wiki/Cat_(Unix)\">cat</a> command reads files and prints out their contents."
   ]
  },
  {
   "cell_type": "code",
   "execution_count": null,
   "metadata": {
    "collapsed": false,
    "deletable": false,
    "nbgrader": {
     "checksum": "b4f60a14ccc8f332f65499a4be6a17a9",
     "grade": false,
     "grade_id": "cat_words_txt",
     "locked": true,
     "solution": false
    }
   },
   "outputs": [],
   "source": [
    "!cat words.txt"
   ]
  },
  {
   "cell_type": "markdown",
   "metadata": {
    "deletable": false,
    "nbgrader": {
     "checksum": "2e995b32834fac2d0f200d3b5d16ee2e",
     "grade": false,
     "grade_id": "markdown_6",
     "locked": true,
     "solution": false
    }
   },
   "source": [
    "## Use regex to search for all words that start with hashtags (#)\n",
    "\n",
    "- You may use either the Python `re` module or the [grep](https://en.wikipedia.org/wiki/Grep) command in Unix to solve this problem.\n",
    "- If you use `grep`, capture the results of your shell command, and assign it to a Python variable named `hashtags`. That is, you answer should begin with\n",
    "```\n",
    "hashtags = ! # YOUR CODE HERE\n",
    "```\n",
    "For example, let's say, instead of hashtags, we want to find all words that start with `@`. We can use `grep` as follows:\n",
    "```shell\n",
    "$ grep -E \"\\@.*\" words.txt\n",
    "```\n",
    "```\n",
    "@RMayNurseDir\n",
    "@FNightingaleF\n",
    "```\n",
    "We have to include a `\\` before the `@` because `@` is a special character, and the `\\` escapes the special character. The `.` matches any character (except newline), and `*` means zero or more repetitions. Thus, this regex expression matches every word that starts with a `@` in `words.txt`.\n",
    "\n",
    "- To perform the same task in Python, you can use `re.search()`. For example,\n",
    "```python\n",
    "[word for word in words if re.search(\"\\@.*\", word) is not None]\n",
    "```\n",
    "because `re.search()` returns `None` when a word doesn't match the pattern. Assign the resulting list to a variable named `hashtags`."
   ]
  },
  {
   "cell_type": "code",
   "execution_count": null,
   "metadata": {
    "collapsed": false,
    "deletable": false,
    "nbgrader": {
     "checksum": "aacb4e3d2e555710bab415781dfb0bb8",
     "grade": false,
     "grade_id": "hashtags_answer",
     "locked": false,
     "solution": true
    }
   },
   "outputs": [],
   "source": [
    "# YOUR CODE HERE"
   ]
  },
  {
   "cell_type": "code",
   "execution_count": null,
   "metadata": {
    "collapsed": false,
    "deletable": false,
    "nbgrader": {
     "checksum": "7d084fb415eadc2dc83c89771ccda185",
     "grade": false,
     "grade_id": "print_hashtags",
     "locked": true,
     "solution": false
    }
   },
   "outputs": [],
   "source": [
    "print(hashtags)"
   ]
  },
  {
   "cell_type": "code",
   "execution_count": null,
   "metadata": {
    "collapsed": true,
    "deletable": false,
    "nbgrader": {
     "checksum": "2f25855bd4095c6bf65e4390445f17e2",
     "grade": true,
     "grade_id": "hashtags_test",
     "locked": true,
     "points": 10,
     "solution": false
    }
   },
   "outputs": [],
   "source": [
    "assert_is_instance(hashtags, list)\n",
    "assert_true(all(isinstance(h, str) for h in hashtags))\n",
    "assert_equal(len(hashtags), 20)\n",
    "assert_equal(\n",
    "    set(hashtags),\n",
    "    set(\n",
    "        ['#job', '#Ottawa', '#Clinical', '#Informatics', '#jobs',\n",
    "         '#Clinical', '#Informatics', '#jobs', '#HIT', '#UChicago',\n",
    "         '#informatics', '#healthcare', '#Books', '#EHR', '#HIE',\n",
    "         '#HIPAA', '#Health', '#Informatics', '#informatics', '#skincare']\n",
    "    )\n",
    ")"
   ]
  },
  {
   "cell_type": "markdown",
   "metadata": {
    "deletable": false,
    "nbgrader": {
     "checksum": "210c16b89fcde22cb9cea9849d4700a2",
     "grade": false,
     "grade_id": "markdown_7",
     "locked": true,
     "solution": false
    }
   },
   "source": [
    "As an optional exercise, repeat the same task in Python if you used `grep`, and `grep` if you used Python."
   ]
  },
  {
   "cell_type": "code",
   "execution_count": null,
   "metadata": {
    "collapsed": true,
    "deletable": false,
    "nbgrader": {
     "checksum": "24174541a5941a2afaf11844be7b0e81",
     "grade": false,
     "grade_id": "rm",
     "locked": true,
     "solution": false
    }
   },
   "outputs": [],
   "source": [
    "!rm words.txt"
   ]
  },
  {
   "cell_type": "code",
   "execution_count": null,
   "metadata": {
    "collapsed": true
   },
   "outputs": [],
   "source": []
  }
 ],
 "metadata": {
  "kernelspec": {
   "display_name": "Python 3",
   "language": "python",
   "name": "python3"
  },
  "language_info": {
   "codemirror_mode": {
    "name": "ipython",
    "version": 3
   },
   "file_extension": ".py",
   "mimetype": "text/x-python",
   "name": "python",
   "nbconvert_exporter": "python",
   "pygments_lexer": "ipython3",
   "version": "3.5.2"
  }
 },
 "nbformat": 4,
 "nbformat_minor": 1
}
