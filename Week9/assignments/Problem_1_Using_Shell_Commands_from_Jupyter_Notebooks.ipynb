{
 "cells": [
  {
   "cell_type": "markdown",
   "metadata": {
    "deletable": false,
    "nbgrader": {
     "checksum": "a98c739c45025e75b7a8a39168517825",
     "grade": false,
     "grade_id": "header",
     "locked": true,
     "solution": false
    }
   },
   "source": [
    "A few things you should keep in mind when working on assignments:\n",
    "\n",
    "1. Make sure you fill in any place that says `YOUR CODE HERE`. Do **not** write your answer in anywhere else other than where it says `YOUR CODE HERE`. Anything you write anywhere else will be removed or overwritten by the autograder.\n",
    "\n",
    "2. Before you submit your assignment, make sure everything runs as expected. Go to menubar, select _Kernel_, and restart the kernel and run all cells (_Restart & Run all_).\n",
    "\n",
    "3. Do not change the title (i.e. file name) of this notebook.\n",
    "\n",
    "4. Make sure that you save your work (in the menubar, select _File_ → _Save and CheckPoint_)\n",
    "\n",
    "5. You are allowed to submit an assignment multiple times, but only the most recent submission will be graded."
   ]
  },
  {
   "cell_type": "markdown",
   "metadata": {
    "deletable": false,
    "nbgrader": {
     "checksum": "01757172c6795552bc96acd2a7f58291",
     "grade": false,
     "grade_id": "title",
     "locked": true,
     "solution": false
    }
   },
   "source": [
    "# Problem 1. Using Shell Commands from Jupyter Notebooks\n",
    "\n",
    "In this problem, we will use IPython's ! function ([IPython as a system shell](http://ipython.readthedocs.io/en/stable/interactive/shell.html)) to perform some basic Unix shell commands."
   ]
  },
  {
   "cell_type": "code",
   "execution_count": null,
   "metadata": {
    "collapsed": true,
    "deletable": false,
    "nbgrader": {
     "checksum": "f031162e2abc7fcf51f9dd275606ff76",
     "grade": false,
     "grade_id": "import",
     "locked": true,
     "solution": false
    }
   },
   "outputs": [],
   "source": [
    "import os\n",
    "from nose.tools import assert_equal, assert_true"
   ]
  },
  {
   "cell_type": "markdown",
   "metadata": {
    "deletable": false,
    "nbgrader": {
     "checksum": "6327d188d2d6f942687f59b1623375ee",
     "grade": false,
     "grade_id": "markdown_1",
     "locked": true,
     "solution": false
    }
   },
   "source": [
    "You can use IPython/Jupyter notebook environment not only for Python itself, but for Unix shell commands and more. To run any shell commands from the notebook, simply prefix a shell command with !.\n",
    "\n",
    "For example, the equivalent of `print()` for Unix is `echo`. So, to print out `Hello` in a terminal, we would first open a terminal by going to _New_ -> _Terminal_ on Jupyterhub. This gives us a command prompt:\n",
    "\n",
    "```shell\n",
    "data_scientist@jupyterhub:~$\n",
    "```\n",
    "\n",
    "I'll abbreviate the command prompt by simply writing `$`. At the command prompt, we would enter\n",
    "``` shell\n",
    "$ echo \"Hello\"\n",
    "```\n",
    "```\n",
    "Hello\n",
    "```\n",
    "\n",
    "If we want to run the same shell command from the notebook, we prefix it with !."
   ]
  },
  {
   "cell_type": "code",
   "execution_count": null,
   "metadata": {
    "collapsed": false,
    "deletable": false,
    "nbgrader": {
     "checksum": "7db46ff93b34d9e8f7be04e7a91f525d",
     "grade": false,
     "grade_id": "echo_hello",
     "locked": true,
     "solution": false
    }
   },
   "outputs": [],
   "source": [
    "!echo \"Hello\""
   ]
  },
  {
   "cell_type": "markdown",
   "metadata": {
    "deletable": false,
    "nbgrader": {
     "checksum": "ae7be2aeded618b3946110ec4f1e74bb",
     "grade": false,
     "grade_id": "markdown_2",
     "locked": true,
     "solution": false
    }
   },
   "source": [
    "You can also capture the results of a shell command and assign it to a Python variable with the following syntax:"
   ]
  },
  {
   "cell_type": "code",
   "execution_count": null,
   "metadata": {
    "collapsed": true,
    "deletable": false,
    "nbgrader": {
     "checksum": "ed4d7d38657e7453f74abb8bcb502142",
     "grade": false,
     "grade_id": "output_echo_hello",
     "locked": true,
     "solution": false
    }
   },
   "outputs": [],
   "source": [
    "output = !echo \"Hello\""
   ]
  },
  {
   "cell_type": "markdown",
   "metadata": {
    "deletable": false,
    "nbgrader": {
     "checksum": "b59c28e7b7a56a8e1de0534a51684d5d",
     "grade": false,
     "grade_id": "markdown_3",
     "locked": true,
     "solution": false
    }
   },
   "source": [
    "Here, `output` is a Python variable (a list of strings for each line in the output). The standard output from `echo \"Hello\"` is captured and stored in the `output` variable. Let's print out the value of `output` using Python:"
   ]
  },
  {
   "cell_type": "code",
   "execution_count": null,
   "metadata": {
    "collapsed": false,
    "deletable": false,
    "nbgrader": {
     "checksum": "521e3a89df68f0a47adbe87e286c1f05",
     "grade": false,
     "grade_id": "print_output",
     "locked": true,
     "solution": false
    }
   },
   "outputs": [],
   "source": [
    "print(output)"
   ]
  },
  {
   "cell_type": "markdown",
   "metadata": {
    "deletable": false,
    "nbgrader": {
     "checksum": "d98599cbe5e2f4f6d9182342071819fc",
     "grade": false,
     "grade_id": "markdown_4",
     "locked": true,
     "solution": false
    }
   },
   "source": [
    "We see that the output of `echo` is stored as a list of strings.\n",
    "\n",
    "In this notebook, we will use system shell commands to perform Unix data processing. I recommend that you solve the problem in the terminal first (because shell commands are meant to be executed in a terminal). Once you have an answer, repeat the same command in the notebook (don't forget to prefix the command with !). For example, if the question was\n",
    "\n",
    "```\n",
    "You are currently at /home/data_scientist. How do you change into /home/data_scientist/data?\n",
    "```\n",
    "\n",
    "the answer would be\n",
    "```shell\n",
    "$ cd /home/data_scientist/data\n",
    "```\n",
    "\n",
    "or\n",
    "\n",
    "```shell\n",
    "$ cd data\n",
    "```\n",
    "\n",
    "So, I would try it in the terminal and verify that the command works. After I'm convinced that I have the correct answer, I would return to the notebook, and start by writing ! in the code cell and type my answer.\n",
    "\n",
    "```\n",
    "!cd data\n",
    "```\n",
    "\n",
    "If you are comfortable with running shell commands directly from the notebook, you don't have to use the terminal, and you can directly enter your answers in the notebook. Your goal is to fill the blank code cells so that the tests (the assertion statements) don't produce any errors.\n",
    "\n",
    "## Create a directory\n",
    "\n",
    "Now that you understand how the shell commands work in IPython notebooks, let's practice what you have learned. In the following code cell,\n",
    "\n",
    "- Use Unix shell commands to create a new directory at `/home/data_scientist/temp/data`."
   ]
  },
  {
   "cell_type": "code",
   "execution_count": null,
   "metadata": {
    "collapsed": false,
    "deletable": false,
    "nbgrader": {
     "checksum": "a80ee262318b0411133303193f4f9d83",
     "grade": false,
     "grade_id": "mkdir_answer",
     "locked": false,
     "solution": true
    }
   },
   "outputs": [],
   "source": [
    "# YOUR CODE HERE"
   ]
  },
  {
   "cell_type": "markdown",
   "metadata": {
    "deletable": false,
    "nbgrader": {
     "checksum": "517f4535e851bd729d6201821a108b73",
     "grade": false,
     "grade_id": "markdown_5",
     "locked": true,
     "solution": false
    }
   },
   "source": [
    "The following test checks if you have successfully created the `data` directory."
   ]
  },
  {
   "cell_type": "code",
   "execution_count": null,
   "metadata": {
    "collapsed": false,
    "deletable": false,
    "nbgrader": {
     "checksum": "2eae67b32005ef2854f4259d0cb5f8bf",
     "grade": true,
     "grade_id": "mkdir_test",
     "locked": true,
     "points": 4,
     "solution": false
    }
   },
   "outputs": [],
   "source": [
    "assert_true(os.path.exists(\"/home/data_scientist/temp/data\"))"
   ]
  },
  {
   "cell_type": "markdown",
   "metadata": {
    "deletable": false,
    "nbgrader": {
     "checksum": "be80892e81d31e79c513758801cbf6bc",
     "grade": false,
     "grade_id": "markdown_6",
     "locked": true,
     "solution": false
    }
   },
   "source": [
    "Now, in `/home/data_scientist/data`, we have a file named `airports.csv`:\n",
    "\n",
    "```shell\n",
    "$ ls /home/data_scientist/data\n",
    "```\n",
    "```\n",
    "2001\t      airports.csv  email\t     nltk_data\t     weather\n",
    "2001.csv      carriers.csv  misc\t     plane-data.csv\n",
    "2001.csv.bz2  delta.csv     ml-latest-small  textdm\n",
    "```"
   ]
  },
  {
   "cell_type": "code",
   "execution_count": null,
   "metadata": {
    "collapsed": false,
    "deletable": false,
    "nbgrader": {
     "checksum": "9287d8ff83eab47819bc0f437935755b",
     "grade": false,
     "grade_id": "ls",
     "locked": true,
     "solution": false
    }
   },
   "outputs": [],
   "source": [
    "!ls /home/data_scientist/data"
   ]
  },
  {
   "cell_type": "markdown",
   "metadata": {
    "deletable": false,
    "nbgrader": {
     "checksum": "8d25719635e7b28939594e7fd9e388cc",
     "grade": false,
     "grade_id": "markdown_7",
     "locked": true,
     "solution": false
    }
   },
   "source": [
    "## Copy airports.csv\n",
    "\n",
    "- Copy this file, `/home/data_scientist/data/airports.csv`, to the newly created directory, `/home/data_scientist/temp/data`."
   ]
  },
  {
   "cell_type": "code",
   "execution_count": null,
   "metadata": {
    "collapsed": false,
    "deletable": false,
    "nbgrader": {
     "checksum": "9fbad0c7f4c14def944f734e7b1b3fe6",
     "grade": false,
     "grade_id": "cp_answer",
     "locked": false,
     "solution": true
    }
   },
   "outputs": [],
   "source": [
    "# YOUR CODE HERE"
   ]
  },
  {
   "cell_type": "code",
   "execution_count": null,
   "metadata": {
    "collapsed": false,
    "deletable": false,
    "nbgrader": {
     "checksum": "de0af92f24cd754fa90fd51d45a49e27",
     "grade": true,
     "grade_id": "cp_test",
     "locked": true,
     "points": 3,
     "solution": false
    }
   },
   "outputs": [],
   "source": [
    "assert_true(os.path.exists(\"/home/data_scientist/temp/data/airports.csv\"))"
   ]
  },
  {
   "cell_type": "markdown",
   "metadata": {
    "deletable": false,
    "nbgrader": {
     "checksum": "a17f60336607cb37a51e1b72361c4697",
     "grade": false,
     "grade_id": "markdown_8",
     "locked": true,
     "solution": false
    }
   },
   "source": [
    "## List the contents\n",
    "\n",
    "- Verify that the file is now in the newly created directory by listing the contents of `/home/data_scientist/data/airports.csv`.\n",
    "- Capture the results of your shell command, and assign it to a Python variable named `contents`. That is, you answer should begin with\n",
    "\n",
    "```\n",
    "contents = ! # YOUR CODE HERE\n",
    "```"
   ]
  },
  {
   "cell_type": "code",
   "execution_count": null,
   "metadata": {
    "collapsed": false,
    "deletable": false,
    "nbgrader": {
     "checksum": "a04db37eed0d2eb3ffe25f9ba1072e21",
     "grade": false,
     "grade_id": "contents_answer",
     "locked": false,
     "solution": true
    }
   },
   "outputs": [],
   "source": [
    "# YOUR CODE HERE"
   ]
  },
  {
   "cell_type": "code",
   "execution_count": null,
   "metadata": {
    "collapsed": false,
    "deletable": false,
    "nbgrader": {
     "checksum": "2fb806cf32de1ef44a8c54044b7ed684",
     "grade": false,
     "grade_id": "print_contents",
     "locked": true,
     "solution": false
    }
   },
   "outputs": [],
   "source": [
    "print(contents)"
   ]
  },
  {
   "cell_type": "code",
   "execution_count": null,
   "metadata": {
    "collapsed": false,
    "deletable": false,
    "nbgrader": {
     "checksum": "0c2aae89c3ae9a822536684b86b89a6f",
     "grade": true,
     "grade_id": "contents_test",
     "locked": true,
     "points": 3,
     "solution": false
    }
   },
   "outputs": [],
   "source": [
    "assert_true([\"airports.csv\" in i for i in contents])"
   ]
  },
  {
   "cell_type": "markdown",
   "metadata": {
    "deletable": false,
    "nbgrader": {
     "checksum": "662aa98fab53ac831fe4f0f7ff5442ee",
     "grade": false,
     "grade_id": "markdown_9",
     "locked": true,
     "solution": false
    }
   },
   "source": [
    "We don't need this temporary directory anymore, so we use `rm` to clean up."
   ]
  },
  {
   "cell_type": "code",
   "execution_count": null,
   "metadata": {
    "collapsed": true,
    "deletable": false,
    "nbgrader": {
     "checksum": "4015868faf70e8e6d6f12b7ec77b5233",
     "grade": false,
     "grade_id": "rm",
     "locked": true,
     "solution": false
    }
   },
   "outputs": [],
   "source": [
    "! rm -rf /home/data_scientist/temp"
   ]
  }
 ],
 "metadata": {
  "kernelspec": {
   "display_name": "Python 3",
   "language": "python",
   "name": "python3"
  },
  "language_info": {
   "codemirror_mode": {
    "name": "ipython",
    "version": 3
   },
   "file_extension": ".py",
   "mimetype": "text/x-python",
   "name": "python",
   "nbconvert_exporter": "python",
   "pygments_lexer": "ipython3",
   "version": "3.5.2"
  }
 },
 "nbformat": 4,
 "nbformat_minor": 1
}
