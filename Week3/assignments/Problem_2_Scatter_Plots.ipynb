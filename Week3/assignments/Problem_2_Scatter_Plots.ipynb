{
 "cells": [
  {
   "cell_type": "markdown",
   "metadata": {
    "deletable": false,
    "nbgrader": {
     "checksum": "a98c739c45025e75b7a8a39168517825",
     "grade": false,
     "grade_id": "header",
     "locked": true,
     "solution": false
    }
   },
   "source": [
    "A few things you should keep in mind when working on assignments:\n",
    "\n",
    "1. Make sure you fill in any place that says `YOUR CODE HERE`. Do **not** write your answer in anywhere else other than where it says `YOUR CODE HERE`. Anything you write anywhere else will be removed or overwritten by the autograder.\n",
    "\n",
    "2. Before you submit your assignment, make sure everything runs as expected. Go to menubar, select _Kernel_, and restart the kernel and run all cells (_Restart & Run all_).\n",
    "\n",
    "3. Do not change the title (i.e. file name) of this notebook.\n",
    "\n",
    "4. Make sure that you save your work (in the menubar, select _File_ → _Save and CheckPoint_)\n",
    "\n",
    "5. You are allowed to submit an assignment multiple times, but only the most recent submission will be graded."
   ]
  },
  {
   "cell_type": "markdown",
   "metadata": {
    "deletable": false,
    "nbgrader": {
     "checksum": "da7419aaa5605f49071116f8c7c67c33",
     "grade": false,
     "grade_id": "title",
     "locked": true,
     "solution": false
    }
   },
   "source": [
    "# Problem 2. Scatter Plots\n",
    "\n",
    "In this problem, we will create a simple two-dimensional scatter plot using Python."
   ]
  },
  {
   "cell_type": "code",
   "execution_count": null,
   "metadata": {
    "collapsed": true,
    "deletable": false,
    "nbgrader": {
     "checksum": "6ed9f961596f59bab552c22e8e3d7fc6",
     "grade": false,
     "grade_id": "import",
     "locked": true,
     "solution": false
    }
   },
   "outputs": [],
   "source": [
    "%matplotlib inline\n",
    "\n",
    "# plotting tools\n",
    "import matplotlib as mpl\n",
    "import matplotlib.pyplot as plt\n",
    "import numpy as np\n",
    "import seaborn as sns\n",
    "\n",
    "# testing tools\n",
    "from nose.tools import assert_equal, assert_is_instance, assert_is_not\n",
    "from numpy.testing import assert_array_equal"
   ]
  },
  {
   "cell_type": "markdown",
   "metadata": {
    "deletable": false,
    "nbgrader": {
     "checksum": "fd50942437b6feae84d71457d543bf00",
     "grade": false,
     "grade_id": "markdown_1",
     "locked": true,
     "solution": false
    }
   },
   "source": [
    "Suppose we are given arrival delays and departure delays of 15 different flights, and we want to visualize the relationship between the arrival and departure delays using a scatter plot."
   ]
  },
  {
   "cell_type": "code",
   "execution_count": null,
   "metadata": {
    "collapsed": true,
    "deletable": false,
    "nbgrader": {
     "checksum": "132c6ab47ec574236d773115cadea985",
     "grade": false,
     "grade_id": "define_delays",
     "locked": true,
     "solution": false
    }
   },
   "outputs": [],
   "source": [
    "arr_delay = [-3, 4, 23, 10, 20, -3, -10, -12, -9, -1, -6, 0, -12, -7, -10]\n",
    "dep_delay = [-4, -5, 11, -3, 0, -3, -8, -6, 2, 2, 2, -6, -8, -3, -5]"
   ]
  },
  {
   "cell_type": "markdown",
   "metadata": {
    "deletable": false,
    "nbgrader": {
     "checksum": "362e25c903cd55527f9db0ac4e2c9b99",
     "grade": false,
     "grade_id": "markdown_2",
     "locked": true,
     "solution": false
    }
   },
   "source": [
    "Looking at the first data points of `arr_delay` and `dep_delay` (i.e., `arr_delay[0]` and `dep_delay[0]`), the first flight arrived 3 minutes earlier than scheduled, and it arrived 4 minutes earlier than schedule; the second data points (i.e., `arr_delay[1]` and `dep_delay[1]`) indicate that the second flight departed 5 minutes earlier than scheduled, but it arrived 4 minutes late; and so on.\n",
    "\n",
    "Your task in this problem is to create a scatter plot with `arr_delay` in the $x$-axis and `dep_delay` in the $y$-axis.\n",
    "\n",
    "Here's a sample plot.\n",
    "\n",
    "![](scatter.png)\n",
    "\n",
    "You don't have to make your plot look exactly like this example. If your plot looks visually OK, and if the test code cell doesn't produce any errors, your solution is correct.\n",
    "\n",
    "## Write a function named `make_scatter_plot` that creates a two-dimensional scatter plot given two lists, `x` and `y`.\n",
    "\n",
    "- Note that code for creating a `Figure` object and an `Axes` object is already provided:\n",
    "```python\n",
    "fig, ax = plt.subplots()\n",
    "```\n",
    "Also note that the `plot_sine` function returns an instance (named `ax`) of the `Axes` object. You should use `ax` to create your plot (check out the [lesson notebook on Python Plotting](https://datascience.business.illinois.edu/user/jkim575/notebooks/accy570-fa16_RO/Week3/notebooks/intro2plotting.ipynb)). The reason we write our function to return an `Axes` instance is because we want to use it for testing our function.\n",
    "\n",
    "- Your plot should have a title and axis labels."
   ]
  },
  {
   "cell_type": "code",
   "execution_count": null,
   "metadata": {
    "collapsed": true,
    "deletable": false,
    "nbgrader": {
     "checksum": "5a8d1a12d1f587da048e97b8917df6a5",
     "grade": false,
     "grade_id": "make_scatter_plot_answer",
     "locked": false,
     "solution": true
    }
   },
   "outputs": [],
   "source": [
    "def make_scatter_plot(x, y):\n",
    "    \"\"\"\n",
    "    Creates a two-dimensional scatter plot.\n",
    "    \n",
    "    Parameters\n",
    "    ----------\n",
    "    x: A list of integers. Data points for the x-axis.\n",
    "    y: A list of integers. Data poitns for the y-axis.\n",
    "    \n",
    "    Returns\n",
    "    -------\n",
    "    A matplotlib.Axes object.\n",
    "    \"\"\"\n",
    "    \n",
    "    fig, ax = plt.subplots()\n",
    "    \n",
    "    # YOUR CODE HERE\n",
    "    \n",
    "    return ax"
   ]
  },
  {
   "cell_type": "code",
   "execution_count": null,
   "metadata": {
    "collapsed": false,
    "deletable": false,
    "nbgrader": {
     "checksum": "09de1912ff01cd75bf921e6f7087a030",
     "grade": false,
     "grade_id": "make_scatter_plot_run",
     "locked": true,
     "points": 10,
     "solution": false
    }
   },
   "outputs": [],
   "source": [
    "ax = make_scatter_plot(arr_delay, dep_delay)"
   ]
  },
  {
   "cell_type": "code",
   "execution_count": null,
   "metadata": {
    "collapsed": false,
    "deletable": false,
    "nbgrader": {
     "checksum": "76f902b0089ed18f7baf16d55bc69e80",
     "grade": true,
     "grade_id": "make_scatter_plot_test1",
     "locked": true,
     "points": 10,
     "solution": false
    }
   },
   "outputs": [],
   "source": [
    "assert_is_instance(\n",
    "    ax, mpl.axes.Axes,\n",
    "    msg=\"Your function should return a matplotlib.axes.Axes object.\"\n",
    ")\n",
    "\n",
    "assert_equal(\n",
    "    len(ax.collections), 1,\n",
    "    msg=\"Your plot does not have any data points.\"\n",
    ")\n",
    "\n",
    "assert_is_not(\n",
    "    len(ax.title.get_text()), 0,\n",
    "    msg=\"Your plot doesn't have a title.\"\n",
    ")\n",
    "assert_is_not(\n",
    "    ax.xaxis.get_label_text(), '',\n",
    "    msg=\"Change the x-axis label to something more descriptive.\"\n",
    ")\n",
    "assert_is_not(\n",
    "    ax.yaxis.get_label_text(), '',\n",
    "    msg=\"Change the y-axis label to something more descriptive.\"\n",
    ")\n",
    "    \n",
    "xdata, ydata = ax.collections[0].get_offsets().T\n",
    "assert_array_equal(xdata, arr_delay)\n",
    "assert_array_equal(ydata, dep_delay)\n",
    "\n",
    "# If your function can only plot the delays and\n",
    "# cannot handle other data sets, the following test will fail.\n",
    "x1 = np.random.randint(100, size=100)\n",
    "y1 = np.random.randint(100, size=100)\n",
    "\n",
    "ax1 = make_scatter_plot(x1, y1)\n",
    "\n",
    "x1data, y1data = ax1.collections[0].get_offsets().T\n",
    "assert_array_equal(x1, x1data)\n",
    "assert_array_equal(y1, y1data)\n",
    "\n",
    "plt.close()"
   ]
  }
 ],
 "metadata": {
  "kernelspec": {
   "display_name": "Python 3",
   "language": "python",
   "name": "python3"
  },
  "language_info": {
   "codemirror_mode": {
    "name": "ipython",
    "version": 3
   },
   "file_extension": ".py",
   "mimetype": "text/x-python",
   "name": "python",
   "nbconvert_exporter": "python",
   "pygments_lexer": "ipython3",
   "version": "3.5.2"
  }
 },
 "nbformat": 4,
 "nbformat_minor": 1
}
