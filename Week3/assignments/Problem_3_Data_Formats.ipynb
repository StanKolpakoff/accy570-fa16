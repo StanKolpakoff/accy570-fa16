{
 "cells": [
  {
   "cell_type": "markdown",
   "metadata": {
    "deletable": false,
    "nbgrader": {
     "checksum": "a98c739c45025e75b7a8a39168517825",
     "grade": false,
     "grade_id": "header",
     "locked": true,
     "solution": false
    }
   },
   "source": [
    "A few things you should keep in mind when working on assignments:\n",
    "\n",
    "1. Make sure you fill in any place that says `YOUR CODE HERE`. Do **not** write your answer in anywhere else other than where it says `YOUR CODE HERE`. Anything you write anywhere else will be removed or overwritten by the autograder.\n",
    "\n",
    "2. Before you submit your assignment, make sure everything runs as expected. Go to menubar, select _Kernel_, and restart the kernel and run all cells (_Restart & Run all_).\n",
    "\n",
    "3. Do not change the title (i.e. file name) of this notebook.\n",
    "\n",
    "4. Make sure that you save your work (in the menubar, select _File_ → _Save and CheckPoint_)\n",
    "\n",
    "5. You are allowed to submit an assignment multiple times, but only the most recent submission will be graded."
   ]
  },
  {
   "cell_type": "markdown",
   "metadata": {
    "deletable": false,
    "nbgrader": {
     "checksum": "00625152d23d0d05427202ee031c2f04",
     "grade": false,
     "grade_id": "title",
     "locked": true,
     "solution": false
    }
   },
   "source": [
    "# Problem 3. Data Formats\n",
    "\n",
    "In this problem, we read data from a CSV file and write it to a JSON file."
   ]
  },
  {
   "cell_type": "code",
   "execution_count": null,
   "metadata": {
    "collapsed": true,
    "deletable": false,
    "nbgrader": {
     "checksum": "a9dbef08584367e7245efcb677fa6968",
     "grade": false,
     "grade_id": "import",
     "locked": true,
     "solution": false
    }
   },
   "outputs": [],
   "source": [
    "import csv\n",
    "import json\n",
    "from pprint import pprint\n",
    "\n",
    "import os, random # used in tests\n",
    "\n",
    "from nose.tools import assert_equal, assert_is_instance, assert_true"
   ]
  },
  {
   "cell_type": "markdown",
   "metadata": {
    "deletable": false,
    "nbgrader": {
     "checksum": "7f955e1f6c69cae375021cb464fff5bd",
     "grade": false,
     "grade_id": "markdown_1",
     "locked": true,
     "solution": false
    }
   },
   "source": [
    "Suppose we have a CSV file with 4 columns: `Year`, `Month`, `DayofMonth`, and `ArrDelay`.\n",
    "\n",
    "```\n",
    "Year,Month,DayofMonth,ArrDelay\n",
    "2001,1,17,-3\n",
    "2001,1,18,4\n",
    "2001,1,19,23\n",
    "2001,1,20,10\n",
    "2001,1,20,20\n",
    "```\n",
    "\n",
    "Note that this CSV file is the same file we used in [Week 2 Problem 3](https://github.com/UI-DataScience/accy570-fa16/blob/master/Week2/assignments/Problem_3_Pandas.ipynb). `ArrDelay` represents the arrival delay of a flight on the given date. So the first row says, on January 17, 2001, a flight arrived 3 minutes earlier than scheduled; the second row says, on January 18, 2001, a flight was delayed 4 minutes; and so on. For simplicity, let us suppose that the CSV file has only 5 rows of data, but real-world data will have many more.\n",
    "\n",
    "\n",
    "In the following cell, we will use Python to create the CSV file and name it `sample.csv`. (For simplicity, we won't include a header row this time.)"
   ]
  },
  {
   "cell_type": "code",
   "execution_count": null,
   "metadata": {
    "collapsed": true,
    "deletable": false,
    "nbgrader": {
     "checksum": "662ad9f3f9f755650a6ea31a6c6650be",
     "grade": false,
     "grade_id": "csv_test",
     "locked": true,
     "solution": false
    }
   },
   "outputs": [],
   "source": [
    "csv_text = \"\"\"2001,1,17,-3\n",
    "2001,1,18,4\n",
    "2001,1,19,23\n",
    "2001,1,20,10\n",
    "2001,1,20,20\"\"\"\n",
    "\n",
    "with open('sample.csv', 'w') as f:\n",
    "    f.write(csv_text)"
   ]
  },
  {
   "cell_type": "markdown",
   "metadata": {
    "deletable": false,
    "nbgrader": {
     "checksum": "fc3985072b8e10b5da4fe735fa694bd6",
     "grade": false,
     "grade_id": "markdown_2",
     "locked": true,
     "solution": false
    }
   },
   "source": [
    "In the following code cell, we use an IPython magic function called `%cat` to verify that we have successfully created the CSV file. The `%cat` magic displays the contents of a file."
   ]
  },
  {
   "cell_type": "code",
   "execution_count": null,
   "metadata": {
    "collapsed": false,
    "deletable": false,
    "nbgrader": {
     "checksum": "cf7cc238e491a5d02d7ea8ab5f1e9476",
     "grade": false,
     "grade_id": "cat_sample_csv",
     "locked": true,
     "solution": false
    }
   },
   "outputs": [],
   "source": [
    "%cat sample.csv"
   ]
  },
  {
   "cell_type": "markdown",
   "metadata": {
    "deletable": false,
    "nbgrader": {
     "checksum": "08cfb632f089b3cc8ccd8e6661ec1a56",
     "grade": false,
     "grade_id": "markdown_3",
     "locked": true,
     "solution": false
    }
   },
   "source": [
    "## Write a function named `read_csv` that reads a CSV file and returns a list (of lists of strings) that can be used for writing to a JSON format.\n",
    "\n",
    "To describe what this function is supposed to do, let's use `sample.csv` as an example.\n",
    "\n",
    "```python\n",
    ">>> %cat sample.csv\n",
    "```\n",
    "```\n",
    "2001,1,17,-3\n",
    "2001,1,18,4\n",
    "2001,1,19,23\n",
    "2001,1,20,10\n",
    "2001,1,20,20\n",
    "```\n",
    "\n",
    "When we use `\"sample.csv\"` as an argument to the `read_csv` function and print out the result,\n",
    "\n",
    "```python\n",
    ">>> data = read_csv('sample.csv')\n",
    ">>> pprint(data)\n",
    "```\n",
    "\n",
    "it should return\n",
    "\n",
    "```\n",
    "[['2001', '1', '17', '-3'],\n",
    " ['2001', '1', '18', '4'],\n",
    " ['2001', '1', '19', '23'],\n",
    " ['2001', '1', '20', '10'],\n",
    " ['2001', '1', '20', '20']]\n",
    "```\n",
    "\n",
    "Note that each value in the CSV file is a string, and each line is represented as a list of strings. The entire file is a list of these lists of strings, so the function returns a list of lists (of strings).\n",
    "\n",
    "Once we have the data in a proper format, we can simply dump the data as follows to write to a JSON format.\n",
    "\n",
    "```python\n",
    ">>> with open('sample.json', 'w') as fout:\n",
    ">>>    json.dump(data, fout)\n",
    "```\n",
    "```python\n",
    ">>> %cat sample.json\n",
    "```\n",
    "```\n",
    "[['2001', '1', '17', '-3'],\n",
    " ['2001', '1', '18', '4'],\n",
    " ['2001', '1', '19', '23'],\n",
    " ['2001', '1', '20', '10'],\n",
    " ['2001', '1', '20', '20']]\n",
    "```"
   ]
  },
  {
   "cell_type": "code",
   "execution_count": null,
   "metadata": {
    "collapsed": false,
    "deletable": false,
    "nbgrader": {
     "checksum": "060774ab5e6ff6448e1266e396c333b6",
     "grade": false,
     "grade_id": "read_csv_answer",
     "locked": false,
     "points": 10,
     "solution": true
    }
   },
   "outputs": [],
   "source": [
    "def read_csv(filename):\n",
    "    \"\"\"\n",
    "    Reads a CSV file and returns a list of lists of strings.\n",
    "    \n",
    "    Parameters\n",
    "    ----------\n",
    "    filename: A string, e.g. 'sample.csv', 'airports.csv'.\n",
    "    \n",
    "    Returns\n",
    "    -------\n",
    "    A list of lists of strings.\n",
    "    \"\"\"\n",
    "    \n",
    "    # YOUR CODE HERE\n",
    "    \n",
    "    return result"
   ]
  },
  {
   "cell_type": "code",
   "execution_count": null,
   "metadata": {
    "collapsed": false,
    "deletable": false,
    "nbgrader": {
     "checksum": "3defe11fb4e99a47af07035d2105323b",
     "grade": false,
     "grade_id": "read_csv_run",
     "locked": true,
     "solution": false
    }
   },
   "outputs": [],
   "source": [
    "data = read_csv('sample.csv')\n",
    "pprint(data)"
   ]
  },
  {
   "cell_type": "markdown",
   "metadata": {
    "deletable": false,
    "nbgrader": {
     "checksum": "2da3b16c501d1a49e2400047544d014f",
     "grade": false,
     "grade_id": "markdown_4",
     "locked": true,
     "solution": false
    }
   },
   "source": [
    "In the following code cell, we use the `json` library to test if we can write `data` to a JSON file and read it back. Since we are simply dumping the data and then loading it without doing anything in between, the output of this code should be identical to the output in the previous code cell."
   ]
  },
  {
   "cell_type": "code",
   "execution_count": null,
   "metadata": {
    "collapsed": false,
    "deletable": false,
    "nbgrader": {
     "checksum": "eec13a7947bc92ca455665407c484a9b",
     "grade": false,
     "grade_id": "json_dump_load",
     "locked": true,
     "solution": false
    }
   },
   "outputs": [],
   "source": [
    "with open('sample.json', 'w') as fout:\n",
    "    json.dump(data, fout)\n",
    "    \n",
    "with open('sample.json', 'r') as fin:\n",
    "    data = json.load(fin)\n",
    "\n",
    "pprint(data)"
   ]
  },
  {
   "cell_type": "code",
   "execution_count": null,
   "metadata": {
    "collapsed": false,
    "deletable": false,
    "nbgrader": {
     "checksum": "65d04e3160fe8e542de32cc201e587f8",
     "grade": true,
     "grade_id": "read_csv_test",
     "locked": true,
     "points": 10,
     "solution": false
    }
   },
   "outputs": [],
   "source": [
    "assert_is_instance(data, list)\n",
    "assert_equal(len(data), 5)\n",
    "assert_equal(data[0], ['2001', '1', '17', '-3'])\n",
    "assert_equal(data[1], ['2001', '1', '18', '4'])\n",
    "assert_equal(data[2], ['2001', '1', '19', '23'])\n",
    "assert_equal(data[3], ['2001', '1', '20', '10'])\n",
    "assert_equal(data[4], ['2001', '1', '20', '20'])\n",
    "\n",
    "# if the function can only handle a specific case (sample.csv)\n",
    "# and cannot handle other CSV files, the following test will fail.\n",
    "def make_random_line():\n",
    "    return [str(i) for i in random.sample(range(10000), 10)]\n",
    "\n",
    "test_csv = [make_random_line() for _ in range(10)]\n",
    "\n",
    "with open('test.csv', 'w') as f:\n",
    "    for line in test_csv:\n",
    "        text = ','.join(line)\n",
    "        f.write('{}\\n'.format(text))\n",
    "\n",
    "test_data = read_csv('test.csv')\n",
    "assert_equal(test_csv, test_data)\n",
    "os.remove('test.csv')"
   ]
  }
 ],
 "metadata": {
  "kernelspec": {
   "display_name": "Python 3",
   "language": "python",
   "name": "python3"
  },
  "language_info": {
   "codemirror_mode": {
    "name": "ipython",
    "version": 3
   },
   "file_extension": ".py",
   "mimetype": "text/x-python",
   "name": "python",
   "nbconvert_exporter": "python",
   "pygments_lexer": "ipython3",
   "version": "3.5.2"
  }
 },
 "nbformat": 4,
 "nbformat_minor": 1
}
