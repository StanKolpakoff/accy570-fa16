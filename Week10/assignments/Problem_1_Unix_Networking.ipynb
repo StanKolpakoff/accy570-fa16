{
 "cells": [
  {
   "cell_type": "markdown",
   "metadata": {
    "deletable": false,
    "nbgrader": {
     "checksum": "a98c739c45025e75b7a8a39168517825",
     "grade": false,
     "grade_id": "header",
     "locked": true,
     "solution": false
    }
   },
   "source": [
    "A few things you should keep in mind when working on assignments:\n",
    "\n",
    "1. Make sure you fill in any place that says `YOUR CODE HERE`. Do **not** write your answer in anywhere else other than where it says `YOUR CODE HERE`. Anything you write anywhere else will be removed or overwritten by the autograder.\n",
    "\n",
    "2. Before you submit your assignment, make sure everything runs as expected. Go to menubar, select _Kernel_, and restart the kernel and run all cells (_Restart & Run all_).\n",
    "\n",
    "3. Do not change the title (i.e. file name) of this notebook.\n",
    "\n",
    "4. Make sure that you save your work (in the menubar, select _File_ → _Save and CheckPoint_)\n",
    "\n",
    "5. You are allowed to submit an assignment multiple times, but only the most recent submission will be graded."
   ]
  },
  {
   "cell_type": "markdown",
   "metadata": {
    "deletable": false,
    "nbgrader": {
     "checksum": "abf405e3dacc73bcf43dbb6667342943",
     "grade": false,
     "grade_id": "title",
     "locked": true,
     "solution": false
    }
   },
   "source": [
    "# Problem 1. Unix Networking\n",
    "\n",
    "In this problem, we use Unix commands to download and extract a compressed file."
   ]
  },
  {
   "cell_type": "code",
   "execution_count": null,
   "metadata": {
    "collapsed": true,
    "deletable": false,
    "nbgrader": {
     "checksum": "3eaa1a702d5c55453330fcb3c8956086",
     "grade": false,
     "grade_id": "import",
     "locked": true,
     "solution": false
    }
   },
   "outputs": [],
   "source": [
    "import os\n",
    "from nose.tools import assert_equal, assert_false"
   ]
  },
  {
   "cell_type": "markdown",
   "metadata": {
    "deletable": false,
    "nbgrader": {
     "checksum": "ff10a7f443d7f40f4ad0f02b2194e916",
     "grade": false,
     "grade_id": "markdown_1",
     "locked": true,
     "solution": false
    }
   },
   "source": [
    "We have been using the [airline on-time performance data](http://stat-computing.org/dataexpo/2009/the-data.html) in lessons and assignments. Since we are using a centralized Jupyterhub server in this course, this file was provided for you. However, suppose you are working in a different environment, and you have to download the data. How would you use Unix commands to download a file, and if the file is compressed, extract it so you can perform some text processing?\n",
    "\n",
    "## Use `wget` to download the [airline on-time performance data](http://stat-computing.org/dataexpo/2009/the-data.html) to the current directory.\n",
    "\n",
    "- Use the 2001 data. The url is http://stat-computing.org/dataexpo/2009/2001.csv.bz2.\n",
    "- Note the file name ends with `.bz2`, a common file extension for [bzip2](https://en.wikipedia.org/wiki/Bzip2) compressed files.\n",
    "- Don't forget that you need the exclamation point (`!`) to run Unix commands in Jupyter notebooks.\n",
    "- See the [Unix Networking notebook](https://github.com/UI-DataScience/accy570-fa16/blob/master/Week10/notebooks/unixnetwork.ipynb) and Chapter 16 of [The Linux Command Line](https://sourceforge.net/projects/linuxcommand/?source=dlp)."
   ]
  },
  {
   "cell_type": "code",
   "execution_count": null,
   "metadata": {
    "collapsed": false,
    "deletable": false,
    "nbgrader": {
     "checksum": "af9defb7491c08f15d8b5b1374f2bb0b",
     "grade": false,
     "grade_id": "wget_answer",
     "locked": false,
     "solution": true
    }
   },
   "outputs": [],
   "source": [
    "# YOUR CODE HERE"
   ]
  },
  {
   "cell_type": "markdown",
   "metadata": {
    "deletable": false,
    "nbgrader": {
     "checksum": "eadf0a2843afb448c4b1e2b778ece7d4",
     "grade": false,
     "grade_id": "markdown_2",
     "locked": true,
     "solution": false
    }
   },
   "source": [
    "You might want to use `ls` to list the contents of the current working directory and see if there is `2001.csv.bz2`."
   ]
  },
  {
   "cell_type": "code",
   "execution_count": null,
   "metadata": {
    "collapsed": false,
    "deletable": false,
    "nbgrader": {
     "checksum": "236f0c1d888dec39e3c0920ae57cd3d1",
     "grade": false,
     "grade_id": "ls_1",
     "locked": true,
     "solution": false
    }
   },
   "outputs": [],
   "source": [
    "!ls"
   ]
  },
  {
   "cell_type": "markdown",
   "metadata": {
    "deletable": false,
    "nbgrader": {
     "checksum": "4166024a097e63d8ec521514f3a68b35",
     "grade": false,
     "grade_id": "markdown_3",
     "locked": true,
     "solution": false
    }
   },
   "source": [
    "In the following code cell, we will calculate the [checksum](https://en.wikipedia.org/wiki/Checksum) of the file to check if you have the correct file. Don't worry if you don't understand the code (or what checksum is); just make sure that it doesn't produce any errors."
   ]
  },
  {
   "cell_type": "code",
   "execution_count": null,
   "metadata": {
    "collapsed": false,
    "deletable": false,
    "nbgrader": {
     "checksum": "a736a9035f62e905e601741b3f091601",
     "grade": true,
     "grade_id": "wget_test",
     "locked": true,
     "points": 5,
     "solution": false
    }
   },
   "outputs": [],
   "source": [
    "def get_checksum(filename):\n",
    "    import hashlib\n",
    "    with open(filename, 'rb') as f:\n",
    "        md5 = hashlib.md5(f.read())\n",
    "    return md5.hexdigest()\n",
    "\n",
    "assert_equal(get_checksum('2001.csv.bz2'), 'e855ba7cc04f560199953833305a0f90')"
   ]
  },
  {
   "cell_type": "markdown",
   "metadata": {
    "deletable": false,
    "nbgrader": {
     "checksum": "6d9fdd196f530b4805ac41bdec9c71f7",
     "grade": false,
     "grade_id": "markdown_4",
     "locked": true,
     "solution": false
    }
   },
   "source": [
    "Since the downloaded file is compressed, we have to extract it.\n",
    "\n",
    "## Extract the compressed file.\n",
    "\n",
    "- Use `bzip2` with the `-d` option to extract the flight data file you downloaded in the previous section.\n",
    "- See Chapter 18 of [The Linux Command Line](https://sourceforge.net/projects/linuxcommand/?source=dlp)."
   ]
  },
  {
   "cell_type": "code",
   "execution_count": null,
   "metadata": {
    "collapsed": false,
    "deletable": false,
    "nbgrader": {
     "checksum": "23d8eb6099ed4c47dee8d31545f12569",
     "grade": false,
     "grade_id": "bzip2_answer",
     "locked": false,
     "solution": true
    }
   },
   "outputs": [],
   "source": [
    "# YOUR CODE HERE"
   ]
  },
  {
   "cell_type": "markdown",
   "metadata": {},
   "source": [
    "You might want to use `ls` to list the contents of the current working directory and see if the file was extracted successfully to `2001.csv`."
   ]
  },
  {
   "cell_type": "code",
   "execution_count": null,
   "metadata": {
    "collapsed": false,
    "deletable": false,
    "nbgrader": {
     "checksum": "dd2415ef2f2885fd20fd1947ea5184e4",
     "grade": false,
     "grade_id": "ls_2",
     "locked": true,
     "solution": false
    }
   },
   "outputs": [],
   "source": [
    "!ls"
   ]
  },
  {
   "cell_type": "markdown",
   "metadata": {
    "deletable": false,
    "nbgrader": {
     "checksum": "1d6e5f7c0cd5c8378566678c1d4a1408",
     "grade": false,
     "grade_id": "markdown_5",
     "locked": true,
     "solution": false
    }
   },
   "source": [
    "The following code cells are for testing your answer and performing clean-up."
   ]
  },
  {
   "cell_type": "code",
   "execution_count": null,
   "metadata": {
    "collapsed": false,
    "deletable": false,
    "nbgrader": {
     "checksum": "3060770f01fd13d3c6b87979013ead72",
     "grade": true,
     "grade_id": "bzip2_test",
     "locked": true,
     "points": 5,
     "solution": false
    }
   },
   "outputs": [],
   "source": [
    "assert_equal(get_checksum('2001.csv'), '3ca459bb83ad2074fcb4c8b88d28fcaf')\n",
    "assert_false(os.path.exists('2001.csv.bz2'))"
   ]
  },
  {
   "cell_type": "code",
   "execution_count": null,
   "metadata": {
    "collapsed": false,
    "deletable": false,
    "nbgrader": {
     "checksum": "d172a15a0f8358a3e8796def1b50efa1",
     "grade": false,
     "grade_id": "rm",
     "locked": true,
     "solution": false
    }
   },
   "outputs": [],
   "source": [
    "!rm $(pwd)/2001.csv*"
   ]
  },
  {
   "cell_type": "code",
   "execution_count": null,
   "metadata": {
    "collapsed": true
   },
   "outputs": [],
   "source": []
  }
 ],
 "metadata": {
  "kernelspec": {
   "display_name": "Python 3",
   "language": "python",
   "name": "python3"
  },
  "language_info": {
   "codemirror_mode": {
    "name": "ipython",
    "version": 3
   },
   "file_extension": ".py",
   "mimetype": "text/x-python",
   "name": "python",
   "nbconvert_exporter": "python",
   "pygments_lexer": "ipython3",
   "version": "3.5.2"
  }
 },
 "nbformat": 4,
 "nbformat_minor": 1
}
