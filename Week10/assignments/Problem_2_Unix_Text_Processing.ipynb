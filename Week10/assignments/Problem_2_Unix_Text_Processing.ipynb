{
 "cells": [
  {
   "cell_type": "markdown",
   "metadata": {
    "deletable": false,
    "nbgrader": {
     "checksum": "a98c739c45025e75b7a8a39168517825",
     "grade": false,
     "grade_id": "header",
     "locked": true,
     "solution": false
    }
   },
   "source": [
    "A few things you should keep in mind when working on assignments:\n",
    "\n",
    "1. Make sure you fill in any place that says `YOUR CODE HERE`. Do **not** write your answer in anywhere else other than where it says `YOUR CODE HERE`. Anything you write anywhere else will be removed or overwritten by the autograder.\n",
    "\n",
    "2. Before you submit your assignment, make sure everything runs as expected. Go to menubar, select _Kernel_, and restart the kernel and run all cells (_Restart & Run all_).\n",
    "\n",
    "3. Do not change the title (i.e. file name) of this notebook.\n",
    "\n",
    "4. Make sure that you save your work (in the menubar, select _File_ → _Save and CheckPoint_)\n",
    "\n",
    "5. You are allowed to submit an assignment multiple times, but only the most recent submission will be graded."
   ]
  },
  {
   "cell_type": "markdown",
   "metadata": {
    "deletable": false,
    "nbgrader": {
     "checksum": "ec6cf1e9a9c774eb0961b98da4eb65b0",
     "grade": false,
     "grade_id": "title",
     "locked": true,
     "solution": false
    }
   },
   "source": [
    "# Problem 2. Unix Text Processing.\n",
    "\n",
    "In this problem, we use Unix commands to perform some basic text processing."
   ]
  },
  {
   "cell_type": "code",
   "execution_count": null,
   "metadata": {
    "collapsed": true,
    "deletable": false,
    "nbgrader": {
     "checksum": "a9f74c0133df38d52132ffdf76deb520",
     "grade": false,
     "grade_id": "import",
     "locked": true,
     "solution": false
    }
   },
   "outputs": [],
   "source": [
    "from nose.tools import assert_equal"
   ]
  },
  {
   "cell_type": "markdown",
   "metadata": {
    "deletable": false,
    "nbgrader": {
     "checksum": "398fdbfcd7d4916c10b4292b0039999f",
     "grade": false,
     "grade_id": "markdown_1",
     "locked": true,
     "solution": false
    }
   },
   "source": [
    "- Use `sed` to change the commas in the `2001.csv` file to vertical bars, and save the result to a file named `2001.csv.sed`.\n",
    "\n",
    "- Don't forget that you need the exclamation point (`!`) to run Unix commands in Jupyter notebooks.\n",
    "\n",
    "- Hint: We use the substitute pattern `s/../../` to convert some pattern to another pattern. For example, suppose we have a CSV file named `input.csv` that looks as follows:\n",
    "\n",
    "```shell\n",
    "$ head input.csv\n",
    "```\n",
    "\n",
    "```\n",
    "Month,DayofMonth,ArrTime,Dest\n",
    "1,17,1931,CLT\n",
    "1,18,1938,CLT\n",
    "1,19,1957,CLT\n",
    "1,20,1944,CLT\n",
    "1,21,1954,CLT\n",
    "1,22,1931,CLT\n",
    "1,23,1924,CLT\n",
    "1,24,1922,CLT\n",
    "1,25,1925,CLT\n",
    "```\n",
    "\n",
    "The `head` command prints out the first 10 lines by default. (The number of lines can be changed with the `-n` parameter.) To change commas in `input.csv` to vertical bars and save the results as `output.bsv`, we would type\n",
    "\n",
    "```shell\n",
    "$ sed 's/,/|/' <input.csv >output.bsv\n",
    "```\n",
    "\n",
    "Note the less-than symbol (`<`) redirects a file (`input.csv` in this case) as _input_ for a command (`sed`). The greater-than symbol (`>`) redirects the _output_ of a command to a file (`output.bsv`). Let's look at what the resulting file looks like.\n",
    "\n",
    "```shell\n",
    "$ head output.bsv\n",
    "```\n",
    "\n",
    "```\n",
    "Month|DayofMonth,ArrTime,Dest\n",
    "1|17,1931,CLT\n",
    "1|18,1938,CLT\n",
    "1|19,1957,CLT\n",
    "1|20,1944,CLT\n",
    "1|21,1954,CLT\n",
    "1|22,1931,CLT\n",
    "1|23,1924,CLT\n",
    "1|24,1922,CLT\n",
    "1|25,1925,CLT\n",
    "```\n",
    "\n",
    "Note that only the first occurrences of the commas are changed on every line. This behavior is typical of sed; it looks at one line at a time, and changes only the first occurrence of the search word. Here, we want to make changes on every occurrence instead of only the first. The `g` (global) flag at the end tells sed to make changes for every occurrence. That is, we have to use the command `s/../../g`.\n",
    "\n",
    "- Note, the `2001.csv` file at `/home/data_scientist/data` is a pretty big file (about 6 million lines, 573 megabytes), so it may take a while (30-40 seconds) to complete.\n",
    "\n",
    "- Type your answer in the following code cell."
   ]
  },
  {
   "cell_type": "code",
   "execution_count": null,
   "metadata": {
    "collapsed": false,
    "deletable": false,
    "nbgrader": {
     "checksum": "16785c92fa8986d43f84d0cdee5b526c",
     "grade": false,
     "grade_id": "sed_answer",
     "locked": false,
     "solution": true
    }
   },
   "outputs": [],
   "source": [
    "# YOUR CODE HERE"
   ]
  },
  {
   "cell_type": "markdown",
   "metadata": {
    "deletable": false,
    "nbgrader": {
     "checksum": "536e2984dd084dbee885db180337b9b3",
     "grade": false,
     "grade_id": "markdown_2",
     "locked": true,
     "solution": false
    }
   },
   "source": [
    "You might want to print out the first few lines, and visually inspect the output to check if all commas were converted to vertical bars."
   ]
  },
  {
   "cell_type": "code",
   "execution_count": null,
   "metadata": {
    "collapsed": false,
    "deletable": false,
    "nbgrader": {
     "checksum": "b4d62de5ccaa6bbf2ce56e93584ed27f",
     "grade": false,
     "grade_id": "head",
     "locked": true,
     "solution": false
    }
   },
   "outputs": [],
   "source": [
    "!head 2001.csv.sed"
   ]
  },
  {
   "cell_type": "markdown",
   "metadata": {
    "deletable": false,
    "nbgrader": {
     "checksum": "23c9e49dcdc6190c020f511bc2126fd0",
     "grade": false,
     "grade_id": "markdown_3",
     "locked": true,
     "solution": false
    }
   },
   "source": [
    "The following code cells are for testing your answer and performing clean-up."
   ]
  },
  {
   "cell_type": "code",
   "execution_count": null,
   "metadata": {
    "collapsed": false,
    "deletable": false,
    "nbgrader": {
     "checksum": "86357034e05f2d9477402e8a6e27bef7",
     "grade": true,
     "grade_id": "sed_test",
     "locked": true,
     "points": 10,
     "solution": false
    }
   },
   "outputs": [],
   "source": [
    "sed_head = !cat 2001.csv.sed | head\n",
    "length = !wc -l /home/data_scientist/data/2001.csv\n",
    "\n",
    "for i in range(10):\n",
    "    assert_equal(len(sed_head[i].split('|')), 29)\n",
    "    \n",
    "assert_equal(sed_head[0].split('|')[:5], ['Year', 'Month', 'DayofMonth', 'DayOfWeek', 'DepTime'])\n",
    "assert_equal(sed_head[1].split('|')[:5], ['2001', '1', '17', '3', '1806'])\n",
    "assert_equal(length.s.split()[0], '5967781')"
   ]
  },
  {
   "cell_type": "code",
   "execution_count": null,
   "metadata": {
    "collapsed": true,
    "deletable": false,
    "nbgrader": {
     "checksum": "6846e29546632ae08401d5d954b35f44",
     "grade": false,
     "grade_id": "cleanup",
     "locked": true,
     "solution": false
    }
   },
   "outputs": [],
   "source": [
    "!rm $(pwd)/2001.csv*"
   ]
  },
  {
   "cell_type": "code",
   "execution_count": null,
   "metadata": {
    "collapsed": true
   },
   "outputs": [],
   "source": []
  }
 ],
 "metadata": {
  "kernelspec": {
   "display_name": "Python 3",
   "language": "python",
   "name": "python3"
  },
  "language_info": {
   "codemirror_mode": {
    "name": "ipython",
    "version": 3
   },
   "file_extension": ".py",
   "mimetype": "text/x-python",
   "name": "python",
   "nbconvert_exporter": "python",
   "pygments_lexer": "ipython3",
   "version": "3.5.2"
  }
 },
 "nbformat": 4,
 "nbformat_minor": 1
}
