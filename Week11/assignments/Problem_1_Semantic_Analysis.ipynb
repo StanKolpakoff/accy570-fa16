{
 "cells": [
  {
   "cell_type": "markdown",
   "metadata": {
    "deletable": false,
    "nbgrader": {
     "checksum": "a98c739c45025e75b7a8a39168517825",
     "grade": false,
     "grade_id": "header",
     "locked": true,
     "solution": false
    }
   },
   "source": [
    "A few things you should keep in mind when working on assignments:\n",
    "\n",
    "1. Make sure you fill in any place that says `YOUR CODE HERE`. Do **not** write your answer in anywhere else other than where it says `YOUR CODE HERE`. Anything you write anywhere else will be removed or overwritten by the autograder.\n",
    "\n",
    "2. Before you submit your assignment, make sure everything runs as expected. Go to menubar, select _Kernel_, and restart the kernel and run all cells (_Restart & Run all_).\n",
    "\n",
    "3. Do not change the title (i.e. file name) of this notebook.\n",
    "\n",
    "4. Make sure that you save your work (in the menubar, select _File_ → _Save and CheckPoint_)\n",
    "\n",
    "5. You are allowed to submit an assignment multiple times, but only the most recent submission will be graded."
   ]
  },
  {
   "cell_type": "markdown",
   "metadata": {
    "deletable": false,
    "nbgrader": {
     "checksum": "1833e70c4ac89f69f11f5de73540c73a",
     "grade": false,
     "grade_id": "title",
     "locked": true,
     "solution": false
    }
   },
   "source": [
    "# Problem 1. Semantic Analysis.\n",
    "\n",
    "In this problem, we use [Wordnet](https://en.wikipedia.org/wiki/WordNet) to compute word similarites."
   ]
  },
  {
   "cell_type": "code",
   "execution_count": null,
   "metadata": {
    "collapsed": true,
    "deletable": false,
    "nbgrader": {
     "checksum": "fa9b620267058c6bbb12b8ded99ca1dd",
     "grade": false,
     "grade_id": "import",
     "locked": true,
     "solution": false
    }
   },
   "outputs": [],
   "source": [
    "from nltk.corpus import wordnet as wn\n",
    "\n",
    "from nose.tools import (\n",
    "    assert_is_instance,\n",
    "    assert_almost_equal\n",
    "    )"
   ]
  },
  {
   "cell_type": "markdown",
   "metadata": {
    "deletable": false,
    "nbgrader": {
     "checksum": "e12ec8bf11f7a2527e30f88e7c391f27",
     "grade": false,
     "grade_id": "markdown_1",
     "locked": true,
     "solution": false
    }
   },
   "source": [
    "The [Introduction to NLP: Sematic Analysis notebook](https://github.com/UI-DataScience/accy571-fa16/blob/master/Week11/notebooks/intro2nlp-sa.ipynb) demonstrates how we can use Wordnet to compute paths between two words. Let's see how the results change when we use a different set of words.\n",
    "\n",
    "## Compute the path similarity for cat, dog, boy, and girl.\n",
    "\n",
    "- Write a function named `get_path_similarity_between_boy_and_girl()` that uses Wordnet to compute the path similarity between the words \"boy\" and \"girl\"."
   ]
  },
  {
   "cell_type": "code",
   "execution_count": null,
   "metadata": {
    "collapsed": true,
    "deletable": false,
    "nbgrader": {
     "checksum": "4c0febd78d7bd4054db5316d94d0e575",
     "grade": false,
     "grade_id": "boy_girl_answer",
     "locked": false,
     "solution": true
    }
   },
   "outputs": [],
   "source": [
    "def get_path_similarity_between_boy_and_girl():\n",
    "    \"\"\"\n",
    "    Computes the path similarity between 'boy' and 'girl'.\n",
    "    \n",
    "    Returns\n",
    "    -------\n",
    "    A float.\n",
    "    \"\"\"\n",
    "    \n",
    "    # YOUR CODE HERE\n",
    "    \n",
    "    return result"
   ]
  },
  {
   "cell_type": "code",
   "execution_count": null,
   "metadata": {
    "collapsed": false,
    "deletable": false,
    "nbgrader": {
     "checksum": "576eed1d6d61ec1445fb530ed4e72961",
     "grade": true,
     "grade_id": "boy_girl_test",
     "locked": true,
     "points": 5,
     "solution": false
    }
   },
   "outputs": [],
   "source": [
    "assert_is_instance(get_path_similarity_between_boy_and_girl(), float)\n",
    "assert_almost_equal(get_path_similarity_between_boy_and_girl(), 0.16666666666666666)"
   ]
  },
  {
   "cell_type": "markdown",
   "metadata": {
    "deletable": false,
    "nbgrader": {
     "checksum": "a6ca11add81b1ca2fefb525badfb0b79",
     "grade": false,
     "grade_id": "markdown_2",
     "locked": true,
     "solution": false
    }
   },
   "source": [
    "- Write a function named `get_path_similarity_between_boy_and_cat()` that uses Wordnet to compute the path similarity between the words \"boy\" and \"cat\"."
   ]
  },
  {
   "cell_type": "code",
   "execution_count": null,
   "metadata": {
    "collapsed": true,
    "deletable": false,
    "nbgrader": {
     "checksum": "49ab6bab5064e2d0df013f06510ea3aa",
     "grade": false,
     "grade_id": "boy_cat_answer",
     "locked": false,
     "solution": true
    }
   },
   "outputs": [],
   "source": [
    "def get_path_similarity_between_boy_and_cat():\n",
    "    '''\n",
    "    Computes the path similarity between \"boy\" and \"cat\".\n",
    "    \n",
    "    Returns\n",
    "    -------\n",
    "    A float.\n",
    "    '''\n",
    "    \n",
    "    # YOUR CODE HERE\n",
    "    \n",
    "    return result"
   ]
  },
  {
   "cell_type": "code",
   "execution_count": null,
   "metadata": {
    "collapsed": true,
    "deletable": false,
    "nbgrader": {
     "checksum": "317a6e13b12113d1e0cd019339058ebd",
     "grade": true,
     "grade_id": "boy_cat_test",
     "locked": true,
     "points": 5,
     "solution": false
    }
   },
   "outputs": [],
   "source": [
    "assert_is_instance(get_path_similarity_between_boy_and_cat(), float)\n",
    "assert_almost_equal(get_path_similarity_between_boy_and_cat(), 0.08333333333333333)"
   ]
  },
  {
   "cell_type": "markdown",
   "metadata": {
    "deletable": false,
    "nbgrader": {
     "checksum": "f3552cead38427aa7cd2833aae46df2c",
     "grade": false,
     "grade_id": "markdown_3",
     "locked": true,
     "solution": false
    }
   },
   "source": [
    "- Write a function named `get_path_similarity_between_boy_and_dog()` that uses Wordnet to compute the path similarity between the words \"boy\" and \"dog\"."
   ]
  },
  {
   "cell_type": "code",
   "execution_count": null,
   "metadata": {
    "collapsed": true,
    "deletable": false,
    "nbgrader": {
     "checksum": "cb6d4ba10949d3ff676773cea5c1a561",
     "grade": false,
     "grade_id": "boy_dog_answer",
     "locked": false,
     "solution": true
    }
   },
   "outputs": [],
   "source": [
    "def get_path_similarity_between_boy_and_dog():\n",
    "    '''\n",
    "    Computes the path similarity between \"boy\" and \"dog\".\n",
    "    \n",
    "    Returns\n",
    "    -------\n",
    "    A float.\n",
    "    '''\n",
    "    \n",
    "    # YOUR CODE HERE\n",
    "    \n",
    "    return result"
   ]
  },
  {
   "cell_type": "code",
   "execution_count": null,
   "metadata": {
    "collapsed": true,
    "deletable": false,
    "nbgrader": {
     "checksum": "4da1edc5fb6b17edf70ba4ddccbd910e",
     "grade": true,
     "grade_id": "boy_dog_test",
     "locked": true,
     "points": 5,
     "solution": false
    }
   },
   "outputs": [],
   "source": [
    "assert_is_instance(get_path_similarity_between_boy_and_dog(), float)\n",
    "assert_almost_equal(get_path_similarity_between_boy_and_dog(), 0.14285714285714285)"
   ]
  },
  {
   "cell_type": "markdown",
   "metadata": {
    "deletable": false,
    "nbgrader": {
     "checksum": "9e0f6012d1d6ad213e36d97e443102ad",
     "grade": false,
     "grade_id": "markdown_4",
     "locked": true,
     "solution": false
    }
   },
   "source": [
    "- Write a function named `get_path_similarity_between_girl_and_girl()` that uses Wordnet to compute the path similarity between the words \"girl\" and \"girl\"."
   ]
  },
  {
   "cell_type": "code",
   "execution_count": null,
   "metadata": {
    "collapsed": true,
    "deletable": false,
    "nbgrader": {
     "checksum": "3131c0918fef581448aa7f1038f2ebf5",
     "grade": false,
     "grade_id": "girl_girl_answer",
     "locked": false,
     "solution": true
    }
   },
   "outputs": [],
   "source": [
    "def get_path_similarity_between_girl_and_girl():\n",
    "    '''\n",
    "    Computes the path similarity between \"girl\" and \"girl\".\n",
    "    \n",
    "    Returns\n",
    "    -------\n",
    "    A float.\n",
    "    '''\n",
    "    \n",
    "    # YOUR CODE HERE\n",
    "    \n",
    "    return result"
   ]
  },
  {
   "cell_type": "code",
   "execution_count": null,
   "metadata": {
    "collapsed": true,
    "deletable": false,
    "nbgrader": {
     "checksum": "b46cf3ceb0f0abb8bd6cdd05ec48e79e",
     "grade": true,
     "grade_id": "girl_girl_test",
     "locked": true,
     "points": 5,
     "solution": false
    }
   },
   "outputs": [],
   "source": [
    "assert_is_instance(get_path_similarity_between_girl_and_girl(), float)\n",
    "assert_almost_equal(get_path_similarity_between_girl_and_girl(), 1.0)"
   ]
  },
  {
   "cell_type": "markdown",
   "metadata": {
    "deletable": false,
    "nbgrader": {
     "checksum": "b3d4aad3170e1c351c2596b05cc0f372",
     "grade": false,
     "grade_id": "markdown_5",
     "locked": true,
     "solution": false
    }
   },
   "source": [
    "In the following code cell, we print out the results of the four functions."
   ]
  },
  {
   "cell_type": "code",
   "execution_count": null,
   "metadata": {
    "collapsed": false,
    "deletable": false,
    "nbgrader": {
     "checksum": "c7b582b3aa8764140c83e5e6d1a683f6",
     "grade": false,
     "grade_id": "run_all",
     "locked": true,
     "solution": false
    }
   },
   "outputs": [],
   "source": [
    "fmt_str = '{1} to {2}: {0:4.3f}'\n",
    "\n",
    "print('Path Similarity:')\n",
    "print(40*'-')\n",
    "print(fmt_str.format(get_path_similarity_between_boy_and_girl(), 'boy', 'girl'))\n",
    "print(fmt_str.format(get_path_similarity_between_boy_and_cat(), 'boy', 'cat'))\n",
    "print(fmt_str.format(get_path_similarity_between_boy_and_dog(), 'boy', 'dog'))\n",
    "print(fmt_str.format(get_path_similarity_between_girl_and_girl(), 'girl', 'girl'))"
   ]
  },
  {
   "cell_type": "markdown",
   "metadata": {
    "collapsed": true
   },
   "source": [
    "Does it make sense?"
   ]
  },
  {
   "cell_type": "code",
   "execution_count": null,
   "metadata": {
    "collapsed": true
   },
   "outputs": [],
   "source": []
  }
 ],
 "metadata": {
  "kernelspec": {
   "display_name": "Python 3",
   "language": "python",
   "name": "python3"
  },
  "language_info": {
   "codemirror_mode": {
    "name": "ipython",
    "version": 3
   },
   "file_extension": ".py",
   "mimetype": "text/x-python",
   "name": "python",
   "nbconvert_exporter": "python",
   "pygments_lexer": "ipython3",
   "version": "3.5.2"
  }
 },
 "nbformat": 4,
 "nbformat_minor": 1
}
