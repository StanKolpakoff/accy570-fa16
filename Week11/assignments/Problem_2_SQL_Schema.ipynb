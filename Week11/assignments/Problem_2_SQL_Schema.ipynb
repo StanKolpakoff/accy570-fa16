{
 "cells": [
  {
   "cell_type": "markdown",
   "metadata": {
    "deletable": false,
    "nbgrader": {
     "checksum": "a98c739c45025e75b7a8a39168517825",
     "grade": false,
     "grade_id": "header",
     "locked": true,
     "solution": false
    }
   },
   "source": [
    "A few things you should keep in mind when working on assignments:\n",
    "\n",
    "1. Make sure you fill in any place that says `YOUR CODE HERE`. Do **not** write your answer in anywhere else other than where it says `YOUR CODE HERE`. Anything you write anywhere else will be removed or overwritten by the autograder.\n",
    "\n",
    "2. Before you submit your assignment, make sure everything runs as expected. Go to menubar, select _Kernel_, and restart the kernel and run all cells (_Restart & Run all_).\n",
    "\n",
    "3. Do not change the title (i.e. file name) of this notebook.\n",
    "\n",
    "4. Make sure that you save your work (in the menubar, select _File_ → _Save and CheckPoint_)\n",
    "\n",
    "5. You are allowed to submit an assignment multiple times, but only the most recent submission will be graded."
   ]
  },
  {
   "cell_type": "markdown",
   "metadata": {
    "deletable": false,
    "nbgrader": {
     "checksum": "89a87ec852180f8f669ed77fd9e3106f",
     "grade": false,
     "grade_id": "title",
     "locked": true,
     "solution": false
    }
   },
   "source": [
    "# Problem 2.  SQL Schema\n",
    "\n",
    "In this problem, we use the SQLite database to build a fictitious database."
   ]
  },
  {
   "cell_type": "code",
   "execution_count": null,
   "metadata": {
    "collapsed": true,
    "deletable": false,
    "nbgrader": {
     "checksum": "f031162e2abc7fcf51f9dd275606ff76",
     "grade": false,
     "grade_id": "import",
     "locked": true,
     "solution": false
    }
   },
   "outputs": [],
   "source": [
    "import os\n",
    "from nose.tools import assert_equal, assert_true"
   ]
  },
  {
   "cell_type": "markdown",
   "metadata": {
    "deletable": false,
    "nbgrader": {
     "checksum": "ff421b7dfe4b5e0076666a7f0f3c5a28",
     "grade": false,
     "grade_id": "markdown_1",
     "locked": true,
     "solution": false
    }
   },
   "source": [
    "Suppose we have the following database table:\n",
    "\n",
    "**<DIV ALIGN=\"CENTER\"> Students </DIV>**\n",
    "\n",
    "| Id | Name |\n",
    "| -- | ---- |\n",
    "| 1  | Alice|\n",
    "| 2  | Bob  |\n",
    "| 3  | Chris |\n",
    "\n",
    "We want to create this table in SQLite. As [The Introduction to SQL notebook](https://github.com/UI-DataScience/accy570-fa16/blob/master/Week11/notebook/intro2sqlddl.ipynb) explains, we need to create an SQL schema. We will follow the lesson notebook to write our schema as a plain text file, and then use the `sqlite3` tool at the Unix command prompt.\n",
    "\n",
    "## Create a schema file\n",
    "\n",
    "- In the following code cell, create a schema file for the `Students` table with two columns, `Id` and `Name`.\n",
    "\n",
    "- The name of your table must be `Students`.\n",
    "\n",
    "- We use the [%%writefile magic command](http://ipython.readthedocs.io/en/stable/interactive/magics.html#cellmagic-writefile) to write `students.sql`. Anything you write below the first line (`%%writefile students.sql`) will be saved to a file named `students.sql`.\n",
    "\n",
    "- To indicate a comment in Python, we use `#`. However, SQL uses a different symbol to indicate a comment. If you want to comment your code, use two hyphens (`--`). Any line that starts with `--` will be ignored by SQLite."
   ]
  },
  {
   "cell_type": "code",
   "execution_count": null,
   "metadata": {
    "collapsed": false,
    "deletable": false,
    "nbgrader": {
     "checksum": "9c5c7cf771b82ab61cf397f6dbe3c972",
     "grade": false,
     "grade_id": "writefile_answer",
     "locked": false,
     "solution": true
    }
   },
   "outputs": [],
   "source": [
    "%%writefile students.sql\n",
    "\n",
    "-- YOUR CODE HERE\n"
   ]
  },
  {
   "cell_type": "markdown",
   "metadata": {
    "deletable": false,
    "nbgrader": {
     "checksum": "1524cc1d00f0dfef05696809e3a898ed",
     "grade": false,
     "grade_id": "markdown_2",
     "locked": true,
     "solution": false
    }
   },
   "source": [
    "## Create the schema in a new database\n",
    "\n",
    "- In the following code cell, write a Unix command that creates the schema in a new database named `students.db`."
   ]
  },
  {
   "cell_type": "code",
   "execution_count": null,
   "metadata": {
    "collapsed": true,
    "deletable": false,
    "nbgrader": {
     "checksum": "6fcdc3171804d69c4d96c87c80f88364",
     "grade": false,
     "grade_id": "sqlite3_answer",
     "locked": false,
     "solution": true
    }
   },
   "outputs": [],
   "source": [
    "# YOUR CODE HERE\n"
   ]
  },
  {
   "cell_type": "markdown",
   "metadata": {
    "deletable": false,
    "nbgrader": {
     "checksum": "40e212305db551328cca5e35daac8a51",
     "grade": false,
     "grade_id": "markdown_3",
     "locked": true,
     "solution": false
    }
   },
   "source": [
    "We can print out the results using the `.schema` command in `sqlite3`. The output of\n",
    "```shell\n",
    "$ sqlite3 students.db \".schema\"\n",
    "```\n",
    "should match the schema in the `students.sql` file."
   ]
  },
  {
   "cell_type": "code",
   "execution_count": null,
   "metadata": {
    "collapsed": false,
    "deletable": false,
    "nbgrader": {
     "checksum": "e3ff6cae2ea966e1ae3d2b062658e161",
     "grade": false,
     "grade_id": "sqlite3_schema",
     "locked": true,
     "solution": false
    }
   },
   "outputs": [],
   "source": [
    "!sqlite3 students.db \".schema\""
   ]
  },
  {
   "cell_type": "code",
   "execution_count": null,
   "metadata": {
    "collapsed": false,
    "deletable": false,
    "nbgrader": {
     "checksum": "ad9742280bb5fba9fb5aa2c55afdd7ea",
     "grade": true,
     "grade_id": "sqlite3_test",
     "locked": true,
     "points": 20,
     "solution": false
    }
   },
   "outputs": [],
   "source": [
    "assert_true(os.path.exists(\"students.db\"))\n",
    "\n",
    "!sqlite3 students.db \"DELETE FROM students\"\n",
    "!sqlite3 students.db \"INSERT INTO students VALUES (1, 'Alice')\"\n",
    "!sqlite3 students.db \"INSERT INTO students VALUES (2, 'Bob')\"\n",
    "!sqlite3 students.db \"INSERT INTO students VALUES (3, 'Chris')\"\n",
    "test_result = !sqlite3 students.db \"SELECT * FROM Students\"\n",
    "assert_equal(test_result, ['1|Alice', '2|Bob', '3|Chris'])"
   ]
  },
  {
   "cell_type": "code",
   "execution_count": null,
   "metadata": {
    "collapsed": false,
    "deletable": false,
    "nbgrader": {
     "checksum": "8ec8580ca1c8ab9c4bca4aad48fd538d",
     "grade": false,
     "grade_id": "remove",
     "locked": true,
     "solution": false
    }
   },
   "outputs": [],
   "source": [
    "!rm students.*"
   ]
  },
  {
   "cell_type": "code",
   "execution_count": null,
   "metadata": {
    "collapsed": true
   },
   "outputs": [],
   "source": []
  }
 ],
 "metadata": {
  "kernelspec": {
   "display_name": "Python 3",
   "language": "python",
   "name": "python3"
  },
  "language_info": {
   "codemirror_mode": {
    "name": "ipython",
    "version": 3
   },
   "file_extension": ".py",
   "mimetype": "text/x-python",
   "name": "python",
   "nbconvert_exporter": "python",
   "pygments_lexer": "ipython3",
   "version": "3.5.2"
  }
 },
 "nbformat": 4,
 "nbformat_minor": 1
}
