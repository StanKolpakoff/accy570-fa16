{
 "cells": [
  {
   "cell_type": "markdown",
   "metadata": {
    "deletable": false,
    "nbgrader": {
     "checksum": "a98c739c45025e75b7a8a39168517825",
     "grade": false,
     "grade_id": "header",
     "locked": true,
     "solution": false
    }
   },
   "source": [
    "A few things you should keep in mind when working on assignments:\n",
    "\n",
    "1. Make sure you fill in any place that says `YOUR CODE HERE`. Do **not** write your answer in anywhere else other than where it says `YOUR CODE HERE`. Anything you write anywhere else will be removed or overwritten by the autograder.\n",
    "\n",
    "2. Before you submit your assignment, make sure everything runs as expected. Go to menubar, select _Kernel_, and restart the kernel and run all cells (_Restart & Run all_).\n",
    "\n",
    "3. Do not change the title (i.e. file name) of this notebook.\n",
    "\n",
    "4. Make sure that you save your work (in the menubar, select _File_ → _Save and CheckPoint_)\n",
    "\n",
    "5. You are allowed to submit an assignment multiple times, but only the most recent submission will be graded."
   ]
  },
  {
   "cell_type": "markdown",
   "metadata": {
    "deletable": false,
    "nbgrader": {
     "checksum": "b719085973f248090803b994822eb890",
     "grade": false,
     "grade_id": "title",
     "locked": true,
     "solution": false
    }
   },
   "source": [
    "# Problem 1. Data Persistence\n",
    "\n",
    "In this problem, we use pickling to save data to a file and to later reconstitute the data."
   ]
  },
  {
   "cell_type": "code",
   "execution_count": null,
   "metadata": {
    "collapsed": true,
    "deletable": false,
    "nbgrader": {
     "checksum": "229a1c19cff227edf0bb8656778fa23b",
     "grade": false,
     "grade_id": "import",
     "locked": true,
     "solution": false
    }
   },
   "outputs": [],
   "source": [
    "import os\n",
    "import pickle\n",
    "\n",
    "from nose.tools import assert_true, assert_equal, assert_is_instance"
   ]
  },
  {
   "cell_type": "markdown",
   "metadata": {
    "deletable": false,
    "nbgrader": {
     "checksum": "b04e3c98e98821b0f068947268a73cd7",
     "grade": false,
     "grade_id": "markdown_1",
     "locked": true,
     "solution": false
    }
   },
   "source": [
    "[The Introduction to Data Persistence](https://github.com/UI-DataScience/accy570-fa16/blob/master/Week11/notebook/intro2db.ipynb) notebook shows an example of pickling and unpickling a numpy array. But it's not just arrays (or ints, floats, strings, lists, dictionaries) that can be pickled. Just about anything in Python can be pickled &mdash; even functions!\n",
    "\n",
    "In the following code cell is a simple function that calculates the square of a number."
   ]
  },
  {
   "cell_type": "code",
   "execution_count": null,
   "metadata": {
    "collapsed": true,
    "deletable": false,
    "nbgrader": {
     "checksum": "593542f5b3154aef0b391d6ae1065a96",
     "grade": false,
     "grade_id": "def_square",
     "locked": true,
     "solution": false
    }
   },
   "outputs": [],
   "source": [
    "def square(number):\n",
    "    return number**2"
   ]
  },
  {
   "cell_type": "code",
   "execution_count": null,
   "metadata": {
    "collapsed": false,
    "deletable": false,
    "nbgrader": {
     "checksum": "5a4be523161d804e64fb8c4fd794a0ac",
     "grade": false,
     "grade_id": "print_square",
     "locked": true,
     "solution": false
    }
   },
   "outputs": [],
   "source": [
    "for i in range(10):\n",
    "    print(\"The square of {0} is {1}.\".format(i, square(i)))"
   ]
  },
  {
   "cell_type": "markdown",
   "metadata": {
    "deletable": false,
    "nbgrader": {
     "checksum": "22249e01d26104acafc76000e46e6830",
     "grade": false,
     "grade_id": "markdown_2",
     "locked": true,
     "solution": false
    }
   },
   "source": [
    "## Pickle data and save to a file.\n",
    "\n",
    "- Write a function named `save` that accepts two arguments: `data` is data (or a function in our case) that will be pickled, and `filename` is a string.\n",
    "- For example, to save the `sqaure()` function to a file named `square.pickle`, we would write as follows:\n",
    "```python\n",
    ">>> save(square, \"square.pickle\")\n",
    "```\n",
    "(Note the lack of parentheses after `square`. Parentheses are used when we want to _call_ a function. Here, we are not calling the function; we are passing the function itself as an argument.)\n",
    "- In this problem, we use `save()` to save a function, but `save()` can be used to save any other data structures, such as numpy arrays, strings, lists, dictionaries, etc. because code will be identical for all cases."
   ]
  },
  {
   "cell_type": "code",
   "execution_count": null,
   "metadata": {
    "collapsed": true,
    "deletable": false,
    "nbgrader": {
     "checksum": "6ed902d5e74222855c81a0e6b2466699",
     "grade": false,
     "grade_id": "save_answer",
     "locked": false,
     "solution": true
    }
   },
   "outputs": [],
   "source": [
    "def save(data, filename):\n",
    "    \"\"\"\n",
    "    Uses pickle.dump() to pickle 'data'\n",
    "    and saves it to a file specified by 'filename'.\n",
    "    \n",
    "    Parameters\n",
    "    ----------\n",
    "    data: Any pickable object.\n",
    "    filename: A string\n",
    "    \n",
    "    Returns\n",
    "    -------\n",
    "    None\n",
    "    \"\"\"\n",
    "    \n",
    "    # YOUR CODE HERE"
   ]
  },
  {
   "cell_type": "markdown",
   "metadata": {
    "deletable": false,
    "nbgrader": {
     "checksum": "7e44b1ed3369507032baefe4ec290093",
     "grade": false,
     "grade_id": "markdown_3",
     "locked": true,
     "solution": false
    }
   },
   "source": [
    "In the following code cell, we pickle the `square` function and save it as `square.pickle`. Again, note the lack of parentheses after `square`."
   ]
  },
  {
   "cell_type": "code",
   "execution_count": null,
   "metadata": {
    "collapsed": false,
    "deletable": false,
    "nbgrader": {
     "checksum": "bccd8511da8a49c66959fd3d9d2daf97",
     "grade": false,
     "grade_id": "save_run",
     "locked": true,
     "solution": false
    }
   },
   "outputs": [],
   "source": [
    "save(square, \"square.pickle\")"
   ]
  },
  {
   "cell_type": "code",
   "execution_count": null,
   "metadata": {
    "collapsed": false,
    "deletable": false,
    "nbgrader": {
     "checksum": "9ceeb502e27ed20f6f70cc38843622f0",
     "grade": true,
     "grade_id": "save_test",
     "locked": true,
     "points": 10,
     "solution": false
    }
   },
   "outputs": [],
   "source": [
    "assert_true(os.path.exists(\"square.pickle\"))\n",
    "\n",
    "def get_checksum(filename):\n",
    "    import hashlib\n",
    "    with open(filename, 'rb') as f:\n",
    "        md5 = hashlib.md5(f.read())\n",
    "    return md5.hexdigest()\n",
    "\n",
    "assert_equal(\n",
    "    get_checksum(\"square.pickle\"),\n",
    "    \"8ba2f8b9d821cab352629fc4bf54d6e7\"\n",
    ")\n",
    "\n",
    "# test one more case\n",
    "fname = \"save.pickle\"\n",
    "save(save, fname)\n",
    "assert_equal(get_checksum(fname), \"5638258fc985a2c4e97f1b33d31a0aa3\")\n",
    "os.remove(fname)"
   ]
  },
  {
   "cell_type": "markdown",
   "metadata": {
    "deletable": false,
    "nbgrader": {
     "checksum": "9c2e32d4107cf6a1e36a60e237506119",
     "grade": false,
     "grade_id": "markdown_4",
     "locked": true,
     "solution": false
    }
   },
   "source": [
    "## Unpickle data.\n",
    "\n",
    "- Write a function named `load` that accepts a `filename`, unpickles the file, and returns the unpickled data.\n",
    "- For example, to load the data saved in `square.pickle`, we would write as follows:\n",
    "```python\n",
    ">>> unpickled_square = load(\"square.pickle\")\n",
    "```\n",
    "- We are using `load()` to unpickle a function, but `load()` can be used to load any other data structure, such as numpy arrays, strings, lists, dictionaries, etc. because code will be identical for all cases."
   ]
  },
  {
   "cell_type": "code",
   "execution_count": null,
   "metadata": {
    "collapsed": true,
    "deletable": false,
    "nbgrader": {
     "checksum": "e06eb53a0d0eba1e325461432423829a",
     "grade": false,
     "grade_id": "load_answer",
     "locked": false,
     "solution": true
    }
   },
   "outputs": [],
   "source": [
    "def load(filename):\n",
    "    \"\"\"\n",
    "    Unpickles data saved in 'filename'.\n",
    "    \n",
    "    Parameters\n",
    "    ----------\n",
    "    filename: A string\n",
    "    \n",
    "    Returns\n",
    "    -------\n",
    "    A function (but in principle, can be any Python object.)\n",
    "    \"\"\"\n",
    "    \n",
    "    # YOUR CODE HERE"
   ]
  },
  {
   "cell_type": "code",
   "execution_count": null,
   "metadata": {
    "collapsed": true,
    "deletable": false,
    "nbgrader": {
     "checksum": "171c17db4d88e76dffd2fe465bbd81a3",
     "grade": false,
     "grade_id": "load_run",
     "locked": true,
     "solution": false
    }
   },
   "outputs": [],
   "source": [
    "unpickled_square = load(\"square.pickle\")"
   ]
  },
  {
   "cell_type": "markdown",
   "metadata": {
    "deletable": false,
    "nbgrader": {
     "checksum": "ba718a298040a19ddb0130dad3de16c0",
     "grade": false,
     "grade_id": "markdown_5",
     "locked": true,
     "solution": false
    }
   },
   "source": [
    "After unpickling the function, we can use it in the same way that we use `square()`."
   ]
  },
  {
   "cell_type": "code",
   "execution_count": null,
   "metadata": {
    "collapsed": false,
    "deletable": false,
    "nbgrader": {
     "checksum": "815ee85570beee66b27be4bd461d9f4f",
     "grade": false,
     "grade_id": "load_print",
     "locked": true,
     "solution": false
    }
   },
   "outputs": [],
   "source": [
    "for i in range(10):\n",
    "    print(\"The square of {0} is {1}.\".format(i, unpickled_square(i)))"
   ]
  },
  {
   "cell_type": "code",
   "execution_count": null,
   "metadata": {
    "collapsed": false,
    "deletable": false,
    "nbgrader": {
     "checksum": "72a3df130a5b32b621e59a5dec1b8479",
     "grade": true,
     "grade_id": "load_test",
     "locked": true,
     "points": 10,
     "solution": false
    }
   },
   "outputs": [],
   "source": [
    "assert_true(callable(unpickled_square))\n",
    "for i in range(100):\n",
    "    assert_equal(unpickled_square(i), square(i))\n",
    "    \n",
    "# test one more case\n",
    "fname = \"test.pickle\"\n",
    "def cube(x):\n",
    "    return x**3\n",
    "save(cube, fname)\n",
    "unpickled_cube = load(fname)\n",
    "for i in range(100):\n",
    "    assert_equal(unpickled_cube(i), cube(i))\n",
    "os.remove(fname)"
   ]
  },
  {
   "cell_type": "code",
   "execution_count": null,
   "metadata": {
    "collapsed": false,
    "deletable": false,
    "nbgrader": {
     "checksum": "462ef396bc76f91313ccf5091330b3e5",
     "grade": false,
     "grade_id": "remove",
     "locked": true,
     "solution": false
    }
   },
   "outputs": [],
   "source": [
    "os.remove(\"square.pickle\")"
   ]
  },
  {
   "cell_type": "code",
   "execution_count": null,
   "metadata": {
    "collapsed": true
   },
   "outputs": [],
   "source": []
  }
 ],
 "metadata": {
  "kernelspec": {
   "display_name": "Python 3",
   "language": "python",
   "name": "python3"
  },
  "language_info": {
   "codemirror_mode": {
    "name": "ipython",
    "version": 3
   },
   "file_extension": ".py",
   "mimetype": "text/x-python",
   "name": "python",
   "nbconvert_exporter": "python",
   "pygments_lexer": "ipython3",
   "version": "3.5.2"
  }
 },
 "nbformat": 4,
 "nbformat_minor": 1
}
