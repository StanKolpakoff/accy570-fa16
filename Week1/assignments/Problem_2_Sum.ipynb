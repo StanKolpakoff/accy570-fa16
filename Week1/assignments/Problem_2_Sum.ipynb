{
 "cells": [
  {
   "cell_type": "markdown",
   "metadata": {
    "deletable": false,
    "nbgrader": {
     "checksum": "570bf0c322dfd27f12d2df9626481cf0",
     "grade": false,
     "grade_id": "header",
     "locked": true,
     "solution": false
    }
   },
   "source": [
    "If you are not using the `Assignments` tab on the course JupyterHub server to read this notebook, read [Activating the assignments tab](https://github.com/UI-DataScience/accy570-fa16/blob/master/Week1/assignments/README.md).\n",
    "\n",
    "A few things you should keep in mind when working on assignments:\n",
    "\n",
    "1. Make sure you fill in any place that says `YOUR CODE HERE`. Do **not** write your answer in anywhere else other than where it says `YOUR CODE HERE`. Anything you write anywhere else will be removed or overwritten by the autograder.\n",
    "\n",
    "2. Before you submit your assignment, make sure everything runs as expected. Go to menubar, select _Kernel_, and restart the kernel and run all cells (_Restart & Run all_).\n",
    "\n",
    "3. Do not change the title (i.e. file name) of this notebook.\n",
    "\n",
    "4. Make sure that you save your work (in the menubar, select _File_ → _Save and CheckPoint_)\n",
    "\n",
    "5. You are allowed to submit an assignment multiple times, but only the most recent submission will be graded."
   ]
  },
  {
   "cell_type": "markdown",
   "metadata": {
    "deletable": false,
    "nbgrader": {
     "checksum": "ff0f12caebac59dfb95f337e31f47902",
     "grade": false,
     "grade_id": "title",
     "locked": true,
     "solution": false
    }
   },
   "source": [
    "# Problem 2. Sum.\n",
    "\n",
    "In this problem, we will use what we have learned about iterations to write a function that computes a sum of numbers in a sequence."
   ]
  },
  {
   "cell_type": "code",
   "execution_count": null,
   "metadata": {
    "collapsed": true,
    "deletable": false,
    "nbgrader": {
     "checksum": "a9f74c0133df38d52132ffdf76deb520",
     "grade": false,
     "grade_id": "import",
     "locked": true,
     "solution": false
    }
   },
   "outputs": [],
   "source": [
    "from nose.tools import assert_equal"
   ]
  },
  {
   "cell_type": "markdown",
   "metadata": {
    "deletable": false,
    "nbgrader": {
     "checksum": "545220dc7d7eb1c6e0202232f0d865f8",
     "grade": false,
     "grade_id": "markdown_1",
     "locked": true,
     "solution": false
    }
   },
   "source": [
    "- Write a function named `sum_from_one_to` that takes an integer and computes the sum of all numbers from 1 to that number, inclusive. For example, the sum of all numbers from 1 to 4 is 1 + 2 + 3 + 4 = 10, so `sum_from_one_to(4)` should return `10`. In mathematical terms, the `sum_from_one_to(number)` function computes\n",
    "\n",
    "$$ f(n) = \\sum_{i=1}^n i = 1 + 2 + 3 + \\cdots + n $$\n",
    "\n",
    "Hint: Use a `for` loop or a `while` loop."
   ]
  },
  {
   "cell_type": "code",
   "execution_count": null,
   "metadata": {
    "collapsed": true,
    "deletable": false,
    "nbgrader": {
     "checksum": "079dfaf53d2a501bcfffe7b4dc699af4",
     "grade": false,
     "grade_id": "sum_from_one_to_answer",
     "locked": false,
     "solution": true
    }
   },
   "outputs": [],
   "source": [
    "def sum_from_one_to(number):\n",
    "    \"\"\"\n",
    "    Computes the sum of all numbers from 1 to \"number\".\n",
    "    \n",
    "    Parameters\n",
    "    ----------\n",
    "    number: An integer.\n",
    "    \n",
    "    Returns\n",
    "    -------\n",
    "    An integer.\n",
    "    \"\"\"\n",
    "    \n",
    "    # YOUR CODE HERE\n",
    "    \n",
    "    return result"
   ]
  },
  {
   "cell_type": "markdown",
   "metadata": {
    "deletable": false,
    "nbgrader": {
     "checksum": "0e65193301775d4b595363fbabaea098",
     "grade": false,
     "grade_id": "markdown_2",
     "locked": true,
     "solution": false
    }
   },
   "source": [
    "Run the following code cell to check if your solution is correct. If your solution is correct, you will see no output; otherwise, you will see an error message."
   ]
  },
  {
   "cell_type": "code",
   "execution_count": null,
   "metadata": {
    "collapsed": false,
    "deletable": false,
    "nbgrader": {
     "checksum": "e55e141d28cc548fb7ba1d61a3b083d6",
     "grade": true,
     "grade_id": "sum_from_one_to_test",
     "locked": true,
     "points": 30,
     "solution": false
    }
   },
   "outputs": [],
   "source": [
    "assert_equal(sum_from_one_to(1), 1)\n",
    "assert_equal(sum_from_one_to(2), 3)\n",
    "assert_equal(sum_from_one_to(3), 6)\n",
    "assert_equal(sum_from_one_to(4), 10)\n",
    "assert_equal(sum_from_one_to(5), 15)\n",
    "assert_equal(sum_from_one_to(10), 55)\n",
    "assert_equal(sum_from_one_to(100), 5050)"
   ]
  }
 ],
 "metadata": {
  "kernelspec": {
   "display_name": "Python 3",
   "language": "python",
   "name": "python3"
  },
  "language_info": {
   "codemirror_mode": {
    "name": "ipython",
    "version": 3
   },
   "file_extension": ".py",
   "mimetype": "text/x-python",
   "name": "python",
   "nbconvert_exporter": "python",
   "pygments_lexer": "ipython3",
   "version": "3.5.2"
  }
 },
 "nbformat": 4,
 "nbformat_minor": 0
}
