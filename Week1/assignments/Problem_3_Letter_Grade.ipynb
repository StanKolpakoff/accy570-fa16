{
 "cells": [
  {
   "cell_type": "markdown",
   "metadata": {
    "deletable": false,
    "nbgrader": {
     "checksum": "570bf0c322dfd27f12d2df9626481cf0",
     "grade": false,
     "grade_id": "header",
     "locked": true,
     "solution": false
    }
   },
   "source": [
    "If you are not using the `Assignments` tab on the course JupyterHub server to read this notebook, read [Activating the assignments tab](https://github.com/UI-DataScience/accy570-fa16/blob/master/Week1/assignments/README.md).\n",
    "\n",
    "A few things you should keep in mind when working on assignments:\n",
    "\n",
    "1. Make sure you fill in any place that says `YOUR CODE HERE`. Do **not** write your answer in anywhere else other than where it says `YOUR CODE HERE`. Anything you write anywhere else will be removed or overwritten by the autograder.\n",
    "\n",
    "2. Before you submit your assignment, make sure everything runs as expected. Go to menubar, select _Kernel_, and restart the kernel and run all cells (_Restart & Run all_).\n",
    "\n",
    "3. Do not change the title (i.e. file name) of this notebook.\n",
    "\n",
    "4. Make sure that you save your work (in the menubar, select _File_ → _Save and CheckPoint_)\n",
    "\n",
    "5. You are allowed to submit an assignment multiple times, but only the most recent submission will be graded."
   ]
  },
  {
   "cell_type": "markdown",
   "metadata": {
    "deletable": false,
    "nbgrader": {
     "checksum": "21cb92110b3d4199286412e4b11a5d7e",
     "grade": false,
     "grade_id": "title",
     "locked": true,
     "solution": false
    }
   },
   "source": [
    "# Problem 3. Letter Grade.\n",
    "\n",
    "In this problem, we will use what we have learned about conditionals to write a function that converts a percentage score to a letter grade."
   ]
  },
  {
   "cell_type": "code",
   "execution_count": null,
   "metadata": {
    "collapsed": true,
    "deletable": false,
    "nbgrader": {
     "checksum": "a9f74c0133df38d52132ffdf76deb520",
     "grade": false,
     "grade_id": "import",
     "locked": true,
     "solution": false
    }
   },
   "outputs": [],
   "source": [
    "from nose.tools import assert_equal"
   ]
  },
  {
   "cell_type": "markdown",
   "metadata": {
    "deletable": false,
    "nbgrader": {
     "checksum": "a17924eca5c81beebb77807335cbb039",
     "grade": false,
     "grade_id": "markdown_1",
     "locked": true,
     "solution": false
    }
   },
   "source": [
    "- Write a function that takes a floating point number (i.e. `float`) and returns a letter grade according to the [grading scale](https://github.com/UI-DataScience/accy570-fa16/blob/master/syllabus.md#grading-scale) of ACCY 570. To be precise, `get_letter_grade()` implements the following function:\n",
    "\n",
    "$$\n",
    "    f(x) = \\begin{cases}\n",
    "        A, & \\text{if } x \\geq 90\\\\\n",
    "        B, & \\text{if } 80 \\leq x < 90\\\\\n",
    "        C, & \\text{if } 70 \\leq x < 80\\\\\n",
    "        D, & \\text{if } 60 \\leq x < 70\\\\\n",
    "        F, & \\text{if } x < 60\\\\\n",
    "        \\end{cases}\n",
    "$$"
   ]
  },
  {
   "cell_type": "code",
   "execution_count": null,
   "metadata": {
    "collapsed": true,
    "deletable": false,
    "nbgrader": {
     "checksum": "1afa585f09b57ffef073fc52d44a1e2b",
     "grade": false,
     "grade_id": "get_letter_grade_answer",
     "locked": false,
     "solution": true
    }
   },
   "outputs": [],
   "source": [
    "def get_letter_grade(percent):\n",
    "    '''\n",
    "    Assigns a letter grade to a percentage score.\n",
    "    \n",
    "    Paramters\n",
    "    ---------\n",
    "    percent: A float.\n",
    "    \n",
    "    Returns\n",
    "    -------\n",
    "    A string, e.g. 'A', 'B', 'C', 'D', or 'F'.\n",
    "    '''\n",
    "    \n",
    "    # YOUR CODE HERE\n",
    "    \n",
    "    return grade"
   ]
  },
  {
   "cell_type": "markdown",
   "metadata": {
    "deletable": false,
    "nbgrader": {
     "checksum": "0e65193301775d4b595363fbabaea098",
     "grade": false,
     "grade_id": "markdown_2",
     "locked": true,
     "solution": false
    }
   },
   "source": [
    "Run the following code cell to check if your solution is correct. If your solution is correct, you will see no output; otherwise, you will see an error message."
   ]
  },
  {
   "cell_type": "code",
   "execution_count": null,
   "metadata": {
    "collapsed": false,
    "deletable": false,
    "nbgrader": {
     "checksum": "11a7f7db90483ee5e4d3cba42189652e",
     "grade": true,
     "grade_id": "get_letter_grade_test",
     "locked": true,
     "points": 30,
     "solution": false
    }
   },
   "outputs": [],
   "source": [
    "assert_equal(get_letter_grade(101.5), 'A')\n",
    "assert_equal(get_letter_grade(100.0), 'A')\n",
    "assert_equal(get_letter_grade(95.0), 'A')\n",
    "assert_equal(get_letter_grade(90.0), 'A')\n",
    "\n",
    "assert_equal(get_letter_grade(89.9), 'B')\n",
    "assert_equal(get_letter_grade(84.5), 'B')\n",
    "assert_equal(get_letter_grade(80.0), 'B')\n",
    "\n",
    "assert_equal(get_letter_grade(79.9), 'C')\n",
    "assert_equal(get_letter_grade(72.1), 'C')\n",
    "assert_equal(get_letter_grade(70.0), 'C')\n",
    "\n",
    "assert_equal(get_letter_grade(69.9), 'D')\n",
    "assert_equal(get_letter_grade(67.8), 'D')\n",
    "assert_equal(get_letter_grade(60.0), 'D')\n",
    "\n",
    "assert_equal(get_letter_grade(59.9), 'F')\n",
    "assert_equal(get_letter_grade(42.8), 'F')\n",
    "assert_equal(get_letter_grade(34.2), 'F')\n",
    "assert_equal(get_letter_grade(11.0), 'F')\n",
    "assert_equal(get_letter_grade(0.0), 'F')"
   ]
  }
 ],
 "metadata": {
  "kernelspec": {
   "display_name": "Python 3",
   "language": "python",
   "name": "python3"
  },
  "language_info": {
   "codemirror_mode": {
    "name": "ipython",
    "version": 3
   },
   "file_extension": ".py",
   "mimetype": "text/x-python",
   "name": "python",
   "nbconvert_exporter": "python",
   "pygments_lexer": "ipython3",
   "version": "3.5.2"
  }
 },
 "nbformat": 4,
 "nbformat_minor": 0
}
