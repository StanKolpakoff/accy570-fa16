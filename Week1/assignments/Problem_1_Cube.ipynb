{
 "cells": [
  {
   "cell_type": "markdown",
   "metadata": {
    "deletable": false,
    "nbgrader": {
     "checksum": "e20a17c5d1d72e86f5c93c424858111f",
     "grade": false,
     "grade_id": "header",
     "locked": true,
     "solution": false
    }
   },
   "source": [
    "If you are not using the `Assignments` tab on the course JupyterHub server to read this notebook, read [Activating the assignments tab](https://github.com/UI-DataScience/accy570-fa16/blob/master/Week1/assignments/README.md).\n",
    "\n",
    "A few things you should keep in mind when working on assignments:\n",
    "\n",
    "1. Make sure you fill in any place that says `YOUR CODE HERE`. Do **not** write your answer in anywhere else other than where it says `YOUR CODE HERE`. Anything you write anywhere else will be removed by the autograder.\n",
    "\n",
    "2. Before you submit your assignment, make sure everything runs as expected. Go to menubar, select _Kernel_, and restart the kernel and run all cells (_Restart & Run all_).\n",
    "\n",
    "3. Do not change the title (i.e. file name) of this notebook.\n",
    "\n",
    "4. Make sure that you save your work (in the menubar, select File → Save and CheckPoint)\n",
    "\n",
    "5. You are allowed to submit an assignment multiple times."
   ]
  },
  {
   "cell_type": "markdown",
   "metadata": {
    "deletable": false,
    "nbgrader": {
     "checksum": "371a436f3d190e4684452a4dac91846c",
     "grade": false,
     "grade_id": "title",
     "locked": true,
     "solution": false
    }
   },
   "source": [
    "# Problem 1. Cube.\n",
    "\n",
    "The main purpose of this problem is to help you understand how a typical assignment works.\n",
    "\n",
    "Let's start with an import statement. In Python, it is considered a good practice to put all import statements at the top. Don't worry about it if you don't understand what the following import statement means. It is just a tool that gives you an immediate feedback on your code. It will also be used in the autograder."
   ]
  },
  {
   "cell_type": "code",
   "execution_count": null,
   "metadata": {
    "collapsed": true,
    "deletable": false,
    "nbgrader": {
     "checksum": "f41f3e133f7eab1a6b85fed8da9860bf",
     "grade": false,
     "grade_id": "import_nose",
     "locked": true,
     "solution": false
    }
   },
   "outputs": [],
   "source": [
    "from nose.tools import assert_equal"
   ]
  },
  {
   "cell_type": "markdown",
   "metadata": {
    "deletable": false,
    "nbgrader": {
     "checksum": "1b02d7e3866e3ca069912d0d078e8a8b",
     "grade": false,
     "grade_id": "markdown_1",
     "locked": true,
     "solution": false
    }
   },
   "source": [
    "Now, your task is to write a function named `cube` that takes a number and returns the cube of that number."
   ]
  },
  {
   "cell_type": "code",
   "execution_count": null,
   "metadata": {
    "collapsed": true,
    "deletable": false,
    "nbgrader": {
     "checksum": "a0ed50c1837cfd9db383fd2905fa46eb",
     "grade": false,
     "grade_id": "cube_answer",
     "locked": false,
     "solution": true
    }
   },
   "outputs": [],
   "source": [
    "def cube(number):\n",
    "    '''\n",
    "    Computes the cube of a number.\n",
    "    \n",
    "    Paramters\n",
    "    ---------\n",
    "    number: An integer.\n",
    "    \n",
    "    Returns\n",
    "    -------\n",
    "    An integer.\n",
    "    '''\n",
    "    \n",
    "    # YOUR CODE HERE\n",
    "    \n",
    "    return result"
   ]
  },
  {
   "cell_type": "markdown",
   "metadata": {
    "deletable": false,
    "nbgrader": {
     "checksum": "29fa11e3713be2ce918a3d8a33248213",
     "grade": false,
     "grade_id": "markdown_2",
     "locked": true,
     "solution": false
    }
   },
   "source": [
    "In the following code cell, you will see some assert statements, and every assignment will have such tests. These are what are called [unit tests](https://en.wikipedia.org/wiki/Unit_testing). When you submit your assignment, instructors will determine your assignment grades by using automated grading tools to run these tests on your code, so if you pass all the tests without an error, you get a perfect score (for instructors' grades).\n",
    "\n",
    "They also give you immediate feedback, because if your code is incorrect, one of the assert statements will produce an error. If the code cell runs without an error, that means your solution is correct."
   ]
  },
  {
   "cell_type": "code",
   "execution_count": null,
   "metadata": {
    "collapsed": false,
    "deletable": false,
    "nbgrader": {
     "checksum": "e56aa85816756d5ee1cde954156f6c1b",
     "grade": true,
     "grade_id": "cube_test",
     "locked": true,
     "points": 20,
     "solution": false
    }
   },
   "outputs": [],
   "source": [
    "assert_equal(cube(0), 0)\n",
    "assert_equal(cube(1), 1)\n",
    "assert_equal(cube(2), 8)\n",
    "assert_equal(cube(3), 27)\n",
    "assert_equal(cube(4), 64)"
   ]
  },
  {
   "cell_type": "markdown",
   "metadata": {
    "collapsed": true,
    "deletable": false,
    "nbgrader": {
     "checksum": "8ef8b386edb8a400c3b1dc5e5c729a93",
     "grade": false,
     "grade_id": "markdown_3",
     "locked": true,
     "solution": false
    }
   },
   "source": [
    "So, this is how pretty much every assignment is going to look like. You are given one or more function definitions, and you write your code where it says `YOUR CODE HERE` so that all assertments execute without an error."
   ]
  }
 ],
 "metadata": {
  "kernelspec": {
   "display_name": "Python 3",
   "language": "python",
   "name": "python3"
  },
  "language_info": {
   "codemirror_mode": {
    "name": "ipython",
    "version": 3
   },
   "file_extension": ".py",
   "mimetype": "text/x-python",
   "name": "python",
   "nbconvert_exporter": "python",
   "pygments_lexer": "ipython3",
   "version": "3.5.2"
  }
 },
 "nbformat": 4,
 "nbformat_minor": 0
}
