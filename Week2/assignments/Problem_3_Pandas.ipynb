{
 "cells": [
  {
   "cell_type": "markdown",
   "metadata": {
    "deletable": false,
    "nbgrader": {
     "checksum": "a98c739c45025e75b7a8a39168517825",
     "grade": false,
     "grade_id": "header",
     "locked": true,
     "solution": false
    }
   },
   "source": [
    "A few things you should keep in mind when working on assignments:\n",
    "\n",
    "1. Make sure you fill in any place that says `YOUR CODE HERE`. Do **not** write your answer in anywhere else other than where it says `YOUR CODE HERE`. Anything you write anywhere else will be removed or overwritten by the autograder.\n",
    "\n",
    "2. Before you submit your assignment, make sure everything runs as expected. Go to menubar, select _Kernel_, and restart the kernel and run all cells (_Restart & Run all_).\n",
    "\n",
    "3. Do not change the title (i.e. file name) of this notebook.\n",
    "\n",
    "4. Make sure that you save your work (in the menubar, select _File_ → _Save and CheckPoint_)\n",
    "\n",
    "5. You are allowed to submit an assignment multiple times, but only the most recent submission will be graded."
   ]
  },
  {
   "cell_type": "markdown",
   "metadata": {
    "deletable": false,
    "nbgrader": {
     "checksum": "ee4e4d09b74e8f6f54db542d7d93e5fc",
     "grade": false,
     "grade_id": "title",
     "locked": true,
     "solution": false
    }
   },
   "source": [
    "# Problem 3. Pandas.\n",
    "\n",
    "In this problem, we will use Pandas to calculate the minimum, maximum, mean, and median values of a column given a CSV (Comma Seperated Values) file."
   ]
  },
  {
   "cell_type": "code",
   "execution_count": null,
   "metadata": {
    "collapsed": false,
    "deletable": false,
    "nbgrader": {
     "checksum": "807fbf8ed0cff5361c50188512a7a0c4",
     "grade": false,
     "grade_id": "import",
     "locked": true,
     "solution": false
    }
   },
   "outputs": [],
   "source": [
    "import numpy as np\n",
    "import pandas as pd\n",
    "from nose.tools import assert_equal, assert_almost_equal"
   ]
  },
  {
   "cell_type": "markdown",
   "metadata": {
    "deletable": false,
    "nbgrader": {
     "checksum": "43b650477a4921f77fca3fdd759e0855",
     "grade": false,
     "grade_id": "markdown_1",
     "locked": true,
     "solution": false
    }
   },
   "source": [
    "Suppose we have a CSV file with 4 columns: `Year`, `Month`, `DayofMonth`, and `ArrDelay`.\n",
    "\n",
    "```\n",
    "Year,Month,DayofMonth,ArrDelay\n",
    "2001,1,17,-3\n",
    "2001,1,18,4\n",
    "2001,1,19,23\n",
    "2001,1,20,10\n",
    "2001,1,20,20\n",
    "```\n",
    "\n",
    "`ArrDelay` represents the arrival delay of a flight on the given date. So the first row says, on January 17, 2001, a flight arrived 3 minutes earlier than scheduled; the second row says, on January 18, 2001, a flight was delayed 4 minutes; and so on. For simplicity, let us suppose that the CSV file has only 5 rows of data, but real-world data will have many more.\n",
    "\n",
    "\n",
    "In the following cell, we will use Python to create this CSV file and name it `sample.csv`."
   ]
  },
  {
   "cell_type": "code",
   "execution_count": null,
   "metadata": {
    "collapsed": false,
    "deletable": false,
    "nbgrader": {
     "checksum": "8fc43f66da85ab83ccb49d432bbea79c",
     "grade": false,
     "grade_id": "create_csv",
     "locked": true,
     "solution": false
    }
   },
   "outputs": [],
   "source": [
    "csv_text = \"\"\"Year,Month,DayofMonth,ArrDelay\n",
    "2001,1,17,-3\n",
    "2001,1,18,4\n",
    "2001,1,19,23\n",
    "2001,1,20,10\n",
    "2001,1,20,20\"\"\"\n",
    "\n",
    "with open('sample.csv', 'w') as f:\n",
    "    f.write(csv_text)"
   ]
  },
  {
   "cell_type": "markdown",
   "metadata": {
    "deletable": false,
    "nbgrader": {
     "checksum": "fc3985072b8e10b5da4fe735fa694bd6",
     "grade": false,
     "grade_id": "markdown_2",
     "locked": true,
     "solution": false
    }
   },
   "source": [
    "In the following code cell, we use an IPython magic function called `%cat` to verify that we have successfully created the CSV file. The `%cat` magic displays the contents of a file."
   ]
  },
  {
   "cell_type": "code",
   "execution_count": null,
   "metadata": {
    "collapsed": false,
    "deletable": false,
    "nbgrader": {
     "checksum": "cf7cc238e491a5d02d7ea8ab5f1e9476",
     "grade": false,
     "grade_id": "cat_sample_csv",
     "locked": true,
     "solution": false
    }
   },
   "outputs": [],
   "source": [
    "%cat sample.csv"
   ]
  },
  {
   "cell_type": "markdown",
   "metadata": {
    "deletable": false,
    "nbgrader": {
     "checksum": "710353d7b25be60f27541202f7b008f8",
     "grade": false,
     "grade_id": "markdown_3",
     "locked": true,
     "solution": false
    }
   },
   "source": [
    "In Pandas, the `read_csv()` function makes it painless to read data from a CSV file and create a `DataFrame`."
   ]
  },
  {
   "cell_type": "code",
   "execution_count": null,
   "metadata": {
    "collapsed": false,
    "deletable": false,
    "nbgrader": {
     "checksum": "d20237fe4fde7d51c0aa1519748c3a4a",
     "grade": false,
     "grade_id": "read_csv",
     "locked": true,
     "solution": false
    }
   },
   "outputs": [],
   "source": [
    "df = pd.read_csv(\"sample.csv\")\n",
    "print(df)"
   ]
  },
  {
   "cell_type": "markdown",
   "metadata": {
    "deletable": false,
    "nbgrader": {
     "checksum": "29c8f79b406835308315ea670cead9c0",
     "grade": false,
     "grade_id": "markdown_4",
     "locked": true,
     "solution": false
    }
   },
   "source": [
    "We will compute some basic statistics of the `ArrDelay` column. The syntax for extracting a specific column from a data frame is similar to using a dictionary."
   ]
  },
  {
   "cell_type": "code",
   "execution_count": null,
   "metadata": {
    "collapsed": true,
    "deletable": false,
    "nbgrader": {
     "checksum": "a1cc068f76a1621d9df417ba1f04931a",
     "grade": false,
     "grade_id": "arr_delay_define",
     "locked": true,
     "solution": false
    }
   },
   "outputs": [],
   "source": [
    "arr_delay = df[\"ArrDelay\"]"
   ]
  },
  {
   "cell_type": "markdown",
   "metadata": {
    "deletable": false,
    "nbgrader": {
     "checksum": "53b85269521ef989562ea9d3b6ec2dad",
     "grade": false,
     "grade_id": "markdown_5",
     "locked": true,
     "solution": false
    }
   },
   "source": [
    "Note that some people prefer to use the dot syntax, which yields exactly the same result.\n",
    "\n",
    "```python\n",
    ">>> arr_delay = df.ArrDelay\n",
    "```\n",
    "\n",
    "They are just two different ways of performing an identical operation.\n",
    "\n",
    "Now that we have set up the problem, in the rest of the notebook, we will compute the mimimum, maximum, mean, and median values of `arr_delay`.\n",
    "\n",
    "## Write a function that returns the minimum of a column."
   ]
  },
  {
   "cell_type": "code",
   "execution_count": null,
   "metadata": {
    "collapsed": true,
    "deletable": false,
    "nbgrader": {
     "checksum": "b64a26c9074d82ea985d5e56efa455d1",
     "grade": false,
     "grade_id": "minimum_answer",
     "locked": false,
     "solution": true
    }
   },
   "outputs": [],
   "source": [
    "def compute_minimum(column):\n",
    "    \"\"\"\n",
    "    Computes the minimum of 'column'.\n",
    "    \n",
    "    Parameters\n",
    "    ----------\n",
    "    column: A pandas Series object.\n",
    "    \n",
    "    Returns\n",
    "    -------\n",
    "    An int.\n",
    "    \"\"\"\n",
    "    \n",
    "    # YOUR CODE HERE\n",
    "    \n",
    "    return minimum"
   ]
  },
  {
   "cell_type": "code",
   "execution_count": null,
   "metadata": {
    "collapsed": false,
    "deletable": false,
    "nbgrader": {
     "checksum": "99e0aeb1088425123f5f81dcf4c5c933",
     "grade": false,
     "grade_id": "minimum_print",
     "locked": true,
     "solution": false
    }
   },
   "outputs": [],
   "source": [
    "print(compute_minimum(arr_delay))"
   ]
  },
  {
   "cell_type": "code",
   "execution_count": null,
   "metadata": {
    "collapsed": false,
    "deletable": false,
    "nbgrader": {
     "checksum": "69855fed85da5bde0c1c264305b0333b",
     "grade": true,
     "grade_id": "minimum_test",
     "locked": true,
     "points": 10,
     "solution": false
    }
   },
   "outputs": [],
   "source": [
    "assert_equal(compute_minimum(arr_delay), -3)\n",
    "\n",
    "# test some more\n",
    "data1 = {\n",
    "    'A': [0, 1, 2, 3, 4],\n",
    "    'B': [1, 2, 3, 4, np.nan], # append NaN since we need same number of elements\n",
    "    'C': [4, 3, 2, 1, 0],\n",
    "    'D': [7, 3, 5, 2, 11]\n",
    "}\n",
    "df1= pd.DataFrame(data1)\n",
    "\n",
    "assert_equal(compute_minimum(df1['A']), 0)\n",
    "assert_equal(compute_minimum(df1['B']), 1)\n",
    "assert_equal(compute_minimum(df1['C']), 0)\n",
    "assert_equal(compute_minimum(df1['D']), 2)"
   ]
  },
  {
   "cell_type": "markdown",
   "metadata": {
    "deletable": false,
    "nbgrader": {
     "checksum": "1c22cf15e1f8424ed52e07774b2613f0",
     "grade": false,
     "grade_id": "markdown_6",
     "locked": true,
     "solution": false
    }
   },
   "source": [
    "## Write a function that returns the maximum of a column."
   ]
  },
  {
   "cell_type": "code",
   "execution_count": null,
   "metadata": {
    "collapsed": true,
    "deletable": false,
    "nbgrader": {
     "checksum": "782aef234dd655d84f7ca41f78a29043",
     "grade": false,
     "grade_id": "maximum_answer",
     "locked": false,
     "solution": true
    }
   },
   "outputs": [],
   "source": [
    "def compute_maximum(column):\n",
    "    \"\"\"\n",
    "    Computes the maximum of 'column'.\n",
    "    \n",
    "    Parameters\n",
    "    ----------\n",
    "    column: A pandas Series object.\n",
    "    \n",
    "    Returns\n",
    "    -------\n",
    "    An int.\n",
    "    \"\"\"\n",
    "\n",
    "    # YOUR CODE HERE\n",
    "    \n",
    "    return maximum"
   ]
  },
  {
   "cell_type": "code",
   "execution_count": null,
   "metadata": {
    "collapsed": false,
    "deletable": false,
    "nbgrader": {
     "checksum": "b23d22bd421021f82c9678bac8e950a7",
     "grade": false,
     "grade_id": "maximum_print",
     "locked": true,
     "solution": false
    }
   },
   "outputs": [],
   "source": [
    "print(compute_maximum(arr_delay))"
   ]
  },
  {
   "cell_type": "code",
   "execution_count": null,
   "metadata": {
    "collapsed": false,
    "deletable": false,
    "nbgrader": {
     "checksum": "e04351a36ba7730d2618e64c176c1ffe",
     "grade": true,
     "grade_id": "maximum_test",
     "locked": true,
     "points": 10,
     "solution": false
    }
   },
   "outputs": [],
   "source": [
    "assert_equal(compute_maximum(arr_delay), 23)\n",
    "\n",
    "assert_equal(compute_maximum(df1['A']), 4)\n",
    "assert_equal(compute_maximum(df1['B']), 4)\n",
    "assert_equal(compute_maximum(df1['C']), 4)\n",
    "assert_equal(compute_maximum(df1['D']), 11)"
   ]
  },
  {
   "cell_type": "markdown",
   "metadata": {
    "deletable": false,
    "nbgrader": {
     "checksum": "48a21a2ca17fe10a2d41886fedc55ef0",
     "grade": false,
     "grade_id": "markdown_7",
     "locked": true,
     "solution": false
    }
   },
   "source": [
    "## Write a function that returns the mean of a column."
   ]
  },
  {
   "cell_type": "code",
   "execution_count": null,
   "metadata": {
    "collapsed": true,
    "deletable": false,
    "nbgrader": {
     "checksum": "6e171cc7927f3b77944dc8c41589eca1",
     "grade": false,
     "grade_id": "mean_answer",
     "locked": false,
     "solution": true
    }
   },
   "outputs": [],
   "source": [
    "def compute_mean(column):\n",
    "    \"\"\"\n",
    "    Computes the mean of 'column'.\n",
    "    \n",
    "    Parameters\n",
    "    ----------\n",
    "    column: A pandas Series object.\n",
    "    \n",
    "    Returns\n",
    "    -------\n",
    "    A float.\n",
    "    \"\"\"\n",
    "    \n",
    "    # YOUR CODE HERE\n",
    "    \n",
    "    return mean"
   ]
  },
  {
   "cell_type": "code",
   "execution_count": null,
   "metadata": {
    "collapsed": false,
    "deletable": false,
    "nbgrader": {
     "checksum": "ca64693fe2effdb37ceb2d569358bc11",
     "grade": false,
     "grade_id": "mean_print",
     "locked": true,
     "solution": false
    }
   },
   "outputs": [],
   "source": [
    "print(compute_mean(arr_delay))"
   ]
  },
  {
   "cell_type": "code",
   "execution_count": null,
   "metadata": {
    "collapsed": false,
    "deletable": false,
    "nbgrader": {
     "checksum": "bceb2a0338149d707c6d9775c8c7bdbb",
     "grade": true,
     "grade_id": "mean_test",
     "locked": true,
     "points": 10,
     "solution": false
    }
   },
   "outputs": [],
   "source": [
    "assert_almost_equal(compute_mean(arr_delay), 10.8)\n",
    "                    \n",
    "assert_almost_equal(compute_mean(df1['A']), 2.0)\n",
    "assert_almost_equal(compute_mean(df1['B']), 2.5)\n",
    "assert_almost_equal(compute_mean(df1['C']), 2.0)\n",
    "assert_almost_equal(compute_mean(df1['D']), 5.6)"
   ]
  },
  {
   "cell_type": "markdown",
   "metadata": {
    "deletable": false,
    "nbgrader": {
     "checksum": "bff0975e21315dcfea287c5dcdf07daf",
     "grade": false,
     "grade_id": "markdown_8",
     "locked": true,
     "solution": false
    }
   },
   "source": [
    "## Write a function that returns the median of a column."
   ]
  },
  {
   "cell_type": "code",
   "execution_count": null,
   "metadata": {
    "collapsed": true,
    "deletable": false,
    "nbgrader": {
     "checksum": "a6c6171a30a1d58e31664e2f52f40f8d",
     "grade": false,
     "grade_id": "median_answer",
     "locked": false,
     "solution": true
    }
   },
   "outputs": [],
   "source": [
    "def compute_median(column):\n",
    "    \"\"\"\n",
    "    Computes the median of 'column'.\n",
    "    \n",
    "    Parameters\n",
    "    ----------\n",
    "    column: A pandas Series object.\n",
    "    \n",
    "    Returns\n",
    "    -------\n",
    "    A float.\n",
    "    \"\"\"\n",
    "    \n",
    "    # YOUR CODE HERE\n",
    "    \n",
    "    return median"
   ]
  },
  {
   "cell_type": "code",
   "execution_count": null,
   "metadata": {
    "collapsed": false,
    "deletable": false,
    "nbgrader": {
     "checksum": "1382a29ab1967df0095471ac6e80b5c9",
     "grade": false,
     "grade_id": "median_print",
     "locked": true,
     "solution": false
    }
   },
   "outputs": [],
   "source": [
    "print(compute_median(arr_delay))"
   ]
  },
  {
   "cell_type": "code",
   "execution_count": null,
   "metadata": {
    "collapsed": false,
    "deletable": false,
    "nbgrader": {
     "checksum": "97c6a879de449f183b554d59354be21a",
     "grade": true,
     "grade_id": "median_test",
     "locked": true,
     "points": 10,
     "solution": false
    }
   },
   "outputs": [],
   "source": [
    "assert_almost_equal(float(compute_median(arr_delay)), 10.0)\n",
    "\n",
    "assert_almost_equal(float(compute_median(df1[['A']])), 2.0)\n",
    "assert_almost_equal(float(compute_median(df1[['B']])), 2.5)\n",
    "assert_almost_equal(float(compute_median(df1[['C']])), 2.0)\n",
    "assert_almost_equal(float(compute_median(df1[['D']])), 5.0)"
   ]
  }
 ],
 "metadata": {
  "kernelspec": {
   "display_name": "Python 3",
   "language": "python",
   "name": "python3"
  },
  "language_info": {
   "codemirror_mode": {
    "name": "ipython",
    "version": 3
   },
   "file_extension": ".py",
   "mimetype": "text/x-python",
   "name": "python",
   "nbconvert_exporter": "python",
   "pygments_lexer": "ipython3",
   "version": "3.5.2"
  }
 },
 "nbformat": 4,
 "nbformat_minor": 1
}
