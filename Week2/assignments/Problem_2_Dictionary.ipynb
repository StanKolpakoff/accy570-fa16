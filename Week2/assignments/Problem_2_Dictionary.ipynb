{
 "cells": [
  {
   "cell_type": "markdown",
   "metadata": {
    "deletable": false,
    "nbgrader": {
     "checksum": "a98c739c45025e75b7a8a39168517825",
     "grade": false,
     "grade_id": "header",
     "locked": true,
     "solution": false
    }
   },
   "source": [
    "A few things you should keep in mind when working on assignments:\n",
    "\n",
    "1. Make sure you fill in any place that says `YOUR CODE HERE`. Do **not** write your answer in anywhere else other than where it says `YOUR CODE HERE`. Anything you write anywhere else will be removed or overwritten by the autograder.\n",
    "\n",
    "2. Before you submit your assignment, make sure everything runs as expected. Go to menubar, select _Kernel_, and restart the kernel and run all cells (_Restart & Run all_).\n",
    "\n",
    "3. Do not change the title (i.e. file name) of this notebook.\n",
    "\n",
    "4. Make sure that you save your work (in the menubar, select _File_ → _Save and CheckPoint_)\n",
    "\n",
    "5. You are allowed to submit an assignment multiple times, but only the most recent submission will be graded."
   ]
  },
  {
   "cell_type": "markdown",
   "metadata": {
    "deletable": false,
    "nbgrader": {
     "checksum": "b129a2524cfde01e6ffb87117c2061ec",
     "grade": false,
     "grade_id": "title",
     "locked": true,
     "solution": false
    }
   },
   "source": [
    "# Problem 2. Dictionary.\n",
    "\n",
    "The goal of this problem is to get you more comfortable with the Python data structures, such as string, tuple, list, and dictionary. We looked at the list in Problem 1. We focus on the _dictionary_ in this problem."
   ]
  },
  {
   "cell_type": "code",
   "execution_count": null,
   "metadata": {
    "collapsed": true,
    "deletable": false,
    "nbgrader": {
     "checksum": "1fafe11cfe4c4d4f7ff938254e16dae6",
     "grade": false,
     "grade_id": "import",
     "locked": true,
     "solution": false
    }
   },
   "outputs": [],
   "source": [
    "from nose.tools import assert_equal, assert_is_instance, assert_true"
   ]
  },
  {
   "cell_type": "markdown",
   "metadata": {
    "deletable": false,
    "nbgrader": {
     "checksum": "2b724cfb333b6c88f6ac1eb2b497ab0e",
     "grade": false,
     "grade_id": "markdown_1",
     "locked": true,
     "solution": false
    }
   },
   "source": [
    "## Write a function that creates a dictionary whose values are as follows.\n",
    "\n",
    "```\n",
    "\"banana\": 5\n",
    "\"apple\": 1.5\n",
    "\"orange\": 2\n",
    "\"pear\": 4\n",
    "```\n",
    "\n",
    "`\"banana\"`, `\"apple\"`, etc. are the keys of the dictionary, and the numbers, `5`, `1.5`, etc., are the values."
   ]
  },
  {
   "cell_type": "code",
   "execution_count": null,
   "metadata": {
    "collapsed": true,
    "deletable": false,
    "nbgrader": {
     "checksum": "acc9ce3349b2783f9ed38a3c35469f3f",
     "grade": false,
     "grade_id": "get_a_dict_of_prices_answer",
     "locked": false,
     "solution": true
    }
   },
   "outputs": [],
   "source": [
    "def get_a_dict_of_prices():\n",
    "    \"\"\"\n",
    "    Returns a dictionary with prices of 4 fruits.\n",
    "    Banana = $4, apple = $1.5, orange = $2, pear = $4.\n",
    "    \"\"\"\n",
    "    \n",
    "    # YOUR CODE HERE\n",
    "    \n",
    "    return prices"
   ]
  },
  {
   "cell_type": "code",
   "execution_count": null,
   "metadata": {
    "collapsed": false,
    "deletable": false,
    "nbgrader": {
     "checksum": "e8741c776668d3d2f93a7e889a124738",
     "grade": false,
     "grade_id": "get_a_dict_of_prices_print",
     "locked": true,
     "solution": false
    }
   },
   "outputs": [],
   "source": [
    "prices = get_a_dict_of_prices()\n",
    "print(prices)"
   ]
  },
  {
   "cell_type": "code",
   "execution_count": null,
   "metadata": {
    "collapsed": false,
    "deletable": false,
    "nbgrader": {
     "checksum": "1fbc95b04bbe021e3c71b853565c8455",
     "grade": true,
     "grade_id": "get_a_dict_of_prices_test1",
     "locked": true,
     "points": 10,
     "solution": false
    }
   },
   "outputs": [],
   "source": [
    "assert_is_instance(prices, dict)\n",
    "\n",
    "assert_equal(len(prices.keys()), 4)\n",
    "assert_true(\"banana\" in prices)\n",
    "assert_true(\"apple\" in prices)\n",
    "assert_true(\"orange\" in prices)\n",
    "assert_true(\"pear\" in prices)\n",
    "\n",
    "assert_equal(len(prices.values()), 4)\n",
    "assert_equal(set(prices.values()), set([5, 1.5, 2, 4]))"
   ]
  },
  {
   "cell_type": "markdown",
   "metadata": {
    "deletable": false,
    "nbgrader": {
     "checksum": "94da0eb69507f5ca018f3f571bc5223e",
     "grade": false,
     "grade_id": "markdown_2",
     "locked": true,
     "solution": false
    }
   },
   "source": [
    "## Write a function that takes a dictionary and returns the price of banana.\n",
    "\n",
    "Assume that `banana` is always one of the keys of the dictionary.\n",
    "\n",
    "Sample output:\n",
    "\n",
    "```python\n",
    ">>> print(get_price_of_banana(prices))\n",
    "```\n",
    "```\n",
    "5\n",
    "```"
   ]
  },
  {
   "cell_type": "code",
   "execution_count": null,
   "metadata": {
    "collapsed": true,
    "deletable": false,
    "nbgrader": {
     "checksum": "3dc5d78d950c8cbb787d2a04d907bed1",
     "grade": false,
     "grade_id": "get_price_of_banana_answer",
     "locked": false,
     "solution": true
    }
   },
   "outputs": [],
   "source": [
    "def get_price_of_banana(a_dictionary):\n",
    "    \"\"\"\n",
    "    Returns the price of banana. 'a_dictionary' has the key 'banana'.\n",
    "    \n",
    "    Parameters\n",
    "    ----------\n",
    "    a_dictionary: A dict. One of its keys is 'banana'.\n",
    "    \n",
    "    Returns\n",
    "    -------\n",
    "    An int. Price of banana.\n",
    "    \"\"\"\n",
    "    \n",
    "    # YOUR CODE HERE\n",
    "    \n",
    "    return price"
   ]
  },
  {
   "cell_type": "code",
   "execution_count": null,
   "metadata": {
    "collapsed": false,
    "deletable": false,
    "nbgrader": {
     "checksum": "7f9cb7ab156f10587328d51238646e88",
     "grade": false,
     "grade_id": "get_price_of_banana",
     "locked": true,
     "solution": false
    }
   },
   "outputs": [],
   "source": [
    "print(get_price_of_banana(prices))"
   ]
  },
  {
   "cell_type": "code",
   "execution_count": null,
   "metadata": {
    "collapsed": false,
    "deletable": false,
    "nbgrader": {
     "checksum": "c0dcf0299a68a60b417de5dda0550996",
     "grade": true,
     "grade_id": "get_price_of_banana_test",
     "locked": true,
     "points": 10,
     "solution": false
    }
   },
   "outputs": [],
   "source": [
    "assert_equal(get_price_of_banana(prices), 5)\n",
    "\n",
    "# test some more cases\n",
    "assert_equal(get_price_of_banana({\"banana\": 6, \"placeholder1\": 1}), 6)\n",
    "assert_equal(get_price_of_banana({\"banana\": 7, \"placeholder2\": 2, \"placeholder3\": 3}), 7)"
   ]
  },
  {
   "cell_type": "markdown",
   "metadata": {
    "deletable": false,
    "nbgrader": {
     "checksum": "53eb173741cab028f49f8d860ac3e0ba",
     "grade": false,
     "grade_id": "markdown_3",
     "locked": true,
     "solution": false
    }
   },
   "source": [
    "Now the `get_price_of_banana` function that we have just written will work only on bananas. We also have apples, oranges, and pears. But using the same approach to get their prices, we will have to write three more functions (that look very similar). If we think about it, the keys (i.e. `banana`, `apple`, `orange`, and `pear`) are variables, and we can combine the four cases and generalize the previous function to handle any arbitrary keys, by using another parameter in the function.\n",
    "\n",
    "## Write a function that takes _two_ parameters, `prices` (a dictionary) and `item` (a string), and returns the price of the item.\n",
    "\n",
    "Assume that the item you are searching for will always be in the dictionary.\n",
    "\n",
    "Sample output:\n",
    "\n",
    "```python\n",
    ">>> print(get_price_of_item(prices, \"banana\"))\n",
    "```\n",
    "```\n",
    "5\n",
    "```\n",
    "```python\n",
    ">>> print(get_price_of_item(prices, \"apple\"))\n",
    "```\n",
    "```\n",
    "1.5\n",
    "```\n",
    "```python\n",
    ">>> print(get_price_of_item(prices, \"orange\"))\n",
    "```\n",
    "```\n",
    "2\n",
    "```\n",
    "```python\n",
    ">>> print(get_price_of_item(prices, \"pear\"))\n",
    "```\n",
    "```\n",
    "4\n",
    "```"
   ]
  },
  {
   "cell_type": "code",
   "execution_count": null,
   "metadata": {
    "collapsed": true,
    "deletable": false,
    "nbgrader": {
     "checksum": "8f0befdb67f4f3795a4a2c548e8fe678",
     "grade": false,
     "grade_id": "get_price_of_item_answer",
     "locked": false,
     "solution": true
    }
   },
   "outputs": [],
   "source": [
    "def get_price_of_item(a_dictionary, item):\n",
    "    \"\"\"\n",
    "    Returns the value (price) of 'item' (fruit).\n",
    "    \n",
    "    Parameters\n",
    "    ----------\n",
    "    a_dictionary: A dict.\n",
    "    \n",
    "    Returns\n",
    "    -------\n",
    "    An int. \n",
    "    \"\"\"\n",
    "    \n",
    "    # YOUR CODE HERE\n",
    "    \n",
    "    return price"
   ]
  },
  {
   "cell_type": "code",
   "execution_count": null,
   "metadata": {
    "collapsed": false,
    "deletable": false,
    "nbgrader": {
     "checksum": "03ac5ce57e43f27d7df8bdf2d87c4fef",
     "grade": false,
     "grade_id": "get_price_of_item_print",
     "locked": true,
     "points": 10,
     "solution": false
    }
   },
   "outputs": [],
   "source": [
    "print(get_price_of_item(prices, \"banana\"))\n",
    "print(get_price_of_item(prices, \"apple\"))\n",
    "print(get_price_of_item(prices, \"orange\"))\n",
    "print(get_price_of_item(prices, \"pear\"))"
   ]
  },
  {
   "cell_type": "code",
   "execution_count": null,
   "metadata": {
    "collapsed": false,
    "deletable": false,
    "nbgrader": {
     "checksum": "1811c177ed25eaf9850571011622553f",
     "grade": true,
     "grade_id": "get_price_of_item_test",
     "locked": true,
     "points": 10,
     "solution": false
    }
   },
   "outputs": [],
   "source": [
    "assert_equal(get_price_of_item(prices, \"banana\"), 5)\n",
    "assert_equal(get_price_of_item(prices, \"apple\"), 1.5)\n",
    "assert_equal(get_price_of_item(prices, \"orange\"), 2)\n",
    "assert_equal(get_price_of_item(prices, \"pear\"), 4)\n",
    "\n",
    "### test some more cases\n",
    "assert_equal(get_price_of_item({\"banana\": 6, \"apple\": 1}, \"banana\"), 6)\n",
    "assert_equal(get_price_of_item({\"banana\": 6, \"apple\": 1}, \"apple\"), 1)\n",
    "assert_equal(get_price_of_item({\"banana\": 7, \"apple\": 2, \"orange\": 3}, \"banana\"), 7)\n",
    "assert_equal(get_price_of_item({\"banana\": 7, \"apple\": 2, \"orange\": 3}, \"apple\"), 2)\n",
    "assert_equal(get_price_of_item({\"banana\": 7, \"apple\": 2, \"orange\": 3}, \"orange\"), 3)"
   ]
  }
 ],
 "metadata": {
  "kernelspec": {
   "display_name": "Python 3",
   "language": "python",
   "name": "python3"
  },
  "language_info": {
   "codemirror_mode": {
    "name": "ipython",
    "version": 3
   },
   "file_extension": ".py",
   "mimetype": "text/x-python",
   "name": "python",
   "nbconvert_exporter": "python",
   "pygments_lexer": "ipython3",
   "version": "3.5.2"
  }
 },
 "nbformat": 4,
 "nbformat_minor": 1
}
