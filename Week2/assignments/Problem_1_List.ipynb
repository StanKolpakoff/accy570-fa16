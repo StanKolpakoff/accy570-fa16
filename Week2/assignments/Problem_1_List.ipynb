{
 "cells": [
  {
   "cell_type": "markdown",
   "metadata": {
    "deletable": false,
    "nbgrader": {
     "checksum": "a98c739c45025e75b7a8a39168517825",
     "grade": false,
     "grade_id": "header",
     "locked": true,
     "solution": false
    }
   },
   "source": [
    "A few things you should keep in mind when working on assignments:\n",
    "\n",
    "1. Make sure you fill in any place that says `YOUR CODE HERE`. Do **not** write your answer in anywhere else other than where it says `YOUR CODE HERE`. Anything you write anywhere else will be removed or overwritten by the autograder.\n",
    "\n",
    "2. Before you submit your assignment, make sure everything runs as expected. Go to menubar, select _Kernel_, and restart the kernel and run all cells (_Restart & Run all_).\n",
    "\n",
    "3. Do not change the title (i.e. file name) of this notebook.\n",
    "\n",
    "4. Make sure that you save your work (in the menubar, select _File_ → _Save and CheckPoint_)\n",
    "\n",
    "5. You are allowed to submit an assignment multiple times, but only the most recent submission will be graded."
   ]
  },
  {
   "cell_type": "markdown",
   "metadata": {
    "deletable": false,
    "nbgrader": {
     "checksum": "f8394be7b9470383f208433f4c501fcb",
     "grade": false,
     "grade_id": "title",
     "locked": true,
     "solution": false
    }
   },
   "source": [
    "# Problem 1. List\n",
    "\n",
    "The goal of this problem is to get you more comfortable with the Python data structures, such as string, tuple, list, and dictionary. We focus on the _list_ in this problem, and we will focus on the _dictionary_ in Problem 2.\n",
    "\n",
    "Let's start with an import statement. Again, you don't have to know what the `nose` library does. It is just a libarry with useful testing tools."
   ]
  },
  {
   "cell_type": "code",
   "execution_count": null,
   "metadata": {
    "collapsed": true,
    "deletable": false,
    "nbgrader": {
     "checksum": "1d0aedbc0bb058a79b6d3800ab205de9",
     "grade": false,
     "grade_id": "import",
     "locked": true,
     "solution": false
    }
   },
   "outputs": [],
   "source": [
    "from nose.tools import assert_equal, assert_true, assert_is_instance"
   ]
  },
  {
   "cell_type": "markdown",
   "metadata": {
    "deletable": false,
    "nbgrader": {
     "checksum": "2db066011d1e35ea135c3dbacd00b96e",
     "grade": false,
     "grade_id": "markdown_1",
     "locked": true,
     "solution": false
    }
   },
   "source": [
    "## Write a function that returns a list of all odd numbers between 0 and 10 in increasing order, i.e. 1, 3, 5, 7, and 9.\n",
    "\n",
    "There are several ways to create a list. As long as your function returns the correct list and the code cell with tests (`assert...`) does not produce any errors, all methods are correct and there is no wrong way to do it (but it can be argued that some methods are more concise and/or more efficient than others). To create the list, you can use any of the following approaches:\n",
    "\n",
    "- You can always type in the values by hand and enclose them with square brackets.\n",
    "- You can also use a regular `for` loop as follows. Start with an empty list, use a loop to go from 0 to 10, check if the current number is an odd integer, and if so, append to the list.\n",
    "- You can use list comprehensions. List comprehensions were covered in the [Flow Control notebook](https://github.com/UI-DataScience/accy570-fa16/blob/master/Week1/notebooks/flowcontrolpy.ipynb) and also in [Dive into Python 3](http://www.diveintopython3.net/comprehensions.html).\n",
    "- You can use a combination of `list()` and `range()`.\n",
    "- Or, any other methods that produce the desired result.\n",
    "\n",
    "Sample output:\n",
    "\n",
    "```python\n",
    ">>> odd_integers = get_some_odd_integers()\n",
    ">>> print(odd_integers)\n",
    "```\n",
    "```\n",
    "[1, 3, 5, 7, 9]\n",
    "```"
   ]
  },
  {
   "cell_type": "code",
   "execution_count": null,
   "metadata": {
    "collapsed": false,
    "deletable": false,
    "nbgrader": {
     "checksum": "e7cdf773693806bf4b7a099d933fc81b",
     "grade": false,
     "grade_id": "get_some_odd_integers_answer",
     "locked": false,
     "solution": true
    }
   },
   "outputs": [],
   "source": [
    "def get_some_odd_integers():\n",
    "    \"\"\"\n",
    "    Returns a list of all odd numbers between 0 and 10 in increasing order.\n",
    "    That is, this function always returns the list [1, 3, 5, 7, 9].\n",
    "    \"\"\"\n",
    "    \n",
    "    # YOUR CODE HERE\n",
    "    \n",
    "    return result"
   ]
  },
  {
   "cell_type": "markdown",
   "metadata": {
    "deletable": false,
    "nbgrader": {
     "checksum": "e68f08b27f13c6c98cb02be260ed28aa",
     "grade": false,
     "grade_id": "markdown_2",
     "locked": true,
     "solution": false
    }
   },
   "source": [
    "The easiest way to check if the output is correct is to simply print out the result. The following code cell stores the output of the `get_some_odd_integers()` function in a variable named `odd_integers`, and we visually check if our function is correct by printing it on the screen."
   ]
  },
  {
   "cell_type": "code",
   "execution_count": null,
   "metadata": {
    "collapsed": false,
    "deletable": false,
    "nbgrader": {
     "checksum": "6c42e022f63dbf1b4657f4a4d5cc6da7",
     "grade": false,
     "grade_id": "get_some_odd_integers_print",
     "locked": true,
     "solution": false
    }
   },
   "outputs": [],
   "source": [
    "odd_integers = get_some_odd_integers()\n",
    "print(odd_integers)"
   ]
  },
  {
   "cell_type": "markdown",
   "metadata": {
    "deletable": false,
    "nbgrader": {
     "checksum": "1e69ac5f11c3f0858c235869c1f994ec",
     "grade": false,
     "grade_id": "markdown_3",
     "locked": true,
     "solution": false
    }
   },
   "source": [
    "Test your function by running the following code cell. If the code cell runs without an error, that means your solution is correct.\n",
    "\n",
    "As always, you don't have to understand what `assert_is_instance`, `assert_true`, etc. mean. Just make sure that you don't see any errors when you run it, and if it gives you an error, use the error message as a clue to fix your code."
   ]
  },
  {
   "cell_type": "code",
   "execution_count": null,
   "metadata": {
    "collapsed": false,
    "deletable": false,
    "nbgrader": {
     "checksum": "f0658072ff4b42dada0565bb2098f2db",
     "grade": true,
     "grade_id": "get_some_odd_integers_test",
     "locked": true,
     "points": 10,
     "solution": false
    }
   },
   "outputs": [],
   "source": [
    "assert_is_instance(odd_integers, list)\n",
    "assert_true(all([isinstance(i, int) for i in odd_integers]))\n",
    "assert_true(0 not in odd_integers)\n",
    "assert_true(1 in odd_integers)\n",
    "assert_true(2 not in odd_integers)\n",
    "assert_true(3 in odd_integers)\n",
    "assert_true(4 not in odd_integers)\n",
    "assert_true(5 in odd_integers)\n",
    "assert_true(6 not in odd_integers)\n",
    "assert_true(7 in odd_integers)\n",
    "assert_true(8 not in odd_integers)\n",
    "assert_true(9 in odd_integers)\n",
    "assert_true(10 not in odd_integers)"
   ]
  },
  {
   "cell_type": "markdown",
   "metadata": {
    "deletable": false,
    "nbgrader": {
     "checksum": "4261aaeb00b4fe1a04d3aba79c0fd1e3",
     "grade": false,
     "grade_id": "markdown_4",
     "locked": true,
     "points": 10,
     "solution": false
    }
   },
   "source": [
    "## Write a function named `tail` that returns the last value of a list.\n",
    "\n",
    "For example, when we use the `tail` function on `[1, 3, 5, 7, 9]`, it should return `9`, and when we have `[2, 3, 5, 7, 11]`, it should return `11`.\n",
    "\n",
    "Sample output:\n",
    "```python\n",
    ">>> data = [2, 3, 5, 7, 11]\n",
    ">>> print(tail(data))\n",
    "```\n",
    "```\n",
    "11\n",
    "```"
   ]
  },
  {
   "cell_type": "code",
   "execution_count": null,
   "metadata": {
    "collapsed": false,
    "deletable": false,
    "nbgrader": {
     "checksum": "3fc05b5ee33fad67a739666c0f44302a",
     "grade": false,
     "grade_id": "tail_answer",
     "locked": false,
     "solution": true
    }
   },
   "outputs": [],
   "source": [
    "def tail(a_list):\n",
    "    \"\"\"\n",
    "    Takes a list and returns the last value.\n",
    "    \n",
    "    Parameters\n",
    "    ----------\n",
    "    a_list: An arbitrary list of integers.\n",
    "    \n",
    "    Returns\n",
    "    -------\n",
    "    An integer. The last value of 'a_list'.\n",
    "    \"\"\"\n",
    "    \n",
    "    # YOUR CODE HERE\n",
    "    \n",
    "    return result"
   ]
  },
  {
   "cell_type": "code",
   "execution_count": null,
   "metadata": {
    "collapsed": false,
    "deletable": false,
    "nbgrader": {
     "checksum": "998430d22f043134cab8a830fa7dfa32",
     "grade": false,
     "grade_id": "tail_print",
     "locked": true,
     "solution": false
    }
   },
   "outputs": [],
   "source": [
    "print(tail(odd_integers))"
   ]
  },
  {
   "cell_type": "code",
   "execution_count": null,
   "metadata": {
    "collapsed": false,
    "deletable": false,
    "nbgrader": {
     "checksum": "a4b03135aafffa80c2dd226f140f2934",
     "grade": true,
     "grade_id": "tail_test",
     "locked": true,
     "points": 10,
     "solution": false
    }
   },
   "outputs": [],
   "source": [
    "assert_equal(tail(odd_integers), 9)\n",
    "\n",
    "# test more cases\n",
    "assert_equal(tail([2, 3, 5, 7, 11]), 11)\n",
    "assert_equal(tail([2, 3, 5, 7, 11, 13]), 13)"
   ]
  },
  {
   "cell_type": "markdown",
   "metadata": {
    "deletable": false,
    "nbgrader": {
     "checksum": "1a4400e9aee5d7b7c390194eec2b6522",
     "grade": false,
     "grade_id": "markdown_5",
     "locked": true,
     "solution": false
    }
   },
   "source": [
    "## Write a function named `head` that returns a list with all elements of the given list _except_ the last element.\n",
    "\n",
    "For example, when we use the `head` function on `[1, 3, 5, 7, 9]`, it should return `[1, 3, 5, 7]` (we don't want the `9`). And when we have `[2, 3, 5, 7, 11]`, it should return `[2, 3, 5, 7]` (with no `11`).\n",
    "\n",
    "Sample output:\n",
    "```python\n",
    ">>> data = [2, 3, 5, 7, 11]\n",
    ">>> print(head(data))\n",
    "```\n",
    "```\n",
    "[2, 3, 5, 7]\n",
    "```"
   ]
  },
  {
   "cell_type": "code",
   "execution_count": null,
   "metadata": {
    "collapsed": true,
    "deletable": false,
    "nbgrader": {
     "checksum": "36f7d8883fd75876aeb4a93f1b40a902",
     "grade": false,
     "grade_id": "head_answer",
     "locked": false,
     "solution": true
    }
   },
   "outputs": [],
   "source": [
    "def head(a_list):\n",
    "    \"\"\"\n",
    "    Returns a list that has all elements of 'a_list' but not the last element.\n",
    "    \n",
    "    Parameters\n",
    "    ----------\n",
    "    a_list: An arbitrary list of integers.\n",
    "    \n",
    "    Returns\n",
    "    -------\n",
    "    A list of length, len(a_list) - 1.\n",
    "    \"\"\"\n",
    "    \n",
    "    # YOUR CODE HERE\n",
    "    \n",
    "    return result"
   ]
  },
  {
   "cell_type": "code",
   "execution_count": null,
   "metadata": {
    "collapsed": false,
    "deletable": false,
    "nbgrader": {
     "checksum": "9ffb13da49faaa07d51d05dc6671f779",
     "grade": false,
     "grade_id": "head_print",
     "locked": true,
     "solution": false
    }
   },
   "outputs": [],
   "source": [
    "print(head(odd_integers))"
   ]
  },
  {
   "cell_type": "code",
   "execution_count": null,
   "metadata": {
    "collapsed": false,
    "deletable": false,
    "nbgrader": {
     "checksum": "2836c2ffde339e43f5b7fbc7370d9574",
     "grade": true,
     "grade_id": "head_test",
     "locked": true,
     "points": 10,
     "solution": false
    }
   },
   "outputs": [],
   "source": [
    "assert_is_instance(head(odd_integers), list)\n",
    "assert_true(1 in head(odd_integers))\n",
    "assert_true(3 in head(odd_integers))\n",
    "assert_true(5 in head(odd_integers))\n",
    "assert_true(7 in head(odd_integers))\n",
    "assert_true(9 not in head(odd_integers))\n",
    "\n",
    "# test one more case\n",
    "assert_equal(head([2, 3, 5, 7, 11]), [2, 3, 5, 7])\n",
    "assert_equal(head([2, 3, 5, 7, 11, 13]), [2, 3, 5, 7, 11])"
   ]
  }
 ],
 "metadata": {
  "kernelspec": {
   "display_name": "Python 3",
   "language": "python",
   "name": "python3"
  },
  "language_info": {
   "codemirror_mode": {
    "name": "ipython",
    "version": 3
   },
   "file_extension": ".py",
   "mimetype": "text/x-python",
   "name": "python",
   "nbconvert_exporter": "python",
   "pygments_lexer": "ipython3",
   "version": "3.5.2"
  }
 },
 "nbformat": 4,
 "nbformat_minor": 1
}
