{
 "cells": [
  {
   "cell_type": "markdown",
   "metadata": {
    "deletable": false,
    "nbgrader": {
     "checksum": "a98c739c45025e75b7a8a39168517825",
     "grade": false,
     "grade_id": "header",
     "locked": true,
     "solution": false
    }
   },
   "source": [
    "A few things you should keep in mind when working on assignments:\n",
    "\n",
    "1. Make sure you fill in any place that says `YOUR CODE HERE`. Do **not** write your answer in anywhere else other than where it says `YOUR CODE HERE`. Anything you write anywhere else will be removed or overwritten by the autograder.\n",
    "\n",
    "2. Before you submit your assignment, make sure everything runs as expected. Go to menubar, select _Kernel_, and restart the kernel and run all cells (_Restart & Run all_).\n",
    "\n",
    "3. Do not change the title (i.e. file name) of this notebook.\n",
    "\n",
    "4. Make sure that you save your work (in the menubar, select _File_ → _Save and CheckPoint_)\n",
    "\n",
    "5. You are allowed to submit an assignment multiple times, but only the most recent submission will be graded."
   ]
  },
  {
   "cell_type": "markdown",
   "metadata": {
    "deletable": false,
    "nbgrader": {
     "checksum": "9f0887743d5ec3758e9efb29c4732d31",
     "grade": false,
     "grade_id": "title",
     "locked": true,
     "solution": false
    }
   },
   "source": [
    "# Problem 4. Numpy.\n",
    "\n",
    "In this problem, we will repeat the same tasks in Problem 1, but we will use Numpy arrays instead of lists."
   ]
  },
  {
   "cell_type": "code",
   "execution_count": null,
   "metadata": {
    "collapsed": true,
    "deletable": false,
    "nbgrader": {
     "checksum": "620d5ec8557ff271dfc14ba8f07aa3b2",
     "grade": false,
     "grade_id": "import",
     "locked": true,
     "solution": false
    }
   },
   "outputs": [],
   "source": [
    "import numpy as np\n",
    "from nose.tools import assert_equal, assert_is_instance\n",
    "from numpy.testing import assert_array_equal"
   ]
  },
  {
   "cell_type": "markdown",
   "metadata": {
    "deletable": false,
    "nbgrader": {
     "checksum": "b08cfd71e9166c3aa213861947214fcd",
     "grade": false,
     "grade_id": "markdown_1",
     "locked": true,
     "solution": false
    }
   },
   "source": [
    "## Write a function that returns a Numpy array of all odd numbers between 0 and 10 in increasing order, i.e. 1, 3, 5, 7, and 9.\n",
    "\n",
    "There are several ways to do this. Again, as long as your function returns the correct array and the code cell with tests (`assert...`) does not produce any errors, all methods are correct and there is no wrong way to do it. To create the array, you can use any of the following approaches:\n",
    "\n",
    "- You can create a Python list and convert it to a numpy array using `np.array()`.\n",
    "- You can use `np.arange()` and specify the step size.\n",
    "- You can also use `np.linspace()`.\n",
    "- Or, any other methods that produce the desired result.\n",
    "\n",
    "Sample output:\n",
    "\n",
    "```python\n",
    ">>> odd_integers = get_some_odd_integers()\n",
    ">>> print(odd_integers)\n",
    "```\n",
    "```\n",
    "[1 3 5 7 9]\n",
    "```\n",
    "```python\n",
    ">>> print(type(odd_integers))\n",
    "```\n",
    "```\n",
    "<class 'numpy.ndarray'>\n",
    "```"
   ]
  },
  {
   "cell_type": "code",
   "execution_count": null,
   "metadata": {
    "collapsed": false,
    "deletable": false,
    "nbgrader": {
     "checksum": "1ccee597d49c34a815bc821f2f527ad5",
     "grade": false,
     "grade_id": "get_some_odd_integers_answer",
     "locked": false,
     "solution": true
    }
   },
   "outputs": [],
   "source": [
    "def get_some_odd_integers():\n",
    "    \"\"\"\n",
    "    Returns a Numpy array of all odd numbers between 0 and 10 in increasing order.\n",
    "    That is, this function always returns the array [1, 3, 5, 7, 9].\n",
    "    \"\"\"\n",
    "    \n",
    "    # YOUR CODE HERE\n",
    "    \n",
    "    return result"
   ]
  },
  {
   "cell_type": "code",
   "execution_count": null,
   "metadata": {
    "collapsed": false,
    "deletable": false,
    "nbgrader": {
     "checksum": "401ffa2b7d3be5f9d0002995d36b30bc",
     "grade": false,
     "grade_id": "get_some_odd_integers_print",
     "locked": true,
     "solution": false
    }
   },
   "outputs": [],
   "source": [
    "odd_integers = get_some_odd_integers()\n",
    "print(odd_integers)\n",
    "print(type(odd_integers))"
   ]
  },
  {
   "cell_type": "code",
   "execution_count": null,
   "metadata": {
    "collapsed": true,
    "deletable": false,
    "nbgrader": {
     "checksum": "b316cf200a5cb909b174d20b428171d7",
     "grade": true,
     "grade_id": "get_some_odd_integers_test",
     "locked": true,
     "points": 10,
     "solution": false
    }
   },
   "outputs": [],
   "source": [
    "assert_is_instance(odd_integers, np.ndarray)\n",
    "assert_array_equal(odd_integers, [1, 3, 5, 7, 9])"
   ]
  },
  {
   "cell_type": "markdown",
   "metadata": {
    "collapsed": true,
    "deletable": false,
    "nbgrader": {
     "checksum": "69602e3ae51308f7bd2c57190474388e",
     "grade": false,
     "grade_id": "markdown_2",
     "locked": true,
     "solution": false
    }
   },
   "source": [
    "## Write a function named `tail` that returns the last value of an array.\n",
    "\n",
    "For example, when we use the `tail` function on the array `[1 3 5 7 9]`, it should return `9`, and when we have the array `[2 3 5 7 11]`, it should return `11`.\n",
    "\n",
    "Sample output:\n",
    "```python\n",
    ">>> print(tail(odd_integers))\n",
    "```\n",
    "```\n",
    "9\n",
    "```"
   ]
  },
  {
   "cell_type": "code",
   "execution_count": null,
   "metadata": {
    "collapsed": true,
    "deletable": false,
    "nbgrader": {
     "checksum": "02b09ab6cd2ed735d2b0e057c97d2ae4",
     "grade": false,
     "grade_id": "tail_answer",
     "locked": false,
     "solution": true
    }
   },
   "outputs": [],
   "source": [
    "def tail(array):\n",
    "    \"\"\"\n",
    "    Takes an array and returns the last value.\n",
    "    \n",
    "    Parameters\n",
    "    ----------\n",
    "    array: An arbitrary array of integers.\n",
    "    \n",
    "    Returns\n",
    "    -------\n",
    "    An integer. The last value of 'array'.\n",
    "    \"\"\"\n",
    "    \n",
    "    # YOUR CODE HERE\n",
    "    \n",
    "    return result"
   ]
  },
  {
   "cell_type": "code",
   "execution_count": null,
   "metadata": {
    "collapsed": false,
    "deletable": false,
    "nbgrader": {
     "checksum": "b07d4aadac3bd7bf416e046700c57442",
     "grade": false,
     "grade_id": "markdown_3",
     "locked": true,
     "solution": false
    }
   },
   "outputs": [],
   "source": [
    "print(tail(odd_integers))"
   ]
  },
  {
   "cell_type": "code",
   "execution_count": null,
   "metadata": {
    "collapsed": false,
    "deletable": false,
    "nbgrader": {
     "checksum": "db1e658abe8413c6c77004ff3dfdbda5",
     "grade": true,
     "grade_id": "tail_test",
     "locked": true,
     "points": 10,
     "solution": false
    }
   },
   "outputs": [],
   "source": [
    "assert_equal(tail(odd_integers), 9)\n",
    "\n",
    "# test more cases\n",
    "assert_equal(tail(np.array([2, 3, 5, 7, 11])), 11)\n",
    "assert_equal(tail(np.array([2, 3, 5, 7, 11, 13])), 13)"
   ]
  },
  {
   "cell_type": "markdown",
   "metadata": {
    "deletable": false,
    "nbgrader": {
     "checksum": "7affcf257aedd21f8331265fbf9d6b81",
     "grade": false,
     "grade_id": "markdown_4",
     "locked": true,
     "solution": false
    }
   },
   "source": [
    "## Write a function named `head` that returns an array with all elements of the given array _except_ the last element.\n",
    "\n",
    "For example, when we use the `head` function on `[1 3 5 7 9]`, it should return `[1 3 5 7]` (we don't want the `9`). And when we have `[2 3 5 7 11]`, it should return `[2 3 5 7]` (with no `11`).\n",
    "\n",
    "Sample output:\n",
    "```python\n",
    ">>> print(head(odd_integers))\n",
    "```\n",
    "```\n",
    "[1 3 5 7]\n",
    "```"
   ]
  },
  {
   "cell_type": "code",
   "execution_count": null,
   "metadata": {
    "collapsed": true,
    "deletable": false,
    "nbgrader": {
     "checksum": "f50e848006b90063a38b1360b4116cab",
     "grade": false,
     "grade_id": "head_answer",
     "locked": false,
     "solution": true
    }
   },
   "outputs": [],
   "source": [
    "def head(array):\n",
    "    \"\"\"\n",
    "    Returns an array that has all elements of 'array' but not the last element.\n",
    "    \n",
    "    Parameters\n",
    "    ----------\n",
    "    array: An arbitrary array of integers.\n",
    "    \n",
    "    Returns\n",
    "    -------\n",
    "    An array of length, len(array) - 1.\n",
    "    \"\"\"\n",
    "    \n",
    "    # YOUR CODE HERE\n",
    "    \n",
    "    return result"
   ]
  },
  {
   "cell_type": "code",
   "execution_count": null,
   "metadata": {
    "collapsed": false,
    "deletable": false,
    "nbgrader": {
     "checksum": "9ffb13da49faaa07d51d05dc6671f779",
     "grade": false,
     "grade_id": "head_print",
     "locked": true,
     "solution": false
    }
   },
   "outputs": [],
   "source": [
    "print(head(odd_integers))"
   ]
  },
  {
   "cell_type": "code",
   "execution_count": null,
   "metadata": {
    "collapsed": false,
    "deletable": false,
    "nbgrader": {
     "checksum": "da1b45d872d3920bb7f65ecb1bbf58fe",
     "grade": true,
     "grade_id": "head_test",
     "locked": true,
     "points": 10,
     "solution": false
    }
   },
   "outputs": [],
   "source": [
    "assert_is_instance(head(odd_integers), np.ndarray)\n",
    "assert_array_equal(head(odd_integers), [1, 3, 5, 7])\n",
    "\n",
    "# test one more case\n",
    "assert_array_equal(head(np.array([2, 3, 5, 7, 11])), [2, 3, 5, 7])\n",
    "assert_array_equal(head(np.array([2, 3, 5, 7, 11, 13])), [2, 3, 5, 7, 11])"
   ]
  }
 ],
 "metadata": {
  "kernelspec": {
   "display_name": "Python 3",
   "language": "python",
   "name": "python3"
  },
  "language_info": {
   "codemirror_mode": {
    "name": "ipython",
    "version": 3
   },
   "file_extension": ".py",
   "mimetype": "text/x-python",
   "name": "python",
   "nbconvert_exporter": "python",
   "pygments_lexer": "ipython3",
   "version": "3.5.2"
  }
 },
 "nbformat": 4,
 "nbformat_minor": 1
}
